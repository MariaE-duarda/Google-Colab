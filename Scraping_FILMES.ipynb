{
  "nbformat": 4,
  "nbformat_minor": 0,
  "metadata": {
    "colab": {
      "private_outputs": true,
      "provenance": [],
      "authorship_tag": "ABX9TyO/HWX1z9z/MB6JkPYmyng3"
    },
    "kernelspec": {
      "name": "python3",
      "display_name": "Python 3"
    },
    "language_info": {
      "name": "python"
    }
  },
  "cells": [
    {
      "cell_type": "code",
      "source": [
        "!pip install selenium"
      ],
      "metadata": {
        "id": "KAQLCgxJgh_n"
      },
      "execution_count": null,
      "outputs": []
    },
    {
      "cell_type": "code",
      "execution_count": null,
      "metadata": {
        "id": "o3ICJ0lYgPck"
      },
      "outputs": [],
      "source": [
        "from selenium import webdriver\n",
        "from bs4 import BeautifulSoup\n",
        "import requests\n",
        "import pandas as pd\n"
      ]
    },
    {
      "cell_type": "code",
      "source": [
        "site = requests.get('https://m.imdb.com/feature/genre/?ref_=nv_ch_gr')\n",
        "\n",
        "\n",
        "def pegar_link(reqs):\n",
        "    all_links = []\n",
        "    site = reqs.content\n",
        "    html_categoria = BeautifulSoup(site, 'html.parser')\n",
        "    div_images = html_categoria.findAll('div', attrs={'class': 'image'})\n",
        "    for div_image in div_images:\n",
        "        link1 = div_image.find('a')\n",
        "        link1 = link1['href']\n",
        "        site2 = requests.get(f'{link1}')\n",
        "        site2 = site2.content\n",
        "        html_next = BeautifulSoup(site2,'html.parser')\n",
        "        selector_link = html_next.find('a',  attrs={'class': 'lister-page-next next-page'})\n",
        "        link2 = 'https://www.imdb.com/' + selector_link['href']\n",
        "        all_links.append([link1, link2])\n",
        "    return all_links"
      ],
      "metadata": {
        "id": "_eIvigpcgk-G"
      },
      "execution_count": null,
      "outputs": []
    },
    {
      "cell_type": "code",
      "source": [
        "def pegar_dados(info):\n",
        "    dados = []\n",
        "    for lista_links in info:\n",
        "        for x in range(0, 2):\n",
        "            link = requests.get(f'{lista_links[x]}')\n",
        "            link = link.content\n",
        "            site = BeautifulSoup(link, 'html.parser')\n",
        "            filmes = site.findAll('div', attrs={'class': 'lister-item mode-advanced'})\n",
        "            \n",
        "            for filme in filmes:\n",
        "                #Obtendo as tag dos valores\n",
        "                cabecalho_filme = filme.find('h3', attrs={'class': 'lister-item-header'})\n",
        "                ano_lancamento = cabecalho_filme.find('span', attrs={'class': 'lister-item-year text-muted unbold'})\n",
        "                titulo = cabecalho_filme.find('a')\n",
        "                descricao = filme.findAll('p', attrs={'class': 'text-muted'})[1]\n",
        "                diretor = filme.find('p', attrs={'class': ''})\n",
        "                genero = filme.find('span', attrs={'class': 'genre'})\n",
        "\n",
        "                #tratando os erros antes de inserir na list\n",
        "                if 'I' in ano_lancamento.text:\n",
        "                    ano_lancamento = ano_lancamento.text[5:9]\n",
        "                else:\n",
        "                    ano_lancamento = ano_lancamento.text[1:5]\n",
        "\n",
        "                if (filme.find('span', attrs={'name': 'nv'})):\n",
        "                    votos = filme.find('span', attrs={'name': 'nv'})\n",
        "                    votos = votos.text\n",
        "                else:\n",
        "                    votos = ''\n",
        "\n",
        "                if (filme.find('strong')):\n",
        "                    nota = filme.find('strong')\n",
        "                    nota = nota.text\n",
        "                else:\n",
        "                    nota = ''\n",
        "                \n",
        "\n",
        "                if ('Director' in diretor.text):\n",
        "                    new_diretor = ''\n",
        "                    lista_diretor = diretor.text.split()\n",
        "                    for x in range (1, len(lista_diretor)):\n",
        "                        if lista_diretor[x] == '|':\n",
        "                            break\n",
        "                        else:\n",
        "                            new_diretor += lista_diretor[x] + ' '\n",
        "                    new_diretor.strip()\n",
        "                else:\n",
        "                    new_diretor = ''\n",
        "\n",
        "                dados.append([titulo.text, ano_lancamento, descricao.text, nota, new_diretor, votos, genero.text ])\n",
        "    return dados"
      ],
      "metadata": {
        "id": "khoq6GFdgsLh"
      },
      "execution_count": null,
      "outputs": []
    },
    {
      "cell_type": "code",
      "source": [
        "link = pegar_link(site)\n",
        "dados1 = pegar_dados(link)\n",
        "df = pd.DataFrame(dados1, columns=['titulo', 'Ano lançamento', 'Descrição', 'Nota', 'Diretor', 'Votos', 'Genero'])\n",
        "df.to_csv(\"1400-filmes.csv\")\n",
        "print(df)"
      ],
      "metadata": {
        "id": "5dIZC9lzgvM-"
      },
      "execution_count": null,
      "outputs": []
    }
  ]
}