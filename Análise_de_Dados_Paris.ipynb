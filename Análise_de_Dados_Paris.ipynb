{
  "nbformat": 4,
  "nbformat_minor": 0,
  "metadata": {
    "colab": {
      "private_outputs": true,
      "provenance": [],
      "include_colab_link": true
    },
    "kernelspec": {
      "name": "python3",
      "display_name": "Python 3"
    },
    "language_info": {
      "name": "python"
    }
  },
  "cells": [
    {
      "cell_type": "markdown",
      "metadata": {
        "id": "view-in-github",
        "colab_type": "text"
      },
      "source": [
        "<a href=\"https://colab.research.google.com/github/MariaE-duarda/Google-Colab/blob/main/An%C3%A1lise_de_Dados_Paris.ipynb\" target=\"_parent\"><img src=\"https://colab.research.google.com/assets/colab-badge.svg\" alt=\"Open In Colab\"/></a>"
      ]
    },
    {
      "cell_type": "markdown",
      "source": [
        "<img align=\"rigth\" width='150px' src='https://upload.wikimedia.org/wikipedia/commons/thumb/6/69/Airbnb_Logo_B%C3%A9lo.svg/2560px-Airbnb_Logo_B%C3%A9lo.svg.png'> \n"
      ],
      "metadata": {
        "id": "rdG2uHftYRSa"
      }
    },
    {
      "cell_type": "markdown",
      "source": [
        "\n",
        "\n",
        "# __*Análise de Dados do Airbnb - Paris, França*__\n",
        "\n",
        "\n",
        "__Membros da Equipe:__\n",
        "\n",
        "<center> <a href = \"https://github.com/MariaE-duarda\"><img width='290px' src=\"https://img.shields.io/badge/-Maria Eduarda de Araújo Freire-F745B5?style=for-the-badge&logo=github&logoColor=white\" target=\"_blank\"></a>   <a href = \"https://github.com/lucassaraivabrasil\"><img width='202px' src=\"https://img.shields.io/badge/-Lucas Saraiva Brasil-8000FF?style=for-the-badge&logo=github&logoColor=white\" target=\"_blank\"></a>\n",
        "   <a href = \"https://github.com/ravelsoares\"><img width='142px' src=\"https://img.shields.io/badge/-Ravel Soares-FFB800?style=for-the-badge&logo=github&logoColor=white\" target=\"_blank\"></a>\n",
        "   "
      ],
      "metadata": {
        "id": "eSZfRvNnYVVR"
      }
    },
    {
      "cell_type": "markdown",
      "source": [
        "   ![GitHub language count](https://img.shields.io/github/languages/count/MariaE-duarda/Google-Colab?style=for-the-badge)\n",
        "\n",
        "*by [Maria Eduarda de Araújo Freire](https://github.com/MariaE-duarda), [Ravel Soares de Oliveira]() e [Lucas Saraiva Brasil]().*\n",
        "\n",
        "---\n",
        "\n",
        "\n",
        "<img align=\"center\" src='https://images.france.fr/zeaejvyq9bhj/3mFKZntgJGOoQAgu2CgimC/0e7ff35a734fd6107a31a211edd9b90b/paris-2017-home.jpg'>\n",
        "\n",
        "\n",
        "Todo bom negocio nasce de um problema que precisamos resolver. E foi o que aconteceu com o  [Airbnb](https://www.airbnb.com.br/). A ideia surgiu em 2008 quando dois designers hospedarem viajantes que procuravam local para ficar em um espaço sobrando. \n",
        "De acordo com seu site hoje contam com 4 milhões de anfitriões que já receberam mais de 800 milhões de chegadas de hóspedes em cerca de 100 mil cidades em quase todos os países e regiões do mundo.\n",
        "\n",
        "Através do portal [Inside Airbnb](http://insideairbnb.com/get-the-data.html), a Airbnb disponibiliza dados de algumas das principais cidades do mundo. \n",
        "Com a grande quantidade de dados existentes no portal é possível desenvolver projetos de *Data Science*. \n",
        "\n",
        "\n",
        "**O objetivo deste *notebook* é realizar uma análise exploratória dos dados referentes à cidade de Paris na França, e ver quais insights podem ser extraídos a partir de dados brutos.**"
      ],
      "metadata": {
        "id": "mWVLw669Yagl"
      }
    },
    {
      "cell_type": "markdown",
      "source": [
        "<center><img width='40px' src='https://github.com/MariaE-duarda/Imagens/blob/main/France-flag-waving-vector-on-transparent-background-PNG.png?raw=true'> \n",
        "<img width='100px' src='https://upload.wikimedia.org/wikipedia/commons/thumb/6/69/Airbnb_Logo_B%C3%A9lo.svg/2560px-Airbnb_Logo_B%C3%A9lo.svg.png'>"
      ],
      "metadata": {
        "id": "3RfFpC1xYwYz"
      }
    },
    {
      "cell_type": "markdown",
      "source": [
        "# __Conhecendo a cidade de Paris__\n",
        "\n",
        "Além de ser deslumbrante durante o dia, à noite, centenas de edifícios e monumentos, incluindo igrejas, palácios do governo, pontes, estátuas, fontes, hotéis e toda classe de estruturas, ganham um charme especial ao serem iluminados com milhares e milhares de lâmpadas. Para você ter ideia, só na Torre Eiffel, um dos marcos mais icônicos da capital francesa, são cerca de 20 mil luzes que a iluminam todas as noites.\n",
        "\n",
        "<center><img width='900px' src='https://cdn-imgix.headout.com/mircobrands-content/image/4e9ebbf7ff686d29a41f4af39e8386ea-louvre%20museum.jpg?auto=compress%2Cformat&h=573&q=75&fit=crop&ar=16%3A9&fm=webp'>"
      ],
      "metadata": {
        "id": "7fI3iJGoY8L2"
      }
    },
    {
      "cell_type": "markdown",
      "source": [
        "Isso sem contar a época de Natal, quando a localidades é enfeitada com decorações natalinas e uma quantidade extra de luzinhas - só a Champs-Elysées, por exemplo, ganha mais de 2,4 km de lâmpadas, que vão da Place de la Concorde até o Arco do Triunfo. É muita luz! Essas, porém, não são as razões de Paris ser conhecida como \"A Cidade Luz\", sabia? De acordo com Jade Cutte, so site The Culture Trip, na realidade, o apelido tem a ver com o legado histórico da capital francesa."
      ],
      "metadata": {
        "id": "dLRudbQBZC8B"
      }
    },
    {
      "cell_type": "markdown",
      "source": [
        "## __Obtenção dos Dados__\n",
        "\n",
        "Os dados foram obtidos através do site [`Inside Airbnb`](http://insideairbnb.com/get-the-data.html) \n",
        "\n",
        "Esta será uma *análise exploratória* inicial do dados. \n",
        "Arquivo utilizado: \n",
        "\n",
        "\n",
        "*   [`listings.csv`](http://data.insideairbnb.com/canada/on/toronto/2021-01-02/visualisations/listings.csv) - *Summary information and metrics for listings in Paris (good for visualisations).*"
      ],
      "metadata": {
        "id": "ipYBFESvZdqJ"
      }
    },
    {
      "cell_type": "code",
      "execution_count": null,
      "metadata": {
        "id": "R-XZIlWjYIHj"
      },
      "outputs": [],
      "source": [
        "# importa dos pacotes necessarios\n",
        "import pandas as pd\n",
        "import matplotlib.pyplot as plt\n",
        "import missingno as msno\n",
        "import seaborn as sns\n",
        "import numpy as np\n",
        "from wordcloud import WordCloud, STOPWORDS, ImageColorGenerator\n",
        "from PIL import Image\n",
        "import requests\n",
        "!pip install wordcloud -q\n",
        "\n",
        "sns.set_theme(style=\"ticks\", palette=\"pastel\")\n",
        "%matplotlib inline\n"
      ]
    },
    {
      "cell_type": "code",
      "source": [
        "# importa o arquivo listings.csv para um DataFrame\n",
        "df = pd.read_csv(\"/content/listings.csv\")"
      ],
      "metadata": {
        "id": "k0Sq1wk2aYbc"
      },
      "execution_count": null,
      "outputs": []
    },
    {
      "cell_type": "markdown",
      "source": [
        "Observando as 5 primeiras e últimas entradas do dataset."
      ],
      "metadata": {
        "id": "YoNJxHuOawsi"
      }
    },
    {
      "cell_type": "code",
      "source": [
        "# Verifica a estrutura (5 primeiras linhas)\n",
        "df.head(5)\n"
      ],
      "metadata": {
        "id": "10yWJV1Qash7"
      },
      "execution_count": null,
      "outputs": []
    },
    {
      "cell_type": "code",
      "source": [
        "# mostra as 5 últimas entradas\n",
        "df.tail()"
      ],
      "metadata": {
        "id": "FrnCtAd5a2Tr"
      },
      "execution_count": null,
      "outputs": []
    },
    {
      "cell_type": "markdown",
      "source": [
        "## __Análise dos Dados__\n",
        "\n",
        "A etapa inicial de ***análise de dados*** é a mais **importante** em qualquer projeto. \n",
        "\n",
        "É necessário analisarmos os atributos e suas características como: \n",
        "\n",
        "\n",
        "> * `Tipo`;\n",
        "* `Presença de outliers`;\n",
        "* `Identificar o % de dados faltantes`.\n",
        "\n",
        "\n",
        "\n",
        "Muitas vezes com uma análise exploratória bem feita conseguimos responder perguntas e hipóteses iniciais. \n"
      ],
      "metadata": {
        "id": "6F-MQ676bPW2"
      }
    },
    {
      "cell_type": "code",
      "source": [
        "# Quais são as colunas presentes?\n",
        "df.columns"
      ],
      "metadata": {
        "id": "CSVy9qYMb0kY"
      },
      "execution_count": null,
      "outputs": []
    },
    {
      "cell_type": "markdown",
      "source": [
        "**Dicionário das variáveis**\n",
        "\n",
        "> * `id`: número de identificação específico para o imóvel;\n",
        "* `name`: nome do imóvel;\n",
        "* `host_id`: número de identificação específico do anfitrião;\n",
        "* `host_name`: nome do anfitrião;\n",
        "* `neighbourhood_group`: não possui dados válidos;\n",
        "* `neighbourhood`: bairro;\n",
        "* `latitude`: coordenada de latitude do imóvel;\n",
        "* `longitude`: coordenada de longitude do imóvel;\n",
        "* `room_type`: casa inteira/somente quarto;\n",
        "* `price`: preço aluguel;\n",
        "* `minimum_nights`: mínimo de noites para reservar;\n",
        "* `number_of_reviews`: número de reviews do imóvel;\n",
        "* `last_review`: data último review;\n",
        "* `reviews_per_month`: quantidade de reviews por mês;\n",
        "* `calculated_host_listings_count`: número de imóveis por anfitrião;\n",
        "* `availability_365`: disponibilidade dentro de 365 dias.\n",
        "\n"
      ],
      "metadata": {
        "id": "FHNkV-KhcJDj"
      }
    },
    {
      "cell_type": "markdown",
      "source": [
        "### **Quantos atributos e quantas entradas o nosso conjunto de dados possui? Quais os tipos das variáveis?**\n",
        "\n",
        "Analisar o tipo das variáveis é importante para podermos saber como trabalhar com os dados e identificar se faz sentido o tipo da variável para a análise que pretendemos fazer. \n",
        "* Tipo (numérica, categórica, float, int, etc)."
      ],
      "metadata": {
        "id": "txQNuM1edBzI"
      }
    },
    {
      "cell_type": "code",
      "source": [
        "# mostrar volume de dados (linhas e colunas)\n",
        "\n",
        "# linhas\n",
        "print(\"Linhas: {}\".format(df.shape[0]))\n",
        "#colunas\n",
        "print(\"Variáveis: {}\".format(df.shape[1]))\n"
      ],
      "metadata": {
        "id": "s38imYaRb5Iu"
      },
      "execution_count": null,
      "outputs": []
    },
    {
      "cell_type": "markdown",
      "source": [
        "Este dataset apresenta **`56739 linhas`** e **`18 variáveis`**.\n",
        "\n",
        "Agora vamos verificar os tipos das `variáveis`."
      ],
      "metadata": {
        "id": "ln2xH0Brd29A"
      }
    },
    {
      "cell_type": "code",
      "source": [
        "# Verificar tipo das variáveis\n",
        "tipos_de_dados = pd.DataFrame(df.dtypes, columns = ['Tipos de Dados'])\n",
        "print(tipos_de_dados)"
      ],
      "metadata": {
        "id": "t5Pmt1_2eaqn"
      },
      "execution_count": null,
      "outputs": []
    },
    {
      "cell_type": "code",
      "source": [
        "# valores únicos\n",
        "print(\"\\nVALORES ÚNICOS:\")\n",
        "print(df.nunique().sort_values())"
      ],
      "metadata": {
        "id": "qXYTO7Zwe4lN"
      },
      "execution_count": null,
      "outputs": []
    },
    {
      "cell_type": "code",
      "source": [
        "# Tipos de dados nas variáveis \n",
        "df.dtypes.value_counts()"
      ],
      "metadata": {
        "id": "goLG7wnDSeRP"
      },
      "execution_count": null,
      "outputs": []
    },
    {
      "cell_type": "markdown",
      "source": [
        "### **Quais valores ausentes no *dataset*?**\n",
        "\n",
        "Ao identificar a quantidade de dados ausentes podemos verificar a qualidade do *dataset*. \n",
        "\n",
        "A qualidade de um dataset está diretamente relacionada à quantidade de valores ausentes. Ao fazermos essa análise podemos entender se esses valores ausentes/nulos são significativos comparados ao total de entradas."
      ],
      "metadata": {
        "id": "iex2XuA0fWPR"
      }
    },
    {
      "cell_type": "code",
      "source": [
        "# Nosso dataset possui valores ausentes?\n",
        "df.isna().any()"
      ],
      "metadata": {
        "id": "nMSaLDVZS4GU"
      },
      "execution_count": null,
      "outputs": []
    },
    {
      "cell_type": "markdown",
      "source": [
        "\n",
        "\n",
        "> As variáveis **`name`**,**`host_name`**, **`neighbourhood_group`**, **`last_review`** e **`reviews_per_month`** apresentam valores ausentes.\n",
        "\n"
      ],
      "metadata": {
        "id": "kL3T5eTdTCjN"
      }
    },
    {
      "cell_type": "code",
      "source": [
        "# Quantidade de valores faltantes\n",
        "df.isna().sum()"
      ],
      "metadata": {
        "id": "NRul_YYdUNnt"
      },
      "execution_count": null,
      "outputs": []
    },
    {
      "cell_type": "code",
      "source": [
        "# Identificar a quantidade de dados ausentes nas variáveis por percentual e em ordem decrescende de valor ausente\n",
        "\n",
        "(df.isnull().sum() / df.shape[0]*100).sort_values(ascending=False)"
      ],
      "metadata": {
        "id": "F6XJ-X60fs6B"
      },
      "execution_count": null,
      "outputs": []
    },
    {
      "cell_type": "markdown",
      "source": [
        "Para este *dataset*:\n",
        "\n",
        "> * A coluna ***`neighbourhood_group`*** possui 100% dos seus valores faltantes;\n",
        "* A coluna ***`license`*** possui aproximadamente 44% de valores nulos;\n",
        "* Já as colunas ***`reviews_per_month`*** e ***`last_review`*** tem, aproximadamente, 20% dos valores ausentes cada. "
      ],
      "metadata": {
        "id": "nF8LTYD4gge0"
      }
    },
    {
      "cell_type": "code",
      "source": [
        "# visualização das entradas de cada coluna, aqui podemos notar visualmente as colunas com valores NaN\n",
        "msno.bar (df, figsize = (10,5));"
      ],
      "metadata": {
        "id": "Q022EII4Uadq"
      },
      "execution_count": null,
      "outputs": []
    },
    {
      "cell_type": "markdown",
      "source": [
        "> Como vimos anteriormente, nosso dataset possui 56739 entradas. E analisando os valores ausentes no comando anterior notamos que a variável neighbourhood_group não tem dados. Sendo assim, ela não acrescentará em nada na nossa análise, vamos deletar essa variável do nosso DataFrame."
      ],
      "metadata": {
        "id": "8fRknYNDVKnA"
      }
    },
    {
      "cell_type": "code",
      "source": [
        "df.drop('neighbourhood_group', axis=1, inplace=True)"
      ],
      "metadata": {
        "id": "lbPX8LBUVKH4"
      },
      "execution_count": null,
      "outputs": []
    },
    {
      "cell_type": "markdown",
      "source": [
        "### **Tipo de distribuição das variáveis** \n",
        "Média dos dados"
      ],
      "metadata": {
        "id": "M3a-Lshzhh3O"
      }
    },
    {
      "cell_type": "code",
      "source": [
        "# ver a média da coluna `price`\n",
        "df.mean()\n"
      ],
      "metadata": {
        "id": "Uz24iguVhm07"
      },
      "execution_count": null,
      "outputs": []
    },
    {
      "cell_type": "code",
      "source": [
        "# análise visual das variáveis númericas através de um gráfico de frequências (histograma)\n",
        "df.hist(bins=15, figsize=(15,10), color='#7FB77E');\n"
      ],
      "metadata": {
        "id": "t-5PIz8Bh5Ht"
      },
      "execution_count": null,
      "outputs": []
    },
    {
      "cell_type": "markdown",
      "source": [
        "Ao analisar as distribuições por `histograma` podemos verificar que existem *outliers* nas variáveis `price`, `minimun_nights`, `number_of_reviews`, `reviews_per_month`, `calculated_host_listings_count` e `number_of_reviews_Itm`.                            "
      ],
      "metadata": {
        "id": "UJocC0eMin7H"
      }
    },
    {
      "cell_type": "markdown",
      "source": [
        "### __Confirmando a existência de *outliers*__\n",
        "\n",
        "Podemos confirmar a existência de *outliers* através do resumo estatístico dos dados e/ou *boxplots* para as variáveis.\n",
        "\n",
        "**Para este estudo vamos analisar os dados de preço e mínimo de noites com relação aos bairros.** \n"
      ],
      "metadata": {
        "id": "JlMZTdaujIRa"
      }
    },
    {
      "cell_type": "code",
      "source": [
        "# resumo estatístico \n",
        "df[['price', 'minimum_nights']].describe()"
      ],
      "metadata": {
        "id": "kMAXkbiOjXg6"
      },
      "execution_count": null,
      "outputs": []
    },
    {
      "cell_type": "markdown",
      "source": [
        "Com o Box-plot conseguimos vizualiar as seguintes informações: \n",
        "\n",
        "1.   `Mediana` - linha amarela central dentro da caixa\n",
        "2.   Q1 e Q3 - primeiro e terceiro quartil\n",
        "3. os valores limites para identificação de outliers - hastes da caixa, em ambos os lados\n",
        "4. Outliers - pontos ao extremos"
      ],
      "metadata": {
        "id": "SDeqVYZ9joYT"
      }
    },
    {
      "cell_type": "markdown",
      "source": [
        "**Box-plot antes de remover os outliers**"
      ],
      "metadata": {
        "id": "R7TL-wRwj7ZE"
      }
    },
    {
      "cell_type": "code",
      "source": [
        "# Boxplot de price\n",
        "plt.figure(figsize=(15,3))\n",
        "sns.boxplot(data=df, x='price')\n",
        "plt.title('Boxplot price')\n",
        "plt.show()\n",
        "\n",
        "#Boxplot de minimum_nights\n",
        "plt.figure(figsize=(15,3))\n",
        "sns.boxplot(data=df, x='minimum_nights')\n",
        "plt.title('Boxplot minimum_nights')\n",
        "plt.show()"
      ],
      "metadata": {
        "id": "2xvE9ETNjYHZ"
      },
      "execution_count": null,
      "outputs": []
    },
    {
      "cell_type": "markdown",
      "source": [
        "### **Removendo *outliers***\n",
        "\n",
        "Para removermos os *outliers* estabelecemos um limite superior e inferior. Então os valores que estiverem acima ou abaixo desses limites serão considerados *outliers*.\n",
        "\n",
        "\n",
        "Assim estabelecemos um intervalo onde considera-se que contém dados com valores “normais”, os dados com valores fora desse intervalo devem ser tratados."
      ],
      "metadata": {
        "id": "k2qqDXXMkWQr"
      }
    },
    {
      "cell_type": "code",
      "source": [
        "# Mostra Box-plot minimum nights\n",
        "fig, ax = plt.subplots(figsize=(15,3))\n",
        "df['minimum_nights'].plot(kind='box', vert=False)\n",
        "ax.set_title('Boxplot - minimum nights')\n",
        "plt.show()\n",
        "\n",
        "# IQR minimum nights\n",
        "q1_mn = df.minimum_nights.quantile(q=0.25)\n",
        "q3_mn = df.minimum_nights.quantile(q=0.75)\n",
        "IQR_mn = q3_mn - q1_mn\n",
        "\n",
        "print('IQR minimum_nights: ', IQR_mn)\n",
        "\n",
        "sup_mn = q3_mn + 1.5 * IQR_mn\n",
        "inf_mn = q1_mn - 1.5 * IQR_mn\n",
        "\n",
        "print('Upper limit: ', sup_mn)\n",
        "print('Lower limit: ', inf_mn)\n",
        "\n",
        "print(\"{} Entries above upper limit\".format(len(df[df.minimum_nights > sup_mn])))\n",
        "print(\"{:.2f}% of dataset\".format((len(df[df.minimum_nights > sup_mn]) / df.shape[0])*100))"
      ],
      "metadata": {
        "id": "ZSkJGpjBkVsN"
      },
      "execution_count": null,
      "outputs": []
    },
    {
      "cell_type": "code",
      "source": [
        "# Mostra Box-plot price\n",
        "fig, ax = plt.subplots(figsize=(15,3))\n",
        "df['price'].plot(kind='box', vert=False)\n",
        "ax.set_title('Boxplot - price')\n",
        "plt.show()\n",
        "\n",
        "\n",
        "# IQR  price\n",
        "q1_price = df.price.quantile(q=0.25)\n",
        "q3_price = df.price.quantile(q=0.75)\n",
        "IQR_price = q3_price - q1_price\n",
        "\n",
        "print('IQR price: ', IQR_price)\n",
        "\n",
        "sup_price = q3_price + 1.5 * IQR_price\n",
        "inf_price = q1_price - 1.5 * IQR_price\n",
        "\n",
        "print('Upper limit: ', sup_price)\n",
        "print('Lower limit: ', inf_price)\n",
        "\n",
        "\n",
        "print(\"{} Entries above upper limit\".format(len(df[df.price > sup_price])))\n",
        "print(\"{:.2f}% of dataset\".format((len(df[df.price > sup_price]) / df.shape[0])*100))"
      ],
      "metadata": {
        "id": "R84Sn3pklX3T"
      },
      "execution_count": null,
      "outputs": []
    },
    {
      "cell_type": "markdown",
      "source": [
        "**Box-plot após remover os outliers**\n",
        "\n",
        "Após a removação dos *outliers* conseguimos ter uma melhor visualização da distribuição de frequência relacionada à variável `price` e `minimum_nights`"
      ],
      "metadata": {
        "id": "TOeX6TF1lizE"
      }
    },
    {
      "cell_type": "code",
      "source": [
        "# Remoção dos outliers de price e minimum_nights\n",
        "df_clean = df[(df['price'] <= 302.5) & (df['price'] > 0) & (df['minimum_nights'] <= 48)].copy()\n",
        "\n",
        "# Novo Box-plot\n",
        "fig, ax = plt.subplots(figsize=(15,3))\n",
        "df_clean['price'].plot(kind='box', vert=False)\n",
        "ax.set_title('Clean dataset - price')\n",
        "plt.show()\n",
        "\n",
        "\n",
        "fig, ax = plt.subplots(figsize=(15,3))\n",
        "df_clean['minimum_nights'].plot(kind='box', vert=False)\n",
        "ax.set_title('Clean dataset - minimum nights')\n",
        "plt.show()\n",
        "\n",
        "\n",
        "# Novo histograma\n",
        "df_clean.hist(bins=15, figsize=(15,10), color='#7FB77E');\n"
      ],
      "metadata": {
        "id": "3w9LefvnlYgl"
      },
      "execution_count": null,
      "outputs": []
    },
    {
      "cell_type": "code",
      "source": [
        "corr = df_clean[['price', 'minimum_nights', 'number_of_reviews', 'reviews_per_month',\n",
        "    'calculated_host_listings_count', 'availability_365']].corr()\n",
        "corr"
      ],
      "metadata": {
        "id": "DtNHgoKYYiHi"
      },
      "execution_count": null,
      "outputs": []
    },
    {
      "cell_type": "code",
      "source": [
        "sns.set_context(\"notebook\", font_scale=1.0, rc={\"lines.linewidth\": 2.5})\n",
        "plt.figure(figsize=(10,5))\n",
        "# criando uma máscara para ver apenas os valores de correlação uma vez\n",
        "mask = np.zeros_like(corr)\n",
        "mask[np.triu_indices_from(mask, 1)] = True\n",
        "a = sns.heatmap(corr,mask=mask, annot=True, fmt='.2f')\n",
        "rotx = a.set_xticklabels(a.get_xticklabels(), rotation=90)\n",
        "roty = a.set_yticklabels(a.get_yticklabels(), rotation=30)"
      ],
      "metadata": {
        "id": "AaeVPU5iYPKu"
      },
      "execution_count": null,
      "outputs": []
    },
    {
      "cell_type": "markdown",
      "source": [
        "## __Exploratory Questions__\n",
        "\n",
        "Agora que fizemos a limpeza e adequação dos dados para uma melhor análise vamos responder algumas questões cuja inteção é  ajudar a escolher qual a melhor localidade para se hospedar em Paris.\n",
        "\n",
        "### __Distribuição por tipo de acomodação__\n",
        "Tipo de de acomodação:"
      ],
      "metadata": {
        "id": "zA9lajmrnd_d"
      }
    },
    {
      "cell_type": "code",
      "source": [
        "# Quantidade de tipo de imóveis por bairro\n",
        "df_clean.room_type.value_counts()"
      ],
      "metadata": {
        "id": "soUgGWWtmUtU"
      },
      "execution_count": null,
      "outputs": []
    },
    {
      "cell_type": "code",
      "source": [
        "df_clean.boxplot(['price'], by = ['room_type'], figsize=(10,7));\n",
        "plt.show();"
      ],
      "metadata": {
        "id": "d5WC8Dymn5dF"
      },
      "execution_count": null,
      "outputs": []
    },
    {
      "cell_type": "markdown",
      "source": [
        "*Média por tipo de acomodação*"
      ],
      "metadata": {
        "id": "FFVfmepIoKiV"
      }
    },
    {
      "cell_type": "code",
      "source": [
        "# Calcula a média de preço por tipo de locação\n",
        "var = df_clean.groupby(['room_type']).price.mean().sort_values(ascending=False)[:10]\n",
        "print(var)"
      ],
      "metadata": {
        "id": "LwGeMFzHoNEL"
      },
      "execution_count": null,
      "outputs": []
    },
    {
      "cell_type": "code",
      "source": [
        "# Gráfico barras média de preço por tipo de locação\n",
        "ax = sns.barplot(var.index, var) \n",
        "ax.set_title('Média de preço por tipo de locação')\n",
        "ax.tick_params(bottom=False, top=False, left=False, right=False);\n",
        "ax.set_ylabel('Preço ($)', fontsize=12)\n",
        "ax.set_xlabel('Tipo de quarto', fontsize=12)\n",
        "for kew, spine in ax.spines.items():\n",
        "    spine.set_visible(False)"
      ],
      "metadata": {
        "id": "ryQFmwc6oP2k"
      },
      "execution_count": null,
      "outputs": []
    },
    {
      "cell_type": "markdown",
      "source": [
        "Conseguimos observar que:\n",
        "\n",
        "* `Entire home/apt` e `Private Room` e possuem mediana quase igual, porém a distribuiçao em `Private Room` é maior.\n",
        "\n",
        "* `Private Room`, existem diversos outliers. \n",
        "\n",
        "* Shared room possui os menores preços, o que coincide com a realidade, assim como Entire home/apt possui os maiores preços."
      ],
      "metadata": {
        "id": "APp-APQ3orBM"
      }
    },
    {
      "cell_type": "markdown",
      "source": [
        "**Relação entre tipo de acomodação e locação**\n",
        "\n",
        "Para isso achamos o percentual de propriedades por tipo de locação"
      ],
      "metadata": {
        "id": "AlSfqAZhpNxp"
      }
    },
    {
      "cell_type": "code",
      "source": [
        "# percentual de propriedades por tipo de locação\n",
        "room_per = df_clean.room_type.value_counts() / df_clean.shape[0] *100\n",
        "print(room_per)"
      ],
      "metadata": {
        "id": "AMczrx2tpOwo"
      },
      "execution_count": null,
      "outputs": []
    },
    {
      "cell_type": "code",
      "source": [
        "# Gráfico de barras do percentual por tipo de propriedade\n",
        "ax = sns.barplot(room_per.index, room_per) \n",
        "ax.set_title('Tipo de quartos - Percentual')\n",
        "ax.tick_params(bottom=False, top=False, left=False, right=False);\n",
        "ax.set_ylabel('%', fontsize=12)\n",
        "ax.set_xlabel('Tipo de quarto', fontsize=11)\n",
        "for kew, spine in ax.spines.items():\n",
        "    spine.set_visible(False);"
      ],
      "metadata": {
        "id": "PXK0yToHpnj6"
      },
      "execution_count": null,
      "outputs": []
    },
    {
      "cell_type": "markdown",
      "source": [
        "Podemos observar que Entire home/apt representa mais da metade de todas as locações. "
      ],
      "metadata": {
        "id": "1UFOou_eqNVQ"
      }
    },
    {
      "cell_type": "markdown",
      "source": [
        "### **Distribuição por bairro**\n",
        "Como visto anteriormente a variável `neighbourhood` possui 20 nomes de bairros\n",
        "\n",
        "Com base nas análises abaixo\n",
        "\n"
      ],
      "metadata": {
        "id": "fCqhHtUtqQWi"
      }
    },
    {
      "cell_type": "code",
      "source": [
        "# percentual de propriedades por bairro\n",
        "neighbourhood_per = df_clean.neighbourhood.value_counts() / df_clean.shape[0] *100\n",
        "print(neighbourhood_per)"
      ],
      "metadata": {
        "id": "wPYGGwqmp4mE"
      },
      "execution_count": null,
      "outputs": []
    },
    {
      "cell_type": "code",
      "source": [
        "# Contagem de imóveis para locação por bairro\n",
        "pd.DataFrame(df_clean['neighbourhood'].value_counts()[:6])"
      ],
      "metadata": {
        "id": "IvQWye_Hqjm8"
      },
      "execution_count": null,
      "outputs": []
    },
    {
      "cell_type": "code",
      "source": [
        "# Selecionando os 5 primeiros bairros\n",
        "\n",
        "neighbourhood_top = ['Waterfront Communities-The Island' , 'Niagra' , 'Church-Yonge Corridor' , 'Annex', 'Kensington-Chinatown'] \n",
        "neighbourhood_top = df_clean['neighbourhood'].isin(neighbourhood_top)\n",
        "df_neighbourhood = df_clean[neighbourhood_top]"
      ],
      "metadata": {
        "id": "h8yc4HjOqozx"
      },
      "execution_count": null,
      "outputs": []
    },
    {
      "cell_type": "markdown",
      "source": [
        "Para completar a  análise com relação a distrubiuição de imóveis pela cidade de Toronto é interessante olharmos a distruibuição em um mapa interativo. \n",
        "\n",
        "Para isso é necessário importar a biblioteca `ploty`."
      ],
      "metadata": {
        "id": "dBNi0Qmxr4B5"
      }
    },
    {
      "cell_type": "code",
      "source": [
        "df_clean.plot(kind=\"scatter\", x='longitude', y='latitude', alpha=0.4, c=df_clean['price'], s=8,\n",
        "              cmap=plt.get_cmap('jet'), figsize=(12,8));"
      ],
      "metadata": {
        "id": "LlXZdOLsaHvU"
      },
      "execution_count": null,
      "outputs": []
    },
    {
      "cell_type": "code",
      "source": [
        "#importing plotly\n",
        "import plotly.express as px\n",
        "\n",
        "#plotting our map\n",
        "fig = px.scatter_mapbox(df_clean, lat=\"latitude\", lon=\"longitude\", hover_name=\"name\",\n",
        "                        color_discrete_sequence=[\"red\"], zoom=10, height=500)\n",
        "fig.update_layout(mapbox_style=\"open-street-map\")\n",
        "fig.update_layout(margin={\"r\":0,\"t\":0,\"l\":0,\"b\":0})\n",
        "fig.show()"
      ],
      "metadata": {
        "id": "nNm4UlxGq4Jj"
      },
      "execution_count": null,
      "outputs": []
    },
    {
      "cell_type": "markdown",
      "source": [
        "### **Qual a localidade mais cara do dataset?**\n",
        "\n",
        "Quando vamos fazer uma viagem uma das primeiras coisas que fazemos é olhar o preço dos alugueis. Dessa forma conseguimos ter uma ideia dos bairros mais caros e baratos.\n",
        "\n",
        "Para compararmos variáveis podemos utilizar a função `groupby()`.\n",
        "Para este exemplo vamo comparar os bairros de acordo com seu preço de localização. "
      ],
      "metadata": {
        "id": "S1iS-_7dr_uE"
      }
    },
    {
      "cell_type": "code",
      "source": [
        "# ver preços por bairros, na média\n",
        "df_clean.groupby(['neighbourhood']).price.mean().sort_values(ascending=False)[:10]"
      ],
      "metadata": {
        "id": "uh5JKCqPq6bR"
      },
      "execution_count": null,
      "outputs": []
    },
    {
      "cell_type": "code",
      "source": [
        "# Bairros mais caros\n",
        "df_clean.groupby(['neighbourhood'])['price'].mean().sort_values(ascending=False)[:7].plot(kind='bar')\n",
        "plt.title('Bairros mais caros')\n",
        "plt.xlabel('Bairro')\n",
        "plt.ylabel('Valor')\n",
        "plt.xticks(rotation=45)\n",
        "\n",
        "plt.show()\n",
        "\n",
        "print(df_clean.groupby(['neighbourhood'])['price'].mean().sort_values(ascending=False)[:7])"
      ],
      "metadata": {
        "id": "UttQRG0KsGOq"
      },
      "execution_count": null,
      "outputs": []
    },
    {
      "cell_type": "code",
      "source": [
        "# Bairros mais baratos\n",
        "df_clean.groupby(['neighbourhood'])['price'].mean().sort_values(ascending=True)[:7].plot(kind='bar')\n",
        "plt.title('Bairros mais baratos')\n",
        "plt.xlabel('Bairro')\n",
        "plt.ylabel('Valor')\n",
        "plt.xticks(rotation=45)\n",
        "\n",
        "plt.show()\n",
        "\n",
        "print(df_clean.groupby(['neighbourhood'])['price'].mean().sort_values(ascending=True)[:7])"
      ],
      "metadata": {
        "id": "tmuG-KiysJuT"
      },
      "execution_count": null,
      "outputs": []
    },
    {
      "cell_type": "markdown",
      "source": [
        "Como todo cidadão brasileiros gostamos sempre de procurar por \"achados\" ou seja ficar no bairro mais caro pagando menos. \n",
        "\n",
        "Mas qual o menor valor de diária que podemos encontrar no bairro **Louvre**?"
      ],
      "metadata": {
        "id": "fTkwzgVzscGh"
      }
    },
    {
      "cell_type": "code",
      "source": [
        "# plotar o boxplot\n",
        "sns.boxplot(x = \"neighbourhood\", y=\"price\", data=df_clean.loc[df_clean['neighbourhood'] == 'Louvre'])\n",
        "plt.title(\"Boxplot dos Preços dos Imóveis do Bairro Louvre\")\n",
        "plt.show()"
      ],
      "metadata": {
        "id": "VaifpWOIsUBs"
      },
      "execution_count": null,
      "outputs": []
    },
    {
      "cell_type": "code",
      "source": [
        "# Aplicando estatística descritiva para ver o valor exato\n",
        "df_clean['price'].loc[df_clean['neighbourhood'] == 'Louvre'].describe()"
      ],
      "metadata": {
        "id": "kqWz-RDLstuS"
      },
      "execution_count": null,
      "outputs": []
    },
    {
      "cell_type": "markdown",
      "source": [
        "A média de preços do bairro Louvre é de \\$157,78 porém 25% dos preços estão abaixo de $98,00. \n",
        "\n",
        "Então para a nossa felicidade existe a possibilidade de encontrar imóveis com preço de locação mais barato no bairro mais caro."
      ],
      "metadata": {
        "id": "ZxDzV4J4tXDF"
      }
    },
    {
      "cell_type": "markdown",
      "source": [
        "### __O que falam sobre Paris?__\n",
        "\n",
        "Através da contagem das palavras que as pessoas usaram para descrever o bairro podemos ter uma ideia dos motivos pelo qual o bairro é o mais caro para alugar. \n",
        "As palavras maiores são as que aparecem com mais frequência e as menores com menos frequência. \n",
        "\n",
        "Irei utilizar a núvem de palavras com o *dataset* completo do Inside Airbnb."
      ],
      "metadata": {
        "id": "C3QwHb_NtpwP"
      }
    },
    {
      "cell_type": "code",
      "source": [
        "df_words = pd.read_csv(\"listings.csv.gz.csv\")"
      ],
      "metadata": {
        "id": "h8VXFGqctNDG"
      },
      "execution_count": null,
      "outputs": []
    },
    {
      "cell_type": "code",
      "source": [
        "df_words.head()"
      ],
      "metadata": {
        "id": "nml-UvMjuZjV"
      },
      "execution_count": null,
      "outputs": []
    },
    {
      "cell_type": "code",
      "source": [
        "# mostra volume de dados \n",
        "# linhas\n",
        "print(\"Linhas:\\t {}\".format(df_words.shape[0]))\n",
        "#colunas\n",
        "print(\"Variáveis:\\t{}\\n\".format(df_words.shape[1]))"
      ],
      "metadata": {
        "id": "oVVjj7f3vODK"
      },
      "execution_count": null,
      "outputs": []
    },
    {
      "cell_type": "code",
      "source": [
        "# Identifica a quantidade de dados ausentes nas variáveis por percentual e em ordem decrescende de valor ausente\n",
        "print(df_words.neighborhood_overview.isnull().sum())"
      ],
      "metadata": {
        "id": "wFS2aTGevOg2"
      },
      "execution_count": null,
      "outputs": []
    },
    {
      "cell_type": "code",
      "source": [
        "# Elimina valores ausentes da coluna neighborhood_overview\n",
        "neighborhood_overview\t = df_words.dropna(subset=['neighborhood_overview'], axis=0)['neighborhood_overview']"
      ],
      "metadata": {
        "id": "9_mk51HxvRb_"
      },
      "execution_count": null,
      "outputs": []
    },
    {
      "cell_type": "code",
      "source": [
        "# exemplos de overviews para os bairros do Airbnb\n",
        "display(neighborhood_overview\t.iloc[100])\n",
        "display(neighborhood_overview\t.iloc[120])"
      ],
      "metadata": {
        "id": "qLfpYKkzvUgw"
      },
      "execution_count": null,
      "outputs": []
    },
    {
      "cell_type": "code",
      "source": [
        "# Quantidade de palavras\n",
        "print(\"Quantidade de Palavras: {}\".format(len(neighborhood_overview)))"
      ],
      "metadata": {
        "id": "uxB6MacMvWj6"
      },
      "execution_count": null,
      "outputs": []
    },
    {
      "cell_type": "code",
      "source": [
        "# concatenar as palavras\n",
        "all_neighborhood_overview = \" \".join(s for s in neighborhood_overview)\n",
        "# lista de stopword\n",
        "stopwords = set(STOPWORDS)\n",
        "tagsHTML = [\"a\",\"abbr\",\"acronym\",\"address\",\"area\",\"b\",\"base\",\"bdo\",\"big\",\"blockquote\",\"body\",\"br\",\"button\",\"caption\",\"cite\",\"code\",\"col\",\"colgroup\",\"dd\",\"del\",\"dfn\",\"div\",\"dl\",\"DOCTYPE\",\"dt\",\"em\",\"fieldset\",\"form\",\"h1\",\"h2\",\"h3\",\"h4\",\"h5\",\"h6\",\"html\",\"hr\",\"i\",\"img\",\"input\",\"ins\",\"kbd\",\"label\",\"li\",\"link\",\"meta\",\"noscript\",\"object\",\"ol\",\"optgroup\",\"option\",\"p\",\"param\",\"pre\",\"q\",\"samp\",\"script\",\"select\",\"small\",\"span\",\"strong\",\"style\",\"sub\",\"sup\",\"table\",\"tbody\",\"td\",\"textarea\",\"tfoot\",\"th\",\"thead\",\"title\",\"tr\",\"tt\",\"ul\",\"var\"]\n",
        "stopwords.update([\"da\", \"meu\", \"em\", \"de\", \"ao\", \"os\", \"le\", \"la\", \"Pari\", 'à', 'one'])\n",
        "stopwords.update(tagsHTML)\n",
        " "
      ],
      "metadata": {
        "id": "dWn7mej9vlBX"
      },
      "execution_count": null,
      "outputs": []
    },
    {
      "cell_type": "code",
      "source": [
        "  # endereço imagem\n",
        "  paris_mask = np.array(Image.open(requests.get(\"https://github.com/bianca-isaac/Repositorio/blob/main/An%C3%A1lise%20de%20dados%20de%20Toronto%20-%20Canad%C3%A1%20usando%20Pandas%20e%20dos%20Dados%20do%20Airbnb/images/toronto5.jpg?raw=true\", stream=True).raw))\n",
        "    \n",
        "  # gerar uma wordcloud\n",
        "  wordcloud = WordCloud(stopwords=stopwords,\n",
        "                        background_color=\"white\",\n",
        "                        width=1000, height=1000, max_words=1000,\n",
        "                        mask=paris_mask, max_font_size=200,\n",
        "                        contour_width=3, contour_color='steelblue',\n",
        "                        min_font_size=5).generate(all_neighborhood_overview)\n",
        "\n",
        "  # mostrar a imagem final\n",
        "  fig, ax = plt.subplots(figsize=(10,15))\n",
        "  ax.imshow(wordcloud, interpolation='bilinear')\n",
        "  ax.set_axis_off()\n",
        "\n",
        "  plt.imshow(wordcloud);\n",
        "  wordcloud.to_file(\"airbnb_all_neighborhood_overview_wordcloud.png\");"
      ],
      "metadata": {
        "id": "w6nKxe8Svn_e"
      },
      "execution_count": null,
      "outputs": []
    },
    {
      "cell_type": "markdown",
      "source": [
        "Com a análise das frequências das palavras conseguimos identificar algumas características da região. \n"
      ],
      "metadata": {
        "id": "AUFH2ObqwWLi"
      }
    },
    {
      "cell_type": "markdown",
      "source": [
        "## **Resumo**\n",
        "Lidar com dados não é tão simples quanto parece. \n",
        "Antes de quaquer análise precisamos tratar os dados, ou seja, analisar os atributos e variáveis. \n",
        "É necessário identificarmos o que significa cada variável do dataset além de descobrir o tipo dessas variáveis e, caso necessário, realizar ajustes para que posteriormente possamos retirar informações desses dados. \n",
        "\n",
        "No dataset em questão pode-se verificar através das médias e histogramas que  existiam algumas variáveis com valores ausentes e também dados que distorciam as análises, os famosos *\"outliers\"*. \n",
        "Foi relizado um tratamento nas variáveis `price` e `minimum_nights` pois foram as mais utilizadas nas análises. \n",
        "\n",
        "As principais análises foram com relação a quantidade de imóveis por bairro e o preço dos imóveis. \n",
        "\n",
        "Os valores de preço estão em euros."
      ],
      "metadata": {
        "id": "VAu8WUHDxB2G"
      }
    },
    {
      "cell_type": "markdown",
      "source": [
        "## **Conclusão**\n",
        "\n",
        "Com base no dataset em questão podemos identificar as seguintes características de locação em Paris:\n",
        "\n",
        "Na cidade existem 4 tipos de acomodação sendo que *Entire home/apt* representa aproximadamente 79,04% das locações, seguido por *Private room* com 18,52%,, *Shared room* com 1,44% e *Hotel room* com 1%.\n",
        "\n",
        "1. Entire home/apt  - 79,04% \n",
        "2. Private room - 18,52%       \n",
        "3. Shared room - 1,44%         \n",
        "4. Hotel room - 1%           \n",
        "\n",
        "Os bairros com mais locação são: \n",
        "1. Buttes-Montmartre - 10,27%\n",
        "2. Popincourt - 8,24%\n",
        "3. Passy  - 7.50%\n",
        "3. Batignolles-Monceau - 7.41%\n",
        "4. Vaugirard - 7.40%\n",
        "\n",
        "Os bairros de *Louvre* e *Élysée* além de estarem entre os mais locados também estão entre os mais caros, ocupando a 1ª e 2ª posição respectivamente. \n",
        "\n",
        "1. Louvre - \\$157.78\n",
        "2. Élysée - \\$154.36\n",
        "3. Hôtel-de-Ville - \\$149.70\n",
        "\n",
        "Apesar do bairro *Louvre* ter uma média de aluguel de \\$ 157.78/diária ainda é possível encontrar locações por valores menores, 25% das locações estão abaixo de \\$97,00/diária. \n",
        "\n",
        "---\n",
        "\n",
        "Recomenda-se que seja utilizado, em uma próxima análise exploratória, o conjunto de dados completos. "
      ],
      "metadata": {
        "id": "wK_yFpM0xisZ"
      }
    }
  ]
}