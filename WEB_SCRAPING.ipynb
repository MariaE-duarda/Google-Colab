{
  "nbformat": 4,
  "nbformat_minor": 0,
  "metadata": {
    "colab": {
      "name": "WEB SCRAPING.ipynb",
      "private_outputs": true,
      "provenance": [],
      "authorship_tag": "ABX9TyNBH6xT9DNkkcuZp0vZyL4Q",
      "include_colab_link": true
    },
    "kernelspec": {
      "name": "python3",
      "display_name": "Python 3"
    },
    "language_info": {
      "name": "python"
    }
  },
  "cells": [
    {
      "cell_type": "markdown",
      "metadata": {
        "id": "view-in-github",
        "colab_type": "text"
      },
      "source": [
        "<a href=\"https://colab.research.google.com/github/MariaE-duarda/google_colab-codes/blob/main/WEB_SCRAPING.ipynb\" target=\"_parent\"><img src=\"https://colab.research.google.com/assets/colab-badge.svg\" alt=\"Open In Colab\"/></a>"
      ]
    },
    {
      "cell_type": "markdown",
      "source": [
        "# __WEB SCRAPING__"
      ],
      "metadata": {
        "id": "bwuqPZo8SeMi"
      }
    },
    {
      "cell_type": "markdown",
      "source": [
        "Raspagem de dados (data scraping), em seu sentido mais amplo, é um conceito aplicado à obtenção de dados de um certo programa a partir de outro de forma a extrair conteúdo de alto valor que sejam, prioritariamente, de fácil interpretação a humanos. Atualmente, a raspagem de dados é um sinônimo para raspagem da web (web scraping), visto que a fonte mais ampla para coleta dados é a web. Então, o ato de “raspar” dados da web equivale a utilizar scripts, programas ou APIs para obter dados relevantes de sites, páginas, blogs, repositórios, ou qualquer outro lugar acessível por conectividade e requisição.\n"
      ],
      "metadata": {
        "id": "OPxYotPwSlcx"
      }
    },
    {
      "cell_type": "markdown",
      "source": [
        "Através da raspagem de dados, podemos, entre outras coisas, como: \n",
        "\n",
        "- Coletar preços de ativos do mercado financeiro em tempo real;\n",
        "\n",
        "- Baixar históricos de sinistros em saúde pública, tais como os registros de casos durante a pandemia da Covid-19;\n",
        "\n",
        "- Localizar matérias jornalísticas sobre um mesmo tema em diversos canais de comunicação;\n",
        "\n",
        "- Encontrar o placar final de todos os jogos da NBA nos últimos 5 anos.\n",
        "\n",
        "\n",
        "Durante o curso, você já lidou implicitamente com a raspagem de dados ao utilizar, por exemplo, a função `pandas.read_csv`, por exemplo, para realizar a leitura de um arquivo CSV hospedado em um site da internet. Neste capítulo, faremos uma breve introdução à raspagem de dados usando `BeautifulSoap`, um dos módulos Python mais populares para dissecar páginas da web, de maneira a ampliar a nossa compreensão acerca dessa área de conhecimento extremamente relevante para a ciência de dados.\n",
        "\n",
        "<center><img alt=\"Dublin\" width=\"90%\" src=\"https://th.bing.com/th/id/R.d73c73bf18ce92bca8b388ebe7f0ab1f?rik=1%2fRs%2fNnimgW4Iw&riu=http%3a%2f%2fcovalense.com%2fassets%2fUploads%2fmicrosoft.jpg&ehk=%2butjBmNETYOvQzd2QBt5SYtlkrX5LzYmSYSk6wMwdZ4%3d&risl=&pid=ImgRaw&r=0\"></center>"
      ],
      "metadata": {
        "id": "pUDl2SEKStJW"
      }
    },
    {
      "cell_type": "markdown",
      "source": [
        "# __HTML 5__"
      ],
      "metadata": {
        "id": "1CGDCEb7TB8N"
      }
    },
    {
      "cell_type": "markdown",
      "source": [
        "A maioria das páginas da internet hoje são escritas em uma linguagem chamada HTML (HyperText Markup Language), desenvolvida no início da década de 1990 como a linguagem básica da internet. O consórcio W3C (The World Wide Web Consortium) é quem assegura os padrões abertos para desenvolvedores web. Desde 2014, a versão HTML 5 é a recomendada pela W3C para todos os criadores de sites. Em 2019, a W3C e a WHATWG assinaram um acordo para uniformizar o HTML, concluindo um documento de especificações."
      ],
      "metadata": {
        "id": "vCJL9QPATG1k"
      }
    },
    {
      "cell_type": "markdown",
      "source": [
        "Um documento HTML é estruturado por meio de elementos enclausurados por um par de tags e tem a seguinte aparência:"
      ],
      "metadata": {
        "id": "jK02a3pBTM60"
      }
    },
    {
      "cell_type": "markdown",
      "source": [
        "\n",
        "\n",
        "```\n",
        "<!DOCTYPE html>\n",
        "<html lang=\"pt-br\">\n",
        " <head>\n",
        "  <title>Introdução à Ciência de Dados</title>\n",
        " </head>\n",
        " <body>\n",
        "  <h1>Ciência de Dados no século XXI</h1>\n",
        "  <p>A História começa neste <a href=\"historia-icd.html\">link</a>.</p>\n",
        "  <!-- comentário -->\n",
        " </body>\n",
        "</html>\n",
        "```\n",
        "\n"
      ],
      "metadata": {
        "id": "RFyoKPOfTPoE"
      }
    },
    {
      "cell_type": "markdown",
      "source": [
        "No exemplo, `<head>` e `</head>` são exemplo de tags de abertura e fechamento para a seção head do documento."
      ],
      "metadata": {
        "id": "yfO5GnZrTWjI"
      }
    },
    {
      "cell_type": "markdown",
      "source": [
        "# __ÁRVORE DOM__"
      ],
      "metadata": {
        "id": "7ouCezf_T3PE"
      }
    },
    {
      "cell_type": "markdown",
      "source": [
        "Os navegadores da web interpretam o código HTML e transformam em uma “árvore”. Esta árvore caracteriza o modelo de objetos do documento, ou, formalmente, DOM (Document Object Model). Na forma de árvore DOM, o código acima tornar-se-ia algo como:\n",
        "\n",
        "\n",
        "\n",
        "```\n",
        "|- DOCTYPE: html\n",
        "|- html lang=\"pt-br\"\n",
        "   |- head\n",
        "   |  |- #text:\n",
        "   |  |- title\n",
        "   |  |  |- #text: Introdução à Ciência de Dados\n",
        "   |  |- #text:\n",
        "   |- #text:\n",
        "   |- body\n",
        "      |- #text:\n",
        "      |- h1\n",
        "      |  |- #text: Ciência de Dados no século XXI\n",
        "      |- #text:\n",
        "      |- p\n",
        "      |  |- #text: A História começa neste \n",
        "      |  |- a href=\"historia-icd.html\"\n",
        "      |     | #text: link\n",
        "      |  |- #text:\n",
        "      |- #comment: comentário\n",
        "      |- #text:\n",
        "```\n",
        "\n"
      ],
      "metadata": {
        "id": "0uYl226DT87W"
      }
    },
    {
      "cell_type": "markdown",
      "source": [
        "# __TAGS__\n",
        "\n",
        "Existem diversas tags disponíveis em HTML. A seguir listamos as que aparecem no código de exemplo anterior e sua descrição.\n",
        "\n",
        "`<!DOCTYPE>` - define o tipo do documento\n",
        "\n",
        "`<html>` - define a raiz de um documento HTML\n",
        "\n",
        "`<head>` - enclausura os metadados (informações) sobre o documento\n",
        "\n",
        "`<title>` - define um título para o documento\n",
        "\n",
        "`<body>` - define o corpo do documento\n",
        "\n",
        "`<h1>` - define cabeçalho de primeiro nível (seção)\n",
        "\n",
        "`<p>` - define um parágrafo\n",
        "\n",
        "`<a>` - define um hyperlink (ancoramento)"
      ],
      "metadata": {
        "id": "daF8GsaeUEHu"
      }
    },
    {
      "cell_type": "markdown",
      "source": [
        "# __API'S__\n",
        "\n",
        "A raspagem de dados pode ser otimizada através de uma API (Application Program Interface). APIs são mecanismos (interfaces) que usam aplicativos de terceiros para realizar “conexões” e puxar dados. APIs são parecidas com módulos, mas não oferecem meramente um conjunto de funções, mas sim um programa capaz de operar com muitos dados. Embora uma API possa funcionar localmente (offline), sua utilidade para raspagem de dados é melhor exibida quando se conecta a aplicativos da web (online).\n",
        "\n",
        "Diversas instuições fornecem APIs para que desenvolvedores possam coletar dados. No início deste capítulo, mencionamos algumas aplicações de raspagem de dados. Algumas são possíveis apenas por meio de APIs. Google, Facebook, Twitter, Yahoo e Elsevier são algumas das empresas que fornecem APIs para aplicações em buscas na web, redes sociais, finanças e literatura científica. No Brasil, podemos citar como exemplos relevantes. \n",
        "\n"
      ],
      "metadata": {
        "id": "Dpv-9nuXUqux"
      }
    },
    {
      "cell_type": "markdown",
      "source": [
        "# __JSON e XML__\n",
        "\n",
        "APIs utilizadas para raspagem de dados comumente retornam a informação em formato XML (eXtensible Markup Language), blocada em tags ou JSON (JavaScript Object Notation), serializada. Embora JSON seja a escolha de APIs mais modernas, é importante ter em mente que muitos provedores de APIs as fornecem com saída XML.\n",
        "\n",
        "Um dos argumentos em favor de JSON é a economia de caracteres. Por exemplo, a estrutura XML. \n",
        "\n",
        "\n",
        "\n",
        "```\n",
        "<user><firstname>Juan</firstname><lastname>Hernandes</lastname><username>Fernandez</username></user>\n",
        "```\n",
        "possui 100 caracteres.\n",
        "\n",
        "A mesma informação, serializada em JSON: \n",
        "\n",
        "\n",
        "\n",
        "```\n",
        "{\"user\":{\"firstname\":\"Juan\",\"lastname\":\"Hernandes\",\"username\":\"Fernandez\"}}\n",
        "```\n",
        "\n",
        "\n"
      ],
      "metadata": {
        "id": "kBymkReHU7Jt"
      }
    },
    {
      "cell_type": "markdown",
      "source": [
        "# __BIBLIOTECAS PARA RASPAGEM DE DADOS__\n",
        "\n",
        "Existem muitos ferramentas, bibliotecas e frameworks para raspagem de dados. Alguns exemplos são: _requests, grab, scrapy, restkit, lxml, PDFMiner. Neste capítulo, vamos dar enfoque ao módulo Python BeautifulSoap e seus interpretadores (parsers).\n",
        "\n",
        "## Vantagens do `BeatifulSoup`\n",
        "Segundo o site oficial, a BeautifulSoup: \n",
        "\n",
        "- Fornece métodos simples e expressões idiomáticas “Pythônicas” para navegar, pesquisar e modificar uma árvore de análise: um kit de ferramentas para dissecar um documento e extrair o que você precisa.\n",
        "\n",
        "- Converte automaticamente os documentos recebidos em Unicode e os documentos enviados em UTF-8. Você não tem que pensar em codificações, a menos que o documento não especifique uma codificação e a Beautiful Soup não consiga detectar uma.\n",
        "\n",
        "- Baseia-se em interpretadores (parsers) Python populares como lxml e html5lib, permitindo que você experimente diferentes estratégias de análise para obter flexibilidade."
      ],
      "metadata": {
        "id": "0DZYnQvbVVqe"
      }
    },
    {
      "cell_type": "markdown",
      "source": [
        "# __RASPAGEM DE DADOS DO SITE DA UFPB__\n",
        "\n",
        "Neste exemplo, faremos uma raspagem no site da UFPB para coletar a lista de cursos de graduação. Os passos a serem seguidos são:\n",
        "\n",
        "1.   abrir uma requisição para a URL da PRG/UFPB;\n",
        "2.   coletar o HTML da página;\n",
        "3.   extrair o conteúdo da tabela de cursos na árvore DOM;\n",
        "4.   construir um DataFrame cujas colunas devem conter: nome do curso, sede, modalidade, nome do(a) coordenador(a) e Centro de Ensino que administra o curso.\n"
      ],
      "metadata": {
        "id": "U18bRV0YVwQX"
      }
    },
    {
      "cell_type": "markdown",
      "source": [
        "Primeiramente, abriremos uma requisição com `urllib.request`."
      ],
      "metadata": {
        "id": "XDrYEAFEWFZL"
      }
    },
    {
      "cell_type": "code",
      "source": [
        "from urllib.request import urlopen\n",
        "from bs4 import BeautifulSoup\n",
        "\n",
        "html = urlopen('https://sigaa.ufpb.br/sigaa/public/curso/lista.jsf?nivel=G&aba=p-graduacao')\n",
        "bs = BeautifulSoup(html.read(),'html.parser')"
      ],
      "metadata": {
        "id": "2fqKuf8QSk9e"
      },
      "execution_count": null,
      "outputs": []
    },
    {
      "cell_type": "markdown",
      "source": [
        "Neste ponto, criamos o objeto bs que contém a árvore DOM do documento HTML. Podemos acessar as partes do documento diretamente a partir das tags `head`, `body`, `title` etc."
      ],
      "metadata": {
        "id": "RpLMdFESW5lW"
      }
    },
    {
      "cell_type": "code",
      "execution_count": null,
      "metadata": {
        "id": "Acu6Hqi6SZQ-"
      },
      "outputs": [],
      "source": [
        "# impressão na tela de head e body\n",
        "# omitidas por serem grandes. \n",
        "# Teste em seu computador!\n",
        "head = bs.head\n",
        "body = bs.body\n",
        "title = bs.title\n",
        "\n",
        "title"
      ]
    },
    {
      "cell_type": "markdown",
      "source": [
        "Podemos puxar o conteúdo das tags com `contents`."
      ],
      "metadata": {
        "id": "ju6EHBuPXbMm"
      }
    },
    {
      "cell_type": "code",
      "source": [
        "# é uma lista\n",
        "title.contents"
      ],
      "metadata": {
        "id": "wmbaswu5XewP"
      },
      "execution_count": null,
      "outputs": []
    },
    {
      "cell_type": "code",
      "source": [
        "# opera sobre str\n",
        "title.contents[0].strip()"
      ],
      "metadata": {
        "id": "Ya3M36uqXi89"
      },
      "execution_count": null,
      "outputs": []
    },
    {
      "cell_type": "markdown",
      "source": [
        "Podemos navegar na árvore por meio das tags."
      ],
      "metadata": {
        "id": "aNtGT435Xll9"
      }
    },
    {
      "cell_type": "code",
      "source": [
        "head.link"
      ],
      "metadata": {
        "id": "t2UjAwgaXmPS"
      },
      "execution_count": null,
      "outputs": []
    },
    {
      "cell_type": "code",
      "source": [
        "head.meta"
      ],
      "metadata": {
        "id": "qxMk3-PZXuie"
      },
      "execution_count": null,
      "outputs": []
    },
    {
      "cell_type": "code",
      "source": [
        "body.li"
      ],
      "metadata": {
        "id": "yBAnltO1XvPb"
      },
      "execution_count": null,
      "outputs": []
    },
    {
      "cell_type": "code",
      "source": [
        "body.span"
      ],
      "metadata": {
        "id": "KRtEBxwiXx-l"
      },
      "execution_count": null,
      "outputs": []
    },
    {
      "cell_type": "markdown",
      "source": [
        "# __Navegação na árvore para baixo__\n",
        "\n",
        "A árvore DOM é baseada em uma estrutura do tipo “parents/children”. Um elemento pai pode ter um ou mais filhos e os elementos filhos podem também ter um ou mais filhos. Em termos de nível, os primeiros são filhos diretos.\n",
        "\n",
        "- `contents` para encontrar filhas diretas como lista;\n",
        "\n",
        "- `children` para encontrar filhas diretas como iterador;\n",
        "\n",
        "- `descendants` para encontrar filhas diretas, filhas de filhas e assim por diante."
      ],
      "metadata": {
        "id": "huPvNpUCYCAK"
      }
    },
    {
      "cell_type": "code",
      "source": [
        "type(body.contents)"
      ],
      "metadata": {
        "id": "KTv_S6JlYNGb"
      },
      "execution_count": null,
      "outputs": []
    },
    {
      "cell_type": "code",
      "source": [
        "# iterador\n",
        "for c in body.children:\n",
        "    print(type(c))"
      ],
      "metadata": {
        "id": "dcikXMzGYWwt"
      },
      "execution_count": null,
      "outputs": []
    },
    {
      "cell_type": "code",
      "source": [
        "# itera sobre todos os descendentes\n",
        "k = 1\n",
        "for c in body.descendants:\n",
        "    if k % 500 == 0:\n",
        "        print(f'descendente {k}: {type(c)}',sep=':')\n",
        "    k += 1"
      ],
      "metadata": {
        "id": "QvWTXhERYYn_"
      },
      "execution_count": null,
      "outputs": []
    },
    {
      "cell_type": "markdown",
      "source": [
        "Para navegar apenas em strings (já removendo espaços em branco) dentro de tags, podemos usar `stripped_strings`. Se quisermos considerar espaços, devemos usar apenas `strings`."
      ],
      "metadata": {
        "id": "6eGeoNY5YbOj"
      }
    },
    {
      "cell_type": "code",
      "source": [
        "# idenfica o campus sede em tabela \n",
        "campus = ('Areia','Bananeiras','Rio Tinto')\n",
        "for s in body.tbody.stripped_strings:\n",
        "    if s in campus:\n",
        "        print(s,end=',')"
      ],
      "metadata": {
        "id": "NU_QZGBGYo82"
      },
      "execution_count": null,
      "outputs": []
    },
    {
      "cell_type": "markdown",
      "source": [
        "# __Realizando buscas na árvore__\n",
        "Funções de localização bastante úteis são `find_all` e `find`. Podemos aplicá-la passando como argumento uma tag"
      ],
      "metadata": {
        "id": "Q6NzNzr9Yyaa"
      }
    },
    {
      "cell_type": "code",
      "source": [
        "body.find_all('td')[10:15]"
      ],
      "metadata": {
        "id": "B3wvZCMHY6jb"
      },
      "execution_count": null,
      "outputs": []
    },
    {
      "cell_type": "code",
      "source": [
        "body.find_all(['li','ul'])"
      ],
      "metadata": {
        "id": "BmfcZRVWZDih"
      },
      "execution_count": null,
      "outputs": []
    },
    {
      "cell_type": "code",
      "source": [
        "# busca <table data> com classe \"subFormulario\"\n",
        "body.find_all('td',class_=\"subFormulario\")[:3]"
      ],
      "metadata": {
        "id": "AVj9aQEnZGaK"
      },
      "execution_count": null,
      "outputs": []
    },
    {
      "cell_type": "markdown",
      "source": [
        "Podemos também realizar buscas específicas por expressões regulares. Para isso, basta usar o módulo re e funções como `re.compile`."
      ],
      "metadata": {
        "id": "cmn-pBPOZQlb"
      }
    },
    {
      "cell_type": "code",
      "source": [
        "import re\n",
        "\n",
        "body.find_all(string=re.compile('GRAD'))"
      ],
      "metadata": {
        "id": "Yj9MBGMVZTlr"
      },
      "execution_count": null,
      "outputs": []
    },
    {
      "cell_type": "code",
      "source": [
        "body.find_all(string=re.compile('CENTRO'))"
      ],
      "metadata": {
        "id": "qT26lghBZYeI"
      },
      "execution_count": null,
      "outputs": []
    },
    {
      "cell_type": "code",
      "source": [
        "body.find(string=re.compile('Copyright'))"
      ],
      "metadata": {
        "id": "fpw-Y7HiZcUw"
      },
      "execution_count": null,
      "outputs": []
    },
    {
      "cell_type": "markdown",
      "source": [
        "# __Funções customizadas__\n",
        "\n",
        "Agora, implementaremos algumas funções customizadas para extrair o cabeçalho e o conteúdo da tabela de cursos do site da UFPB. Essas funções varrem a árvore DOM e coletam apenas as informações de interesse, transformando-as para listas."
      ],
      "metadata": {
        "id": "p2eLXb1xZgy2"
      }
    },
    {
      "cell_type": "code",
      "source": [
        "# extrai cabeçalhos\n",
        "def get_table_head(t):\n",
        "    '''Lê objeto tabela e extrai header para lista'''\n",
        "    res = []\n",
        "    thead = t.find('thead')\n",
        "    th = thead.find_all('th')\n",
        "    for f in th:\n",
        "        res.append(f.getText().strip())\n",
        "    return res\n",
        "\n",
        "t_header = get_table_head(body.div)\n",
        "\n",
        "t_header"
      ],
      "metadata": {
        "id": "hdaQoIGXZl0w"
      },
      "execution_count": null,
      "outputs": []
    },
    {
      "cell_type": "code",
      "source": [
        "# extrai linhas\n",
        "def get_table_body(t):\n",
        "    res = []\n",
        "    tbody = t.find('tbody')\n",
        "    tr = tbody.find_all('tr')\n",
        "    for row in tr:\n",
        "        this_row = []\n",
        "        row_fields = row.find_all('td')\n",
        "        for f in row_fields:\n",
        "            this_row.append(f.getText().strip())\n",
        "            res.append(this_row)\n",
        "    return res\n",
        "\n",
        "r = get_table_body(body.div)  "
      ],
      "metadata": {
        "id": "XzZnuyJJZon2"
      },
      "execution_count": null,
      "outputs": []
    },
    {
      "cell_type": "markdown",
      "source": [
        "# __Limpeza dos dados extraídos__\n",
        "\n",
        "Finalmente, construiremos o DataFrame a partir das listas anteriores. Porém, precisamos realizar procedimento de preenchimento de dados e limpeza.\n",
        "\n",
        "Note que a tabela original não traz os nomes dos cursos organizados por linha. Então, precisamos de uma coluna com o nome de cada Centro de Ensino organizado por curso."
      ],
      "metadata": {
        "id": "jt7ZMRsiZrhU"
      }
    },
    {
      "cell_type": "code",
      "source": [
        "import pandas as pd\n",
        "\n",
        "# cria DataFrame\n",
        "df = pd.DataFrame(r,columns=t_header).drop_duplicates().reset_index(drop=True)\n",
        "mask = df['Nome'].str.find('CENTRO') != -1\n",
        "centros = df['Nome'].loc[mask]\n",
        "idx = centros.index.values\n",
        "\n",
        "# preenchimento\n",
        "vals = []\n",
        "for k in range(1,len(idx)):\n",
        "    for i in range(max(idx)+1):\n",
        "        if i >= idx[k-1] and i < idx[k]:\n",
        "            vals.append(centros.iloc[k-1])\n",
        "# extra\n",
        "dx = len(df) - max(idx)\n",
        "vals.extend(dx*[vals[-1]])\n",
        "\n",
        "\n",
        "# limpa e renomeia\n",
        "df['Centro'] = vals\n",
        "df = df.drop(idx).rename(columns={\"Nome\": \"Curso\"}).reset_index(drop=True)\n",
        "\n",
        "df"
      ],
      "metadata": {
        "id": "PrJe9AX3Z4a6"
      },
      "execution_count": null,
      "outputs": []
    }
  ]
}