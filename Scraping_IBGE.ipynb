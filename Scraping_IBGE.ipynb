{
  "nbformat": 4,
  "nbformat_minor": 0,
  "metadata": {
    "colab": {
      "private_outputs": true,
      "provenance": [],
      "authorship_tag": "ABX9TyPKcl7GBRaLibQGOoKcLgYd"
    },
    "kernelspec": {
      "name": "python3",
      "display_name": "Python 3"
    },
    "language_info": {
      "name": "python"
    }
  },
  "cells": [
    {
      "cell_type": "code",
      "execution_count": null,
      "metadata": {
        "id": "feduKIU6lozk"
      },
      "outputs": [],
      "source": [
        "!pip install bs4"
      ]
    },
    {
      "cell_type": "markdown",
      "source": [
        "#__IMPORTAÇÃO DAS BIBLIOTECAS__\n"
      ],
      "metadata": {
        "id": "hQ6g6oJLmPLc"
      }
    },
    {
      "cell_type": "code",
      "source": [
        "import requests\n",
        "from bs4 import BeautifulSoup\n",
        "\n",
        "import pandas as pd "
      ],
      "metadata": {
        "id": "ASua1lyZl_dK"
      },
      "execution_count": null,
      "outputs": []
    },
    {
      "cell_type": "markdown",
      "source": [
        "#__REQUISIÇÃO E SELEÇÃO__"
      ],
      "metadata": {
        "id": "bUUnsrggmYVO"
      }
    },
    {
      "cell_type": "code",
      "source": [
        "## Função que realiza o web scrap\n",
        "\n",
        "## Criada função que recebe como parâmetro um estado tipo string, retornando um dicionário python\n",
        "\n",
        "def consulta_info_estado(estado: str) -> dict:\n",
        "    \n",
        "    ## Exibindo na tela os estados consultados\n",
        "    print(f\"Consultando informações do {estado}...\")\n",
        "    \n",
        "    ## Salvando nossa url que recebe uma interpolação da sigla do estado a ser consultado\n",
        "    url_estado = f\"https://www.ibge.gov.br/cidades-e-estados/{estado}.html\"\n",
        "    \n",
        "    ## Com o método get() do requests recebemos a url de cada estado\n",
        "    paginas = requests.get(url_estado)\n",
        "    \n",
        "    \n",
        "    ## Acessada cada pagina nós transformamos seu conteúdo em um objeto BeautifulSoup e aplicamos um html.parser\n",
        "    soup = BeautifulSoup(paginas.content, \"html.parser\")\n",
        "    \n",
        "    ## No site do IBGE eu analisei no código HTML que os dados que eu quero são contidos na classe indicador\n",
        "    ## Então eu utilizo o método select() do BeautifulSoup para pegar as tags que possuem a classe indicador\n",
        "    indicadores = soup.select(\".indicador\")\n",
        "    \n",
        "    ## Em cada indicador eu tenho duas classes (label e value), então itero com um for para retirar o texto de cada um\n",
        "    dict_estados = {indicador.select('.ind-label')[0].text: indicador.select('.ind-value')[0].text for indicador in indicadores}\n",
        "    \n",
        "    ## Criando uma coluna Estados no meu dict_estados e atribuindo a ele o valor estado\n",
        "    dict_estados[\"Estados\"] = estado\n",
        "    \n",
        "    ## Retornando nosso dict_estados\n",
        "    return dict_estados"
      ],
      "metadata": {
        "id": "htl0Zi4omMnA"
      },
      "execution_count": null,
      "outputs": []
    },
    {
      "cell_type": "code",
      "source": [
        "## Criando uma lista com a UF de cada estado brasileiro p/ consultarmos suas informações\n",
        "\n",
        "estados = ['AC', 'AL', 'AP', 'AM', 'BA', 'CE', 'DF', 'ES', 'GO', 'MA', 'MT', 'MS', 'MG', 'PA', 'PB', 'PR', 'PE', 'PI', 'RJ', 'RN', 'RS', 'RO', 'RR', 'SC', 'SP', 'SE', 'TO']"
      ],
      "metadata": {
        "id": "W6FGzdlumxiv"
      },
      "execution_count": null,
      "outputs": []
    },
    {
      "cell_type": "code",
      "source": [
        "## Criando uma variável que recebe uma lista onde chamamos nossa função e iteramos os parâmetros com nossa lista estados\n",
        "\n",
        "infos_estados = [consulta_info_estado(estado) for estado in estados]  "
      ],
      "metadata": {
        "id": "lABm3QdZm66W"
      },
      "execution_count": null,
      "outputs": []
    },
    {
      "cell_type": "code",
      "source": [
        "## Transofmrando nossos dados em data frame do tipo pandas para tornar mais fácil sua manipulação\n",
        "\n",
        "df = pd.DataFrame(data = infos_estados)"
      ],
      "metadata": {
        "id": "apUupGz8nlfO"
      },
      "execution_count": null,
      "outputs": []
    },
    {
      "cell_type": "code",
      "source": [
        "## Verificando o tipo de dados do nosso df\n",
        "\n",
        "type(df)"
      ],
      "metadata": {
        "id": "y7UvNUhdnpGL"
      },
      "execution_count": null,
      "outputs": []
    },
    {
      "cell_type": "code",
      "source": [
        "## Exibindo os cinco primeiros itens do nosso data frame\n",
        "\n",
        "df.head()"
      ],
      "metadata": {
        "id": "GpMTcLoqnsDZ"
      },
      "execution_count": null,
      "outputs": []
    },
    {
      "cell_type": "code",
      "source": [
        "## Criado nosso df temos que seus dados são do tipo objeto, logo precisamos transformá-los em números ou strings;\n",
        "\n",
        "df.info()"
      ],
      "metadata": {
        "id": "HMNPBoK5n-mh"
      },
      "execution_count": null,
      "outputs": []
    },
    {
      "cell_type": "markdown",
      "source": [
        "#__LIMPEZA__"
      ],
      "metadata": {
        "id": "TgVxI6_PoDkP"
      }
    },
    {
      "cell_type": "code",
      "source": [
        "## É uma boa prática criarmos uma cópia do nosso data frame original p/ diminuir a chance de perdermos os dados originais\n",
        "\n",
        "df_estados = df.copy()"
      ],
      "metadata": {
        "id": "svi21R8DoGDo"
      },
      "execution_count": null,
      "outputs": []
    },
    {
      "cell_type": "code",
      "source": [
        "## Renomeando as colunas do data frame adotando as boas práticas (snake_case) e separando as colunas com tipos string e dado\n",
        "\n",
        "df_estados.columns = ['governador', 'capital', 'gentilico', 'area', 'populacao', 'densidade_demografica', 'matriculas_fundamental', 'idh', 'receitas_realizadas', 'despesas_empenhadas', 'rendimento_mensal_per_capita', 'total_veiculos', 'estados']"
      ],
      "metadata": {
        "id": "vEOYagxwoafx"
      },
      "execution_count": null,
      "outputs": []
    },
    {
      "cell_type": "code",
      "source": [
        "## Aplicando um regex com o método replace p/ remover os caractéres que não queremos que sejam exibidos\n",
        "## Caracteres especiais como . precisam da \\ antes p/ que a regex funcione;\n",
        "\n",
        "df_estados = df_estados.replace({\n",
        "    '\\.': '',\n",
        "    ',': '.',\n",
        "    '\\[\\d+\\]': '',\n",
        "    ' hab/km²': '',\n",
        "    ' km²': '',\n",
        "    ' pessoas': '',\n",
        "    ' matrículas': '',\n",
        "    'R\\$.*': '',\n",
        "    ' veículos': ''\n",
        "}, regex = True)"
      ],
      "metadata": {
        "id": "yJUD2iI6osm2"
      },
      "execution_count": null,
      "outputs": []
    },
    {
      "cell_type": "code",
      "source": [
        "## Verificando se os caracteres foram retirados\n",
        "\n",
        "df_estados.head()"
      ],
      "metadata": {
        "id": "4EQrpUYxozjW"
      },
      "execution_count": null,
      "outputs": []
    },
    {
      "cell_type": "code",
      "source": [
        "## Vou criar uma lista que contenham dados do tipo númerico para depois realizar a conversão destes\n",
        "\n",
        "colunas_numericas = ['populacao', 'area', 'idh', 'rendimento_mensal_per_capita', 'total_veiculos', 'matriculas_fundamental', 'despesas_empenhadas', 'receitas_realizadas']"
      ],
      "metadata": {
        "id": "Zh69p93GqXdx"
      },
      "execution_count": null,
      "outputs": []
    },
    {
      "cell_type": "code",
      "source": [
        "## Retirando todos os possíveis espaços nas colunas_numericas com o método .apply(), lambda, .str e .strip()\n",
        "\n",
        "df_estados[colunas_numericas] = df_estados[colunas_numericas].apply(lambda x: x.str.strip())"
      ],
      "metadata": {
        "id": "Fpt8wmqYqmQH"
      },
      "execution_count": null,
      "outputs": []
    },
    {
      "cell_type": "code",
      "source": [
        "## Convertendo as colunas_numericas de tipo string para numerico\n",
        "\n",
        "df_estados[colunas_numericas] = df_estados[colunas_numericas].apply(pd.to_numeric)"
      ],
      "metadata": {
        "id": "Gpnn30C3q4dy"
      },
      "execution_count": null,
      "outputs": []
    },
    {
      "cell_type": "code",
      "source": [
        "## Confirmando que as colunas tiveram seus tipos alterados para números\n",
        "\n",
        "df_estados.info()"
      ],
      "metadata": {
        "id": "-x2R2o1VrK2Q"
      },
      "execution_count": null,
      "outputs": []
    },
    {
      "cell_type": "markdown",
      "source": [
        "#__EXPORTAÇÃO__"
      ],
      "metadata": {
        "id": "rm43UQv1rTyi"
      }
    },
    {
      "cell_type": "code",
      "source": [
        "df_estados.to_csv('dados-IBGE.csv', index=False)"
      ],
      "metadata": {
        "id": "SF402S4HrTej"
      },
      "execution_count": null,
      "outputs": []
    }
  ]
}