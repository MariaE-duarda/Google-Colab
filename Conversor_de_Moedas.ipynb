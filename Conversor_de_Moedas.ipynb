{
  "nbformat": 4,
  "nbformat_minor": 0,
  "metadata": {
    "colab": {
      "name": "Conversor de Moedas.ipynb",
      "provenance": [],
      "authorship_tag": "ABX9TyMtp+/2cCBh/nAo6AX1T9oF",
      "include_colab_link": true
    },
    "kernelspec": {
      "name": "python3",
      "display_name": "Python 3"
    },
    "language_info": {
      "name": "python"
    }
  },
  "cells": [
    {
      "cell_type": "markdown",
      "metadata": {
        "id": "view-in-github",
        "colab_type": "text"
      },
      "source": [
        "<a href=\"https://colab.research.google.com/github/MariaE-duarda/google_colab-codes/blob/main/Conversor_de_Moedas.ipynb\" target=\"_parent\"><img src=\"https://colab.research.google.com/assets/colab-badge.svg\" alt=\"Open In Colab\"/></a>"
      ]
    },
    {
      "cell_type": "markdown",
      "source": [
        "# Python\n",
        "### \"Automação\" do código de conversão de moedas.\n",
        "---\n",
        "</br>\n",
        "\n",
        "### **1. O que seria um conversor de moedas?**\n",
        "Um conversor de moeda é um código de software projetado para converter uma moeda em outra para verificar seu valor correspondente para compra ou venda da mesma.\n",
        "\n",
        "### **2. Por que \"automatizar\" o código?**\n",
        "Fazer a automação do programa facilitará tanto os usuários quanto os próprios programadores do conversor de moedas, pois, dessa maneira, não será necessário fazer modificações frequentes no código em questão. \n",
        "\n"
      ],
      "metadata": {
        "id": "ZPSf7d8K5uge"
      }
    },
    {
      "cell_type": "code",
      "execution_count": null,
      "metadata": {
        "colab": {
          "base_uri": "https://localhost:8080/"
        },
        "id": "RO4YsXt75tbG",
        "outputId": "0744f0ad-380d-461f-aa8c-5788bd2110fe"
      },
      "outputs": [
        {
          "output_type": "stream",
          "name": "stdout",
          "text": [
            "Qual o tipo de moeda que deseja pesquisar? EUR-BRL\n",
            "O preço atual do Euro é: R$5.0669\n"
          ]
        }
      ],
      "source": [
        "import requests\n",
        "\n",
        "req1 = requests.get(\"https://economia.awesomeapi.com.br/last/BTC-BRL\")\n",
        "req2 = requests.get(\"https://economia.awesomeapi.com.br/last/USD-BRL\")\n",
        "req3 = requests.get(\"https://economia.awesomeapi.com.br/last/EUR-BRL\")\n",
        "\n",
        "tipo_da_moeda = input('Qual o tipo de moeda que deseja converter? ')\n",
        "\n",
        "# Estrutura Condicional\n",
        "if (tipo_da_moeda == \"BTC-BRL\"):\n",
        "        cotacao = req1.json()\n",
        "        preco_atual = cotacao['BTC']['ask']\n",
        "        print('O preço atual do Bitcoin é: R${}'.format(preco_atual))\n",
        "\n",
        "if (tipo_da_moeda == \"USD-BRL\"):\n",
        "        cotacao = req2.json()\n",
        "        preco_atual = cotacao['USD']['ask']\n",
        "        print('O preço atual do Dólar Americano é: R${}'.format(preco_atual))\n",
        "\n",
        "if (tipo_da_moeda == \"EUR-BRL\"):\n",
        "        cotacao = req3.json()\n",
        "        preco_atual = cotacao['EUR']['ask']\n",
        "        print('O preço atual do Euro é: R${}'.format(preco_atual))\n"
      ]
    }
  ]
}