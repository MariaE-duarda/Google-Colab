{
  "nbformat": 4,
  "nbformat_minor": 0,
  "metadata": {
    "colab": {
      "name": "San Diego.ipynb",
      "private_outputs": true,
      "provenance": [],
      "mount_file_id": "19OCvciCETKpHXSAfIuMcl6E8weyBAOx8",
      "authorship_tag": "ABX9TyMXJ9SkkZ0KmtsrlnjOi6HV"
    },
    "kernelspec": {
      "name": "python3",
      "display_name": "Python 3"
    },
    "language_info": {
      "name": "python"
    }
  },
  "cells": [
    {
      "cell_type": "markdown",
      "source": [
        "\n",
        "<left><img alt=\"Analisando Airbnb\" width=\"20%\" src=\"https://www.area360.com.au/wp-content/uploads/2017/09/airbnb-logo.jpg\"></left>\n",
        "# <center>***Análise do Dados do Airbnb - San Diego, Califórnia***\n",
        "\n",
        "*by [Maria Eduarda de Araújo Freire](https://www.github.com/MariaE-duarda)* \n",
        "\n",
        "---\n",
        "<center><img alt=\"Analisando Airbnb\" width=\"85%\" src=\"https://th.bing.com/th/id/R.2688dbbd5c03ea90c1606c5220d1abfd?rik=rHI05rS1v7Knpg&riu=http%3a%2f%2fwww.wje.com%2fassets%2fimages%2foffices%2fheaders%2fWJE-Offices-San-Diego-1770x800.jpg&ehk=AMjxV%2fYFzT6JSFaqLCVgNsNdltpb6YOjmufEPH5Yswk%3d&risl=&pid=ImgRaw&r=0\"></center>\n",
        "\n",
        "O [Airbnb](https://www.airbnb.com.br/) é o site considerado como sendo um dos mais procurados em termos de hospedagem, utilizando o novo conceito de economia colaborativa, pessoas comuns oferecem suas acomodações gerando uma renda extra, atavés dessa fantástica ferramenta AIRBNB.\n",
        "\n",
        "Com esse conceito, o site tonou - se a  **maior empresa hoteleira da atualidade**, com o detalhe de **não possuir nenhum hotel**!, nenhum patrimonio empresarial para locar. Conectando pessoas que querem se hospedar com anfitriões que querem alugar seus imóveis de maneira prática, o Airbnb fornece uma plataforma inovadora para tornar essa hospedagem alternativa.\n",
        "\n",
        "No final de 2018, a Startup com 10 anos de funcionamento, já havia **hospedado mais de 300 milhões** de pessoas ao redor do mundo, desafiando as redes hoteleiras tradicionais. \n",
        "\n",
        "Segundo estatísticas da Property Management, de outubro de 2019, o Airbnb tem mais de 150 milhões de usuários em todo o mundo, com mais de 650 mil anfitriões e 2 milhões de pessoas utilizando os seus serviços todas as noites.\n",
        "\n",
        "<center><img alt=\"Analisando Airbnb\" width=\"15%\" src=\"https://www.area360.com.au/wp-content/uploads/2017/09/airbnb-logo.jpg\"></center>"
      ],
      "metadata": {
        "id": "4XnjzH9pyNqm"
      }
    },
    {
      "cell_type": "markdown",
      "source": [
        "#**<center>Conhecendo a cidade de San Diego**\n",
        "\n",
        "San Diego é uma cidade dos Estados Unidos localizada no sul do estado da Califórnia, sendo a segunda cidade mais populosa do estado e a oitava mais populosa do país.\n",
        "\n",
        "É tida como o berço da Califórnia e é conhecida por seu clima ameno durante a maior parte do ano, por seu porto natural de águas profundas, extensas praias, longa associação com a Marinha dos Estados Unidos e seu centro de desenvolvimento da biotecnologia.\n",
        "\n",
        "<center><img alt=\"Analisando Airbnb\" width=\"75%\" src=\"https://timesofsandiego.com/wp-content/uploads/2020/05/Belmont-Park_Release-Local-scaled.jpg\"></center>\n",
        "\n",
        "A herança espanhola e mexicana de San Diego se reflete em muitos locais históricos da cidade, como Mission San Diego de Alcala e Old Town San Diego State Historic Park. Além disso, a indústria cervejeira local atrai um número crescente de visitantes para \"passeios de cerveja\" e para a San Diego Beer Week anual em novembro. \n",
        "\n",
        " **Pontos turisticos de San Diego:**\n",
        " - *Gaslamp Quarter*;\n",
        " - *Parque SeaWorld*;\n",
        " - *Zoológico San Diego Zoo*;\n",
        " - *Pacific Beach*;\n",
        " - *Balboa Park*;\n",
        " - *PETCO Park*;\n",
        "\n",
        "Entre muitos outros locais com visuais impressionantes.\n",
        " \n",
        "---\n",
        "\n"
      ],
      "metadata": {
        "id": "qq1XzdSs80x3"
      }
    },
    {
      "cell_type": "markdown",
      "source": [
        "# __1 - Entendimento do Projeto__\n",
        "\n",
        "Uma das iniciativas do Airbnb é disponibilizar dados do site, para algumas das principais cidades do mundo. Por meio do portal [Inside Airbnb](http://insideairbnb.com/get-the-data.html), é possível baixar uma grande quantidade de dados para desenvolver projetos e soluções de *Data Science*. \n",
        "\n",
        "\n",
        "## 1.1 -  *Métodos abordados*\n",
        "\n",
        "Neste projeto iremos analisar os últimos dados, disponibilizados no Inside Airbnb, referentes à cidade de San Diego, Califórnia, e ver **quais insights podem ser extraídos a partir desses dados brutos**.\n",
        "\n",
        "Iremos identificar os comportamentos médios e discrepantes dos preços das acomodações, realizaremos a comparação desses valores, investigaremos a interdependência entre as variáveis, tipos de acomodações e procuraremos identificar tendências por bairros.\n",
        "\n",
        "A partir do conjunto de dados iniciais, o dataset, irei aplicar os recursos informácionais através da **linguagem de programação Phyton** e definir o que de fato é essencial e o que é \"lixo\".\n",
        "\n",
        "Utilizaremos as seguintes técnicas da análise exploratória:\n",
        "- `Histogramas`;  `Box Plot`; `Matriz de correlação`; `Heatmap`.\n",
        "\n",
        "\n",
        "## *1.2 - Quesitos analisados*\n",
        "\n",
        "- Tipo de imóvel mais alugado no Airbnb;\n",
        "- Quantidade e percentual de cada tipo de imóvel disponível;\n",
        "- Valor médio de diárias em San Diego;\n",
        "- Localidade com maiores taxas de diárias;\n",
        "- Valores financeiros gerados no período dos dados fornecidos;\n",
        "- Bairros e anfitriões mais comentados através dos reviews;\n",
        "\n",
        "\n",
        "# __2 - Explorando os Dados__\n",
        "\n",
        "Todos os dados usados aqui foram obtidos a partir do site [Inside Airbnb](http://insideairbnb.com/get-the-data.html).\n",
        "\n",
        "Para esta análise exploratória inicial, será baixado apenas o seguinte arquivo:\n",
        "* `listings.csv` - *Summary information and metrics for listings in San Diego (good for visualisations).*\n"
      ],
      "metadata": {
        "id": "vpNUpK150T5a"
      }
    },
    {
      "cell_type": "code",
      "execution_count": null,
      "metadata": {
        "id": "Wv2ZITLIyK8t"
      },
      "outputs": [],
      "source": [
        "# importando os pacotes necessários\n",
        "import warnings\n",
        "warnings.filterwarnings('ignore')\n",
        " \n",
        "import pandas as pd\n",
        "from datetime import datetime\n",
        "import numpy as np\n",
        "import matplotlib.pyplot as plt\n",
        "import seaborn as sns\n",
        "import folium\n",
        " \n",
        "# configurando a visualização\n",
        "sns.set_style()\n",
        "%matplotlib inline"
      ]
    },
    {
      "cell_type": "code",
      "source": [
        "# importar o arquivo listings.csv para um DataFrame\n",
        "df = pd.read_csv('/content/drive/MyDrive/San Diego - Califórnia, Estados Unidos/listings.csv')\n",
        "\n",
        "# Exclusão da coluna lincese\n",
        "df.drop('license', axis=1)"
      ],
      "metadata": {
        "id": "Gbgt9YefKs6Y"
      },
      "execution_count": null,
      "outputs": []
    },
    {
      "cell_type": "markdown",
      "source": [
        "## 2.1 - *Análisando os Dados*\n",
        "\n",
        "Este tópico tem o objetivo de criar uma consciência inicial e permitir o entendimento de como os dados foram e estão estruturados. \n",
        "\n",
        "#### **Dicionário das variáveis**\n",
        "\n",
        "* `id` - Número de identificação do imóvel;\n",
        "* `name` - Nome da propriedade anunciada;\n",
        "* `host_id` - Número de identificação do proprietário (anfitrião) da propriedade;\n",
        "* `host_name` - Nome do anfitrião;\n",
        "* `neighbourhood_group` - Esta coluna não contém nenhum valor válido;\n",
        "* `neighbourhood` - Nome do bairro;\n",
        "* `latitude` - Coordenada da latitude da propriedade;\n",
        "* `longitude` - Coordenada da longitude da propriedade;\n",
        "* `room_type` - Informa o tipo de quarto que é oferecido;\n",
        "* `price` - Preço para alugar o imóvel;\n",
        "* `minimum_nights` - Quantidade mínima de noites para reservar;\n",
        "* `number_of_reviews` - Número de reviews que a propriedade possui;\n",
        "* `last_review` - Data do último review;\n",
        "* `reviews_per_month` - Quantidade de reviews por mês;\n",
        "* `calculated_host_listings_count` - Quantidade de imóveis do mesmo anfitrião;\n",
        "* `availability_365` - Número de dias de disponibilidade dentro de 365 dias (1 ano).\n",
        "* `license` - Esta coluna não contém nenhum valor válido.\n",
        "\n",
        "Com o intuito de facilitar a visualização das variáveis (colunas), iremos utilizar uma linguagem em português para melhor visualização."
      ],
      "metadata": {
        "id": "FRh-djc1LJqf"
      }
    },
    {
      "cell_type": "code",
      "source": [
        "#alteração de nomes das colunas\n",
        "df.rename(columns={'id': 'ID_imóvel', 'name':'Descrição', 'host_id':'ID_proprietário', 'host_name':'Anfitrião', 'neighbourhood':'Bairro', 'room_type':'Tipo_quarto', 'price':'Preço', \n",
        "'minimum_nights':'Minimo_noites', 'number_of_reviews':'Número_reviews', 'last_review':'Data_último_review', 'reviews_per_month':'Reviews_mês', 'calculated_host_listings_count':'Imóveis_por_anfitrião',\n",
        "'availability_365':'Disponibilidade_anual'}, inplace=True)\n",
        "\n",
        "# Verificação de alteração do nome das colunas \n",
        "print(df.columns)"
      ],
      "metadata": {
        "id": "i3k2HFHoNlDg"
      },
      "execution_count": null,
      "outputs": []
    },
    {
      "cell_type": "code",
      "source": [
        "# mostrar as 5 primeiras entradas do dataset\n",
        "df.head()"
      ],
      "metadata": {
        "id": "UlW-DQQUO6rv"
      },
      "execution_count": null,
      "outputs": []
    },
    {
      "cell_type": "code",
      "source": [
        "# mostrar as 5 últimas entradas do dataset\n",
        "df.tail()"
      ],
      "metadata": {
        "id": "FmDDswPXPZ1y"
      },
      "execution_count": null,
      "outputs": []
    },
    {
      "cell_type": "markdown",
      "source": [
        "## **Quantificando as variáveis, entradas e tipos do nosso conjunto de dados**\n",
        "\n",
        "Vamos prosseguir e identificar a quantidade de entradas do conjunto de dados e ver os tipos das colunas."
      ],
      "metadata": {
        "id": "AufswpuMX666"
      }
    },
    {
      "cell_type": "code",
      "source": [
        "# definir dados de data e hora \n",
        "df ['Data_último_review'] = pd.to_datetime (df ['Data_último_review'])"
      ],
      "metadata": {
        "id": "8tQlTG-lY_al"
      },
      "execution_count": null,
      "outputs": []
    },
    {
      "cell_type": "code",
      "source": [
        "# identificar o volume de dados do DataFrame\n",
        "print(\"Entradas:\\t {}\".format(df.shape[0]))\n",
        "print(\"Variáveis:\\t {}\\n\".format(df.shape[1]))\n",
        "\n",
        "# verificar as 5 primeiras entradas do dataset\n",
        "display(df.dtypes)"
      ],
      "metadata": {
        "id": "_1gBEu0oX_oP"
      },
      "execution_count": null,
      "outputs": []
    },
    {
      "cell_type": "markdown",
      "source": [
        "## **Percentual de valores ausentes no *dataset***\n",
        "\n",
        "A qualidade de um *dataset* está diretamente relacionada à quantidade de valores ausentes. É importante entender logo no início se esses valores nulos são significativos comparados ao total de entradas.\n",
        "\n",
        "* É possível ver que a coluna `neighbourhood_group` e `license` possuem 100% dos seus valores faltantes;\n",
        "* As variáveis `Reviews mês` e `Data último review` possuem 14% dos seus valores nulos;\n",
        "* As variável Data_último_review mudei para o tipo de data padrão (datetime64[ns])."
      ],
      "metadata": {
        "id": "aMq6U3ndYTOG"
      }
    },
    {
      "cell_type": "code",
      "source": [
        "# ordenar em ordem decrescente as variáveis por seus valores ausentes\n",
        "(df.isnull().sum() / df.shape[0]).sort_values(ascending=False)"
      ],
      "metadata": {
        "id": "GcyVIc9RYdGl"
      },
      "execution_count": null,
      "outputs": []
    },
    {
      "cell_type": "code",
      "source": [
        "df_Data_último_review = pd.date_range(start='6/1/2013', end='6/1/2020', freq='D')"
      ],
      "metadata": {
        "id": "jM-Rjc8MZI8f"
      },
      "execution_count": null,
      "outputs": []
    },
    {
      "cell_type": "code",
      "source": [
        "display(df_Data_último_review)"
      ],
      "metadata": {
        "id": "4PiZKppGZJ49"
      },
      "execution_count": null,
      "outputs": []
    },
    {
      "cell_type": "code",
      "source": [
        "type(df_Data_último_review[0])"
      ],
      "metadata": {
        "id": "mUkhvG1gZTZW"
      },
      "execution_count": null,
      "outputs": []
    },
    {
      "cell_type": "markdown",
      "source": [
        "## **Análise dos tipos de distribuição das variáveis**\n",
        "\n",
        "Para identificar a distribuição das variáveis, irei plotar o histograma."
      ],
      "metadata": {
        "id": "l3Ru-UHaZaxP"
      }
    },
    {
      "cell_type": "code",
      "source": [
        "# plotar o histograma das variáveis numéricas\n",
        "df.hist(bins=15, figsize=(20,15), color='#F24A72');"
      ],
      "metadata": {
        "id": "wNhRNuaLZe6D"
      },
      "execution_count": null,
      "outputs": []
    },
    {
      "cell_type": "code",
      "source": [
        "df.Data_último_review.hist(color='#FDAF75')"
      ],
      "metadata": {
        "id": "10w-oH9lZrtl"
      },
      "execution_count": null,
      "outputs": []
    },
    {
      "cell_type": "markdown",
      "source": [
        "## **Avaliação de *outliers* presentes**\n",
        "\n",
        "Pela distribuição do histograma, é possível verificar indícios da presença de *outliers*. Olhe por exemplo as variáveis `Preço`, `Mínimo_noites` e `Imóveis_por_anfitrião`.\n",
        "\n",
        "Os valores não seguem uma distribuição e distorcem toda a representação gráfica. Para confirmar, há duas maneiras rápidas que auxiliam a detecção de *outliers*:\n",
        "\n",
        "* Resumo estatístico por meio do método `describe()`;\n",
        "* Plotar `boxplots` para a variável."
      ],
      "metadata": {
        "id": "m9v3afYYaMsu"
      }
    },
    {
      "cell_type": "code",
      "source": [
        "# ver o resumo estatístico das variáveis numéricas\n",
        "df[['Preço', 'Minimo_noites', 'Número_reviews', 'Reviews_mês', 'Imóveis_por_anfitrião', 'Disponibilidade_anual']].describe()"
      ],
      "metadata": {
        "id": "HwgyMcH0aoK4"
      },
      "execution_count": null,
      "outputs": []
    },
    {
      "cell_type": "markdown",
      "source": [
        "Olhando o resumo estatístico acima, podemos confirmar algumas hipóteses como:\n",
        "\n",
        "* A variável `Preço` possui 75% do valor abaixo de  336 porém seu valor máximo é R$ 10.000,00;\n",
        "* A quantidade mínima de noites está acima de 365 dias no ano;\n",
        "* Os Imóveis por anfitrião existem proprietários com 202 acomodações. "
      ],
      "metadata": {
        "id": "LyQYbEg1ay9X"
      }
    },
    {
      "cell_type": "markdown",
      "source": [
        "## **Boxplot para Mínimo noites**"
      ],
      "metadata": {
        "id": "-_Lxp5zwcUjx"
      }
    },
    {
      "cell_type": "code",
      "source": [
        "# Mínimo noites\n",
        "df.Minimo_noites.plot(kind='box', vert=False, figsize=(15, 3),)\n",
        "plt.show()\n",
        "\n",
        "# ver quantidade de valores acima de 30 dias para Mínimo noites\n",
        "print(\"\\nMinimo_noites: valores acima de 30:\")\n",
        "print(\"{} entradas\".format(len(df[df.Minimo_noites > 30])))\n",
        "print(\"{:.4f}%\".format((len(df[df.Minimo_noites > 30]) / df.shape[0])*100))"
      ],
      "metadata": {
        "id": "UTBw1zwhbZdm"
      },
      "execution_count": null,
      "outputs": []
    },
    {
      "cell_type": "markdown",
      "source": [
        "## **Boxplot para Preço**"
      ],
      "metadata": {
        "id": "SMtjQxtscm4u"
      }
    },
    {
      "cell_type": "code",
      "source": [
        "# Preço\n",
        "df.Preço.plot(kind='box', vert=False, figsize=(15, 3),)\n",
        "plt.show()\n",
        "\n",
        "# ver quantidade de valores acima de 1000 para Preço\n",
        "print(\"\\nPreço: valores acima de 1000\")\n",
        "print(\"{} entradas\".format(len(df[df.Preço > 1000])))\n",
        "print(\"{:.4f}%\".format((len(df[df.Preço > 1000]) / df.shape[0])*100))\n",
        "\n",
        "# df.Preço.plot(kind='box', vert=False, xlim=(0,1300), figsize=(15,3));"
      ],
      "metadata": {
        "id": "DLBkvNAbcxgO"
      },
      "execution_count": null,
      "outputs": []
    },
    {
      "cell_type": "markdown",
      "source": [
        "## **Boxplot para  Imóveis por Anfitrião**\n",
        "\n"
      ],
      "metadata": {
        "id": "tDmn0Nz-dGPA"
      }
    },
    {
      "cell_type": "code",
      "source": [
        "# Imóveis por anfitrião\n",
        "df.Imóveis_por_anfitrião.plot(kind='box', vert=False, figsize=(15, 3),)\n",
        "plt.show()\n",
        "\n",
        "# ver quantidade de Imóveis por anfitrião acima de 50 \n",
        "print(\"Imóveis por anfitrião: valores acima de 50\")\n",
        "print(\"{} entradas\".format(len(df[df.Imóveis_por_anfitrião > 50])))\n",
        "print(\"{:.4f}%\".format((len(df[df.Imóveis_por_anfitrião > 50]) / df.shape[0])*100))\n",
        "\n",
        "# df.Imóveis_por_anfitrião.plot(kind='box', vert=False, xlim=(0,1300), figsize=(15,3));"
      ],
      "metadata": {
        "id": "firhfLKadQ90"
      },
      "execution_count": null,
      "outputs": []
    },
    {
      "cell_type": "markdown",
      "source": [
        "# __3. Preparando os dados__\n",
        "\n",
        "Nesta etapa iremos realizar a preparação dos dados e consequentemente a limpeza, realizando a integração, formatação e construção de novos dados, para que possamos selecionar os que serão utilizados na construção de nosso modelo (análise exploratória de dados).\n",
        "\n",
        "## *3.1 Limpando os dados*\n",
        "\n",
        "Já que identificamos *outliers* nas variáveis `Preço`, `Minimo noite` e `Imóveis por anfitrião`, vamos agora limpar o *DataFrame* delas e plotar novamente o histograma."
      ],
      "metadata": {
        "id": "8cBBglstdlt-"
      }
    },
    {
      "cell_type": "code",
      "source": [
        "# remover os outliers em um novo DataFrame\n",
        "df_clean = df.copy()\n",
        "df_clean.drop(df_clean[df_clean.Preço > 1500].index, axis=0, inplace=True)\n",
        "df_clean.drop(df_clean[df_clean.Minimo_noites > 30].index, axis=0, inplace=True)\n",
        "df_clean.drop(df_clean[df_clean.Preço < 10].index, axis=0, inplace=True)\n",
        "df_clean.drop(df_clean[df_clean.Minimo_noites < 1].index, axis=0, inplace=True)\n",
        "df_clean.drop(df_clean[df_clean.Imóveis_por_anfitrião > 50].index, axis=0, inplace=True)\n",
        "df_clean.drop(df_clean[df_clean.Imóveis_por_anfitrião < 1].index, axis=0, inplace=True)\n",
        "\n",
        "# remover `neighbourhood_group`, pois está vazio\n",
        "df_clean.drop('neighbourhood_group', axis=1, inplace=True)\n",
        "\n",
        "# plotar o histograma para as variáveis numéricas\n",
        "df_clean[[\"Preço\", \"Minimo_noites\", \"Imóveis_por_anfitrião\"]].hist(figsize=(12,8), color='#845EC2');"
      ],
      "metadata": {
        "id": "OIhLSdBOd_MZ"
      },
      "execution_count": null,
      "outputs": []
    },
    {
      "cell_type": "markdown",
      "source": [
        "# **4 - Construindo o modelo do DS**\n",
        "\n",
        "Nesta etapa iremos utilizar as técnicas de modelagem em Data Science. Construiremos possíveis modelos para nosso DS com a análise exploratória dos dados (tabelas, gráficos), outras técnicas disponíveis, e por fim, o modelo será avaliado quanto à qualidade das suas previsões (métricas de avaliação do modelo).\n",
        "\n",
        "\n",
        "## **O tipo de imóvel mais disponível no Airbnb**\n",
        "\n",
        "A coluna da variável `Tipo_quarto` indica o tipo de locação que está anunciada no Airbnb. Se você já alugou no site, sabe que existem opções de apartamentos/casas inteiras, apenas o aluguel de um quarto ou mesmo dividir o quarto com outras pessoas.\n",
        "\n",
        "Vamos contabilizar a quantidade de ocorrências de cada tipo de aluguel, usando o método `value_counts()`."
      ],
      "metadata": {
        "id": "FAKvZ7FIeOUM"
      }
    },
    {
      "cell_type": "code",
      "source": [
        "# mostrar a quantidade de cada tipo de imóvel disponível\n",
        "quant_tipoquarto = df_clean.Tipo_quarto.value_counts()\n",
        "\n",
        "# Demonstrar o resultado\n",
        "print(quant_tipoquarto)\n",
        "print('\\n')"
      ],
      "metadata": {
        "id": "h63hiQXUesoL"
      },
      "execution_count": null,
      "outputs": []
    },
    {
      "cell_type": "code",
      "source": [
        "# mostrar a porcentagem de cada tipo de imóvel disponível\n",
        "perc_tipoquarto = df_clean.Tipo_quarto.value_counts() / df_clean.shape[0]*100\n",
        "\n",
        "# Demonstrar o resultado\n",
        "print(perc_tipoquarto)\n",
        "print('\\n')"
      ],
      "metadata": {
        "id": "938O3ISFe253"
      },
      "execution_count": null,
      "outputs": []
    },
    {
      "cell_type": "code",
      "source": [
        "# Plotar o percentual por tipo de quarto\n",
        "ax = sns.barplot(quant_tipoquarto.index, perc_tipoquarto) \n",
        "ax.set_title('Percentual de tipo de quartos')\n",
        "ax.tick_params(bottom=False, top=False, left=False, right=False);\n",
        "ax.set_ylabel('Percentual %', fontsize=12)\n",
        "for kew, spine in ax.spines.items():\n",
        "    spine.set_visible(False)"
      ],
      "metadata": {
        "id": "MQQiB487fDz-"
      },
      "execution_count": null,
      "outputs": []
    },
    {
      "cell_type": "markdown",
      "source": [
        "## **Bairros com maiores valores de diárias**\n",
        "\n",
        "Uma maneira de se verificar uma variável em função da outra é usando o `groupby()`. No caso, queremos comparar os bairros a partir do preço de locação."
      ],
      "metadata": {
        "id": "dZ7JmuV2eOM6"
      }
    },
    {
      "cell_type": "code",
      "source": [
        "df_clean.groupby(['Bairro']).Preço.mean().sort_values(ascending=False)[:10]"
      ],
      "metadata": {
        "id": "hHcaZwqIfMSc"
      },
      "execution_count": null,
      "outputs": []
    },
    {
      "cell_type": "markdown",
      "source": [
        "Acima, verificamos que bairros como Eastlake Woods, La Jolla, Wooded Area e North City, estão com média de preço superior a de lugares como Torrey Pines, Del Cerro e Columbia.\n",
        "\n",
        "Uma pessoa que não conhecesse San Diego poderia apresentar esses resultados sem se questionar. Só para dar um único exemplo de como uma amostra pode ser não-representativa, veja quantas entradas vazias existem em Eastlake Woods."
      ],
      "metadata": {
        "id": "QtEqkbOtfi52"
      }
    },
    {
      "cell_type": "code",
      "source": [
        "# ver quantidade de imóveis no Eastlake Woods\n",
        "print(df_clean[df_clean.Bairro == \"Eastlake Woods\"].shape)\n",
        "\n",
        "# ver a 1 entrada do Eastlake Woods\n",
        "df_clean[df_clean.Bairro == \"Eastlake Woods\"]"
      ],
      "metadata": {
        "id": "AfqGnhjFgrkb"
      },
      "execution_count": null,
      "outputs": []
    },
    {
      "cell_type": "markdown",
      "source": [
        "Analisando a entrada 7145, percebe se que está incoerente, um Entire home/apt em Eastlake Woods por 700 a diária não condiz com a realidade, devido a isso iremos eliminar esse bairro."
      ],
      "metadata": {
        "id": "qV7vsmt3hNAI"
      }
    },
    {
      "cell_type": "code",
      "source": [
        "# ver quantidade de imóveis em La Jolla\n",
        "print(df_clean[df_clean.Bairro == \"La Jolla\"].shape)\n",
        "\n",
        "# ver as entradas de La Jolla\n",
        "df_clean[df_clean.Bairro == \"La Jolla\"]"
      ],
      "metadata": {
        "id": "V3i9EOtghm7i"
      },
      "execution_count": null,
      "outputs": []
    },
    {
      "cell_type": "markdown",
      "source": [
        "O bairro La Jolla também possui incoerências, logo, iremos deletar. "
      ],
      "metadata": {
        "id": "RgrdQPDTkmeY"
      }
    },
    {
      "cell_type": "code",
      "source": [
        "# ver quantidade de imóveis no Wooded Area\n",
        "print(df_clean[df_clean.Bairro == \"Wooded Area\"].shape)\n",
        "\n",
        "# ver as entradas do Wooded Area\n",
        "df_clean[df_clean.Bairro == \"Wooded Area\"]"
      ],
      "metadata": {
        "id": "Apwf47ZomDHM"
      },
      "execution_count": null,
      "outputs": []
    },
    {
      "cell_type": "markdown",
      "source": [
        "O bairro Wooded Area apresenta certas incoerências, também será excluído."
      ],
      "metadata": {
        "id": "1Wvr3yrPm7Mf"
      }
    },
    {
      "cell_type": "code",
      "source": [
        "# ver quantidade de imóveis no North City \n",
        "print(df_clean[df_clean.Bairro == \"North City\"].shape)\n",
        "\n",
        "# ver as entradas do North City\n",
        "df_clean[df_clean.Bairro == \"North City\"]"
      ],
      "metadata": {
        "id": "P8c7FYBWkqiF"
      },
      "execution_count": null,
      "outputs": []
    },
    {
      "cell_type": "code",
      "source": [
        "# limpando o dataset\n",
        "\n",
        "df_clean.drop(df_clean[df_clean.Bairro == \"Eastlake Woods\"].index, axis=0, inplace=True)\n",
        "\n",
        "df_clean.drop(df_clean[df_clean.Bairro == \"La Jolla\"].index, axis=0, inplace=True)\n",
        "\n",
        "df_clean.drop(df_clean[df_clean.Bairro == \"Wooded Area\"].index, axis=0, inplace=True)\n",
        "\n",
        "df_clean.drop(df_clean[df_clean.Bairro == \"North City\"].index, axis=0, inplace=True) "
      ],
      "metadata": {
        "id": "YUdHbX-zocWm"
      },
      "execution_count": null,
      "outputs": []
    },
    {
      "cell_type": "code",
      "source": [
        "# ver quantidade de imóveis nos Bairros deletados\n",
        "print(df_clean[df_clean.Bairro == \"Eastlake Woods\"].shape)\n",
        "print(df_clean[df_clean.Bairro == \"La Jolla\"].shape)\n",
        "print(df_clean[df_clean.Bairro == \"Wooded Area\"].shape)\n",
        "print(df_clean[df_clean.Bairro == \"North City\"].shape)\n",
        "\n",
        "# ver as entradas dos Bairros deletados\n",
        "df_clean[df_clean.Bairro == \"Eastlake Woods\"]\n",
        "df_clean[df_clean.Bairro == \"La Jolla\"]\n",
        "df_clean[df_clean.Bairro == \"Wooded Area\"]\n",
        "df_clean[df_clean.Bairro == \"North City\"]"
      ],
      "metadata": {
        "id": "ie842-suocQr"
      },
      "execution_count": null,
      "outputs": []
    },
    {
      "cell_type": "code",
      "source": [
        "df_clean.groupby(['Bairro']).Preço.mean().sort_values(ascending=False)[:10]"
      ],
      "metadata": {
        "id": "jkXal-FvpvBe"
      },
      "execution_count": null,
      "outputs": []
    },
    {
      "cell_type": "code",
      "source": [
        "valor_porbairro = df_clean.groupby(['Bairro']).Preço.mean().sort_values(ascending=False)[:7]\n",
        "\n",
        "# Demonstrar o resultado\n",
        "print(valor_porbairro)\n",
        "print('\\n')"
      ],
      "metadata": {
        "id": "NPIvJm2EpzCX"
      },
      "execution_count": null,
      "outputs": []
    },
    {
      "cell_type": "code",
      "source": [
        "# Plotar maiores valores de diárias por bairro\n",
        "ax = sns.barplot(valor_porbairro.index, valor_porbairro) \n",
        "ax.set_title('Top 7 Maiores valores de diárias por bairro', fontsize=14)\n",
        "ax.tick_params(bottom=False, top=False, left=30, right=False);\n",
        "ax.set_ylabel('Valores $', fontsize=12)\n",
        "for kew, spine in ax.spines.items():\n",
        "    spine.set_visible(False)"
      ],
      "metadata": {
        "id": "zba-Gkryp677"
      },
      "execution_count": null,
      "outputs": []
    },
    {
      "cell_type": "markdown",
      "source": [
        "## **Bairros mais comentados**\n"
      ],
      "metadata": {
        "id": "PM3GzXWK7Mck"
      }
    },
    {
      "cell_type": "code",
      "source": [
        "df.groupby(['Bairro']).Número_reviews.mean().sort_values(ascending=False)[:10]\n",
        "\n",
        "bairros_maiscomentados = df.groupby(['Bairro']).Número_reviews.mean().sort_values(ascending=False)[:6]\n",
        "\n",
        "# Demonstrar o resultado\n",
        "print(bairros_maiscomentados)\n",
        "print('\\n')"
      ],
      "metadata": {
        "id": "q7m306wv7LsG"
      },
      "execution_count": null,
      "outputs": []
    },
    {
      "cell_type": "code",
      "source": [
        "# Plotar bairros_mais comentados\n",
        "ax = sns.barplot(bairros_maiscomentados.index, bairros_maiscomentados) \n",
        "ax.set_title('Top 6 bairros mais comentados', fontsize=14)\n",
        "ax.tick_params(bottom=False, top=False, left=False, right=False);\n",
        "ax.set_ylabel('comentários', fontsize=12)\n",
        "for kew, spine in ax.spines.items():\n",
        "    spine.set_visible(False)"
      ],
      "metadata": {
        "id": "B2msFKMm7lch"
      },
      "execution_count": null,
      "outputs": []
    },
    {
      "cell_type": "code",
      "source": [
        "df.groupby(['Anfitrião']).Número_reviews.mean().sort_values(ascending=False)[:10]\n",
        "\n",
        "anfitriao_maiscomentados = df.groupby(['Anfitrião']).Número_reviews.mean().sort_values(ascending=False)[:3]\n",
        "\n",
        "# Demonstrar o resultado\n",
        "print(anfitriao_maiscomentados)\n",
        "print('\\n')\n",
        "\n",
        "# Plotar Anfitrião_mais comentados\n",
        "ax = sns.barplot(anfitriao_maiscomentados.index, anfitriao_maiscomentados) \n",
        "ax.set_title('Top 3 anfitriões mais comentados')\n",
        "ax.tick_params(bottom=False, top=False, left=False, right=False);\n",
        "ax.set_ylabel('comentários', fontsize=12)\n",
        "for kew, spine in ax.spines.items():\n",
        "    spine.set_visible(False)"
      ],
      "metadata": {
        "id": "pIkTvrPe759c"
      },
      "execution_count": null,
      "outputs": []
    },
    {
      "cell_type": "markdown",
      "source": [
        "## **Média dos preços da diária**\n"
      ],
      "metadata": {
        "id": "SC4BeF9s8GIR"
      }
    },
    {
      "cell_type": "code",
      "source": [
        "print(\"Média de preço de diárias\")\n",
        "print ('$', df_clean.Preço.mean())\n"
      ],
      "metadata": {
        "id": "_YhxroIl8Obz"
      },
      "execution_count": null,
      "outputs": []
    },
    {
      "cell_type": "code",
      "source": [
        "# valor da soma de todos alugueis\n",
        "sum(df_clean.Preço)\n",
        "\n",
        "print(\"soma de todas as diárias existentes no AIRBNB San Diego\")\n",
        "print ('$',sum(df_clean.Preço))"
      ],
      "metadata": {
        "id": "Z_uDb_Cz8ZA7"
      },
      "execution_count": null,
      "outputs": []
    },
    {
      "cell_type": "markdown",
      "source": [
        "Como são fornecidas as Latitudes e Longitudes para os imóveis, é possível plotar cada ponto. Para isso, considera-se `x=longitude` e `y=latitude`."
      ],
      "metadata": {
        "id": "5K5WrrPS8qIs"
      }
    },
    {
      "cell_type": "code",
      "source": [
        "# plotar os imóveis pela latitude-longitude\n",
        "\n",
        "df_clean.plot(kind=\"scatter\", x='longitude', y='latitude', alpha=0.4, c=df_clean['Preço'], s=8,\n",
        "              cmap=plt.get_cmap('jet'), figsize=(12,8));"
      ],
      "metadata": {
        "id": "yd5As3_P8wMf"
      },
      "execution_count": null,
      "outputs": []
    },
    {
      "cell_type": "markdown",
      "source": [
        "## **Correlação existente entre as variáveis**\n",
        "\n",
        "Correlação significa que existe uma relação entre duas coisas. No contexto da análise, podemos buscar relação ou semelhança entre duas variáveis.\n",
        "\n",
        "Essas relações podem ser medidas, e é função do coeficiente de relação estabelecer qual a intensidade dela. Para identificar as correlações existentes entre as variáveis de interesse, vou:\n",
        "\n",
        "* Criar uma matriz de correlação;\n",
        "* Gerar um *heatmap* a partir dessa matriz, usando a biblioteca `seaborn`"
      ],
      "metadata": {
        "id": "WFpEumAO4WUl"
      }
    },
    {
      "cell_type": "code",
      "source": [
        "# criar uma matriz de correlação\n",
        "corr = df_clean[['Preço', 'Minimo_noites', 'Número_reviews', 'Reviews_mês',\n",
        "    'Imóveis_por_anfitrião', 'Disponibilidade_anual']].corr()\n",
        "\n",
        "display(corr)"
      ],
      "metadata": {
        "id": "l-dHmszI4Ybg"
      },
      "execution_count": null,
      "outputs": []
    },
    {
      "cell_type": "code",
      "source": [
        "sns.heatmap(corr, cmap='RdBu', fmt='.2f', square=False, linecolor='red', annot=True);"
      ],
      "metadata": {
        "id": "KEVHQGVM9IBz"
      },
      "execution_count": null,
      "outputs": []
    },
    {
      "cell_type": "markdown",
      "source": [
        "# *Conclusão*\n",
        "##**Após a análise superficial dos dados na cidade de San Diego, é possível notar alguns parâmetros.**\n",
        "\n",
        "\n",
        "* Que 80% das pessoas que procuram o Airbnb para hospedagem, tem preferencia por apartamento e residencias;\n",
        "\n",
        "* Na belíssima cidade de San Diego, temos uma média de 232, 86 dólares por hospedagem.\n",
        "\n",
        "* Vimos que acimas de 1000 dólares temos 368 entradas que representa 3,57%% do nosso dataset, que mostra que a cidade de San Diego, também tem hospedagem para a classe de alto padrão.\n",
        "\n",
        "* A região mais cara de San Diego fica em Del Mar Heights por estar mais próxima do litoral estadunidense e ficar perto de vários pontos turísticos.\n",
        "\n",
        "---\n",
        "\n",
        "####Estas foram as analises da cidade de San Diego, para hospedagem, usando os dados do aplicativo Airbnb. "
      ],
      "metadata": {
        "id": "kadm9hvmEeVz"
      }
    }
  ]
}