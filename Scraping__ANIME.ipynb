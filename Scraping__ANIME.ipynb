{
  "nbformat": 4,
  "nbformat_minor": 0,
  "metadata": {
    "colab": {
      "private_outputs": true,
      "provenance": [],
      "authorship_tag": "ABX9TyON6K/LiqdLcUVaymo/C2pT"
    },
    "kernelspec": {
      "name": "python3",
      "display_name": "Python 3"
    },
    "language_info": {
      "name": "python"
    }
  },
  "cells": [
    {
      "cell_type": "code",
      "execution_count": null,
      "metadata": {
        "id": "5WXqLNaK8SPD"
      },
      "outputs": [],
      "source": [
        "from bs4 import BeautifulSoup\n",
        "import requests\n",
        "import pandas"
      ]
    },
    {
      "cell_type": "code",
      "source": [
        "URL_SOUP = \"https://www.imdb.com/list/ls057577566/\"\n",
        "NAME_SELECTOR = \"h3 a\"\n",
        "YEAR_SELECTOR = \"h3 span.lister-item-year\"\n",
        "GENRE_SELECTOR = \"p.text-muted span.genre\"\n",
        "RATING_SELECTOR = \"span.ipl-rating-star__rating\"\n",
        "DESCRIPTION_SELECTOR = \"div.list-description p\""
      ],
      "metadata": {
        "id": "1qtHcN9V8key"
      },
      "execution_count": null,
      "outputs": []
    },
    {
      "cell_type": "code",
      "source": [
        "response = requests.get(url=URL_SOUP)\n",
        "response.raise_for_status()\n",
        "soup = BeautifulSoup(response.text, \"html.parser\")\n",
        "# print(soup.prettify())\n",
        "divs = soup.select(selector=\"div .lister-item\")\n",
        "anime_dic = {'Name': [],\n",
        "             'Year': [],\n",
        "             'Genre': [],\n",
        "             'Rating': [],\n",
        "             'Description': []\n",
        "             }"
      ],
      "metadata": {
        "id": "BQ_8PXF98p2n"
      },
      "execution_count": null,
      "outputs": []
    },
    {
      "cell_type": "code",
      "source": [
        "for anime_div in divs:\n",
        "    anime_name = anime_div.select_one(NAME_SELECTOR).text\n",
        "    anime_year = anime_div.select_one(YEAR_SELECTOR).text\n",
        "    anime_genre = anime_div.select_one(GENRE_SELECTOR).text.strip()\n",
        "    rating = float(anime_div.select_one(RATING_SELECTOR).text)\n",
        "    description = anime_div.select_one(DESCRIPTION_SELECTOR).text\n",
        "\n",
        "    anime_dic['Name'].append(anime_name)\n",
        "    anime_dic['Year'].append(anime_year)\n",
        "    anime_dic['Genre'].append(anime_genre)\n",
        "    anime_dic['Rating'].append(rating)\n",
        "    anime_dic['Description'].append(description)"
      ],
      "metadata": {
        "id": "STQSDuKD8uo7"
      },
      "execution_count": null,
      "outputs": []
    },
    {
      "cell_type": "code",
      "source": [
        "print(anime_dic)\n",
        "\n",
        "anime_df = pandas.DataFrame(anime_dic)\n",
        "print(anime_df)\n",
        "anime_df.to_csv(\"100_anime.csv\")\n",
        "\n",
        "print(f\"The anime with the highest rating is ....... {anime_df.Rating.max()} and it is \"\n",
        "      f\"\\n{anime_df.loc[anime_df.Rating.idxmax()]}\")\n",
        "\n",
        "print(\"-----------------------------------------------------\")\n",
        "print(f\"The anime with the lowest rating is ....... {anime_df.Rating.min()} \"\n",
        "      f\"and it is \\n{anime_df.loc[anime_df.Rating.idxmin()]}\")\n",
        "\n",
        "print(\"-----------------------------------------------------\")\n",
        "print(f\"The average rating of the ratings ? {anime_df.Rating.mean()}\")"
      ],
      "metadata": {
        "id": "amI3fW9v8z_2"
      },
      "execution_count": null,
      "outputs": []
    }
  ]
}