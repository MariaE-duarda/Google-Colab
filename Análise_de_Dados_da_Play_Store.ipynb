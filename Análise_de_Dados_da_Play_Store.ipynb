{
  "nbformat": 4,
  "nbformat_minor": 0,
  "metadata": {
    "colab": {
      "name": "Análise de Dados da Play Store.ipynb",
      "private_outputs": true,
      "provenance": [],
      "authorship_tag": "ABX9TyMS4a2s6ibP0Glxv2ThmCpR",
      "include_colab_link": true
    },
    "kernelspec": {
      "name": "python3",
      "display_name": "Python 3"
    },
    "language_info": {
      "name": "python"
    }
  },
  "cells": [
    {
      "cell_type": "markdown",
      "metadata": {
        "id": "view-in-github",
        "colab_type": "text"
      },
      "source": [
        "<a href=\"https://colab.research.google.com/github/MariaE-duarda/google_colab-codes/blob/main/An%C3%A1lise_de_Dados_da_Play_Store.ipynb\" target=\"_parent\"><img src=\"https://colab.research.google.com/assets/colab-badge.svg\" alt=\"Open In Colab\"/></a>"
      ]
    },
    {
      "cell_type": "markdown",
      "source": [
        "# __Análise de Dados - Aplicativos da Play Store__\n",
        "<img height=200 width=400 src=\"https://cdn.worldvectorlogo.com/logos/google-play-3.svg\">\n",
        "\n",
        "A [**Play Store**](https://play.google.com/store/games?utm_source=latam_Med&utm_medium=hasem&utm_content=Jul1520&utm_campaign=Evergreen&pcampaignid=MKT-FDR-latam-br-1002290-Med-hasem-py-Evergreen-Jul1520-Text_Search_BKWS-34087548205&gclid=Cj0KCQjw1tGUBhDXARIsAIJx01nUv8awe1BJS5zsat8fmt35QREb6UO6_XWEh5ZlLPE9nBlaTlrle4caAiQJEALw_wcB&gclsrc=aw.ds) é a loja de aplicativos do Google, é através dela que os usuários de celulares com sistema *operacional Android* conseguem baixar apps como **WhatsApp**, **Facebook**, **Spotify**, **Netflix** e vários outros para seus dispositivos. Apesar do uso ser gratuito, ela também conta com ofertas de *aplicativos* e *serviços pagos*.\n",
        "\n"
      ],
      "metadata": {
        "id": "LK83_gNm28aV"
      }
    },
    {
      "cell_type": "markdown",
      "source": [
        "## __Objetivo__\n",
        "Os dados dos aplicativos da **Play Store** têm um enorme potencial para levar as empresas que *desenvolvem essas aplicações* ao sucesso.O objetivo deste *projeto* é **analisar esses dados com o intuito de ajudar os desenvolvedores a entender que tipo de aplicativo** provavelmente atrairá mais usuários."
      ],
      "metadata": {
        "id": "RgRl9k_46DYf"
      }
    },
    {
      "cell_type": "markdown",
      "source": [
        "## Obtenção dos Dados\n",
        "Os dados usados nessa análise foram obtidos a partir do site [Kaggle.com](https://www.kaggle.com/datasets/lava18/google-play-store-apps).\n"
      ],
      "metadata": {
        "id": "UX9C_i7T6JW0"
      }
    },
    {
      "cell_type": "code",
      "execution_count": null,
      "metadata": {
        "id": "ZZA-qDJsx3Kn"
      },
      "outputs": [],
      "source": [
        "# Importando os pacotes necessários\n",
        "import pandas as pd\n",
        "import numpy as np\n",
        "import matplotlib.pyplot as plt\n",
        "import seaborn as sns\n",
        "from wordcloud import WordCloud"
      ]
    },
    {
      "cell_type": "code",
      "source": [
        "# Lendo o arquivo:\n",
        "df_app = pd.read_csv('/content/googleplaystore.csv')"
      ],
      "metadata": {
        "id": "rQRCxmGKyzaD"
      },
      "execution_count": null,
      "outputs": []
    },
    {
      "cell_type": "markdown",
      "source": [
        "## Análise dos Dados\n",
        "\n",
        "Esta etapa tem por *objetivo* criar uma consciência inicial e permitir um entendimento de como os dados estão estruturados.\n",
        "\n",
        "**Dicionário das variáveis**\n",
        "\n",
        "* App - Nome do aplicativo\n",
        "* Category - Categoria à qual o aplicativo pertence\n",
        "* Rating - classificação do aplicativo \n",
        "* Reviews - Número de avaliações de usuários do aplicativo\n",
        "* Size - Tamanho do aplicativo\n",
        "* Installs - Número de downloads / instalações de usuário para o aplicativo \n",
        "* Type - Pago ou Gratuito\n",
        "* Price - preço\n",
        "* Content Rating - Faixa etária em que o aplicativo é direcionado - Crianças / maiores de 21 anos / Adulto\n",
        "* Genres - Um aplicativo pode pertencer a vários gêneros (além da categoria principal). Por exemplo, um jogo musical familiar pertence aos gêneros Música, Jogo, Família.\n",
        "* Last Updated - Data em que o aplicativo foi atualizado pela última vez na Play Store\n",
        "* Current Ver - Versão atual do aplicativo disponível na Play Store\n",
        "* Android Ver - Versão mínima exigida do Android"
      ],
      "metadata": {
        "id": "L45i-I5H6t2c"
      }
    },
    {
      "cell_type": "markdown",
      "source": [
        "No momento, serão analisadas as 5 primeiras linhas do dataframe: "
      ],
      "metadata": {
        "id": "vZsQ0PcA8TdX"
      }
    },
    {
      "cell_type": "code",
      "source": [
        "# Primeiras 5 linhas:\n",
        "df_app.head()"
      ],
      "metadata": {
        "id": "jvJykYh8y8nA"
      },
      "execution_count": null,
      "outputs": []
    },
    {
      "cell_type": "markdown",
      "source": [
        "###**Quantos linhas e quantas colunas o nosso conjunto de dados possui? Quais os tipos das variáveis?**"
      ],
      "metadata": {
        "id": "_X5RA_3o8iem"
      }
    },
    {
      "cell_type": "code",
      "source": [
        "# Tamanho do Dataframe:\n",
        "print(f'Número de linhas: {len(df_app.index)}')\n",
        "print(f'Número de colunas: {len(df_app.columns)}\\n')\n",
        "\n",
        "# Identificando o tipo de cada variável:\n",
        "display(df_app.dtypes)"
      ],
      "metadata": {
        "id": "h8gR75Kiy-_W"
      },
      "execution_count": null,
      "outputs": []
    },
    {
      "cell_type": "markdown",
      "source": [
        "#**Limpeza e transformação dos dados**\n",
        "\n",
        "Precisamos garantir que os dados que estamos analisando sejam precisos, caso contrário, os resultados de nossa análise estarão errados."
      ],
      "metadata": {
        "id": "69H-L23T8oy1"
      }
    },
    {
      "cell_type": "code",
      "source": [
        "# Corrigindo o nome das colunas:\n",
        "df_app.columns = df_app.columns.str.replace(' ', '_')\n",
        "\n",
        "# Visualizando os dados novamente:\n",
        "df_app.head()"
      ],
      "metadata": {
        "id": "5bST3MD9zGkk"
      },
      "execution_count": null,
      "outputs": []
    },
    {
      "cell_type": "markdown",
      "source": [
        "Será iniciado a análise verificando se há registos duplicados no Dataframe, pois não nos interessa analisar o mesmo aplicativo mais de uma vez."
      ],
      "metadata": {
        "id": "2V6kw9c58ymu"
      }
    },
    {
      "cell_type": "code",
      "source": [
        "# Verificando valores duplicados:\n",
        "if any(df_app.App.duplicated()) is True:\n",
        "   print(f'Existe valores duplicados na coluna \"App\"? {True}')\n",
        "else:\n",
        "   print(f'Existe valores duplicados na coluna \"App\"? {False}')"
      ],
      "metadata": {
        "id": "c4fVRXJVzM08"
      },
      "execution_count": null,
      "outputs": []
    },
    {
      "cell_type": "markdown",
      "source": [
        "Bom, infelizmente temos registros duplicados, portanto, precisamos remover essas entradas duplicadas e manter apenas uma entrada por aplicativo. Uma coisa que poderíamos fazer é remover as linhas duplicadas aleatoriamente, mas vamos encontrar uma maneira melhor."
      ],
      "metadata": {
        "id": "SfqkpOWB88tI"
      }
    },
    {
      "cell_type": "markdown",
      "source": [
        "Quanto maior o número de \"Reviews\", mais recentes devem ser os dados. Em vez de remover duplicatas aleatoriamente, manteremos apenas a linha com o maior número de avaliações e removeremos as outras entradas."
      ],
      "metadata": {
        "id": "NhhnhL9U9Ky8"
      }
    },
    {
      "cell_type": "markdown",
      "source": [
        "\n",
        "Não sabemos a ordem dos registros e se não ordenarmos podemos correr o risco de eliminar um aplicativo que tem uma avaliação alta. Para ordenar pelo número de \"Reviews\" precisamos mudar seu tipo de dado para numérico. Quando tentei fazer a transformação recebi o seguinte erro **\"ValueError: invalid literal for int() with base 10: '3.0M'\"**.\n",
        "Vamos identificar quais linhas têm esse problema:"
      ],
      "metadata": {
        "id": "M5aaUr8f9OMO"
      }
    },
    {
      "cell_type": "code",
      "source": [
        "# Identificando registro:\n",
        "df_app[~df_app.Reviews.str.isnumeric()]"
      ],
      "metadata": {
        "id": "yecGj1q0zQX3"
      },
      "execution_count": null,
      "outputs": []
    },
    {
      "cell_type": "markdown",
      "source": [
        "Apenas um dos registros possue esse problema além disso os registros das outras colunas estão inconsistentes, na coluna \"Category\" por exemplo essa linha possui um valor de 1.9, então vou remover essa linha e transformar o tipo do dado.\n"
      ],
      "metadata": {
        "id": "99B8v9Fr9Vgo"
      }
    },
    {
      "cell_type": "code",
      "source": [
        "# Removendo o registro:\n",
        "df_app.drop(df_app.index[10472], inplace=True)"
      ],
      "metadata": {
        "id": "qZU7_otTzUXx"
      },
      "execution_count": null,
      "outputs": []
    },
    {
      "cell_type": "code",
      "source": [
        "# Convertendo o tipo dos dados:\n",
        "df_app.Reviews = pd.to_numeric(df_app.Reviews)"
      ],
      "metadata": {
        "id": "dwxLo4tNzWgE"
      },
      "execution_count": null,
      "outputs": []
    },
    {
      "cell_type": "markdown",
      "source": [
        "Agora vou remover os valores duplicados mantendo os registros que tem a avaliação mais alta."
      ],
      "metadata": {
        "id": "Iaj3OQe39bQ7"
      }
    },
    {
      "cell_type": "code",
      "source": [
        "# Removendo os aplicativos duplicados:\n",
        "df_app = df_app.sort_values(by='Reviews', ascending=False).drop_duplicates('App', keep='first')\n",
        "\n",
        "# Reorganizando os indices:\n",
        "df_app = df_app.reset_index(drop=True)"
      ],
      "metadata": {
        "id": "TtRESQQRzYsI"
      },
      "execution_count": null,
      "outputs": []
    },
    {
      "cell_type": "code",
      "source": [
        "df_app.head()"
      ],
      "metadata": {
        "id": "5BXCh9TD9onE"
      },
      "execution_count": null,
      "outputs": []
    },
    {
      "cell_type": "markdown",
      "source": [
        "Vamos analisar mais a fundo cada um dos atributos."
      ],
      "metadata": {
        "id": "fJZZ9v439pZF"
      }
    },
    {
      "cell_type": "markdown",
      "source": [
        "## __Size__"
      ],
      "metadata": {
        "id": "hMK-mM-6zdSk"
      }
    },
    {
      "cell_type": "code",
      "source": [
        "# Valores únicos:\n",
        "display(df_app.Size.unique())"
      ],
      "metadata": {
        "id": "98kiogORzg1A"
      },
      "execution_count": null,
      "outputs": []
    },
    {
      "cell_type": "markdown",
      "source": [
        "O tamanho do aplicativo está no formato \"string\". Precisamos convertê-lo em um valor numérico. Se o tamanho estiver acompanhado da string \"k\" (exemplo:\"512k\"), que representa o tamanho do aplicativo em kilobytes, o \"k\" deve ser removido e o tamanho deve ser convertido em um equivalente a 'megabytes'. Depois removemos a string \"M\", mudamos a string \"Varies with device\" para NaN e por último transformamos o tipo de dado para numérico."
      ],
      "metadata": {
        "id": "I80JmmZJ9y21"
      }
    },
    {
      "cell_type": "code",
      "source": [
        "# Limpeza da coluna:\n",
        "df_app.Size = df_app.Size.map(lambda x: str (round ((float (x.rstrip ('k')) / 1024), 1)) if x [-1] == 'k' else x) \n",
        "df_app.Size = df_app.Size.map(lambda x: x.rstrip ('M'))\n",
        "df_app.Size = df_app.Size.map(lambda x: np.nan if x.startswith ('Varies') else x) \n",
        "df_app.Size = df_app.Size.astype(float)"
      ],
      "metadata": {
        "id": "i31K82Ozzk8l"
      },
      "execution_count": null,
      "outputs": []
    },
    {
      "cell_type": "code",
      "source": [
        "# Preenchendo os registros nulos:\n",
        "df_app.Size.fillna(df_app.groupby('Category')['Size'].transform('mean'),inplace = True)"
      ],
      "metadata": {
        "id": "ewMO_OCazoLF"
      },
      "execution_count": null,
      "outputs": []
    },
    {
      "cell_type": "markdown",
      "source": [
        "## __Install__"
      ],
      "metadata": {
        "id": "7z8mxyg4zrPx"
      }
    },
    {
      "cell_type": "code",
      "source": [
        "df_app.Installs.value_counts()"
      ],
      "metadata": {
        "id": "aA9OX271zuHt"
      },
      "execution_count": null,
      "outputs": []
    },
    {
      "cell_type": "markdown",
      "source": [
        "Os números de instalação não parecem precisos o suficiente, podemos ver que a maioria dos valores é (100+, 1.000+, 5.000+ etc.).\n",
        "\n",
        "Não sabemos se um aplicativo com mais de 100.000 instalações possui 100.000 instalações, 200.000 ou 350.000. Posteriormente vamos tentar descobrir quais gêneros de aplicativos atraem mais usuários e para esse propósito não iremos precisar de uma precisão perfeita em relação ao número de usuários.\n",
        "\n",
        "Vamos deixar os números como estão, o que significa que iremos considerar que um aplicativo com mais de 100.000 instalações possui 100.000 instalações e um aplicativo com mais de 1.000.000 instalações possui 1.000.000 instalações e assim por diante. \n",
        "\n",
        "Para realizar esses cálculos, no entanto, vamos precisar converter cada valor de instalação que está como string para número. Isso significa que precisamos remover as vírgulas e os demais caracteres, caso contrário, a conversão falhará e causará um erro."
      ],
      "metadata": {
        "id": "W9RrBl5C96D1"
      }
    },
    {
      "cell_type": "code",
      "source": [
        "# Limpando os dados e convertendo os valores:\n",
        "df_app.Installs = df_app.Installs.apply(lambda x: x.strip('+'))\n",
        "df_app.Installs= df_app.Installs.apply(lambda x: x.replace(',',''))\n",
        "df_app.Installs = pd.to_numeric(df_app.Installs)\n",
        "df_app.Installs.value_counts()"
      ],
      "metadata": {
        "id": "xxv-XRITz0FC"
      },
      "execution_count": null,
      "outputs": []
    },
    {
      "cell_type": "markdown",
      "source": [
        "## __Price__"
      ],
      "metadata": {
        "id": "-kuCme2az4iz"
      }
    },
    {
      "cell_type": "code",
      "source": [
        "# Valores únicos da coluna \"Price\"\n",
        "df_app.Price.unique()"
      ],
      "metadata": {
        "id": "ImGYWU_az3Xq"
      },
      "execution_count": null,
      "outputs": []
    },
    {
      "cell_type": "markdown",
      "source": [
        "O preço está no formato de \"string\". Primeiro precisamos remover o cifrão   para depois convertê-lo em formato numérico."
      ],
      "metadata": {
        "id": "HSW1dZ369-26"
      }
    },
    {
      "cell_type": "code",
      "source": [
        "# Removendo o símbolo monetário e transformando o tipo de dado:\n",
        "df_app.Price=df_app.Price.apply(lambda x: x.replace('$','') if '$' in str(x) else x)\n",
        "df_app.Price = pd.to_numeric(df_app.Price)"
      ],
      "metadata": {
        "id": "I6EdEw9J0CpQ"
      },
      "execution_count": null,
      "outputs": []
    },
    {
      "cell_type": "markdown",
      "source": [
        "## __Content_Rating__"
      ],
      "metadata": {
        "id": "7V7SxOrK0FuB"
      }
    },
    {
      "cell_type": "code",
      "source": [
        "# Valores únicos da coluna:\n",
        "df_app.Content_Rating.unique()"
      ],
      "metadata": {
        "id": "ROaRnj_k0IM0"
      },
      "execution_count": null,
      "outputs": []
    },
    {
      "cell_type": "markdown",
      "source": [
        "**'Unrated'** quer dizer sem classificação, não foi informado para que tipo de público esse app foi disponibilizado, vamos identificar quais são esses aplicativos:"
      ],
      "metadata": {
        "id": "isuzCBWL-IiN"
      }
    },
    {
      "cell_type": "code",
      "source": [
        "# Identificando os aplicativos:\n",
        "df_app.loc[(df_app.Content_Rating == \"Unrated\")]"
      ],
      "metadata": {
        "id": "KOY6YTuK0Pur"
      },
      "execution_count": null,
      "outputs": []
    },
    {
      "cell_type": "markdown",
      "source": [
        "Vamos remover essas duas linhas."
      ],
      "metadata": {
        "id": "i2vJszc0-Mgh"
      }
    },
    {
      "cell_type": "code",
      "source": [
        "# Removendo as linhas:\n",
        "df_app.drop(df_app.index[[4714,8977]], inplace=True)"
      ],
      "metadata": {
        "id": "83ANaDlE0Tzq"
      },
      "execution_count": null,
      "outputs": []
    },
    {
      "cell_type": "markdown",
      "source": [
        "## __Genres__"
      ],
      "metadata": {
        "id": "VwIij3uT0XhV"
      }
    },
    {
      "cell_type": "code",
      "source": [
        "df_app.Genres.unique()"
      ],
      "metadata": {
        "id": "hbYRTO630WjN"
      },
      "execution_count": null,
      "outputs": []
    },
    {
      "cell_type": "markdown",
      "source": [
        "Os dados estão no formato Categoria; Subcategoria. Vamos dividi-los e extrair apenas a categoria principal. "
      ],
      "metadata": {
        "id": "MyuW4RON-RJN"
      }
    },
    {
      "cell_type": "code",
      "source": [
        "# Extraindo a categoria principal:\n",
        "df_app.Genres = df_app.Genres.str.split(';').str[0]\n",
        "df_app.Genres.unique()"
      ],
      "metadata": {
        "id": "piuSBxi30gik"
      },
      "execution_count": null,
      "outputs": []
    },
    {
      "cell_type": "markdown",
      "source": [
        "Observe que entre as categorias temos \"Music & Audio\" e \"Music\", que na verdade são a mesma coisa, vamos corrigir isso."
      ],
      "metadata": {
        "id": "jqsiaTGh-VS2"
      }
    },
    {
      "cell_type": "code",
      "source": [
        "# Corrigindo o nome da categoria.\n",
        "df_app.Genres.replace(['Music & Audio'], 'Music',inplace =True)\n",
        "df_app.Genres.unique()"
      ],
      "metadata": {
        "id": "dj3EbD870o65"
      },
      "execution_count": null,
      "outputs": []
    },
    {
      "cell_type": "markdown",
      "source": [
        "## __Last_Update__"
      ],
      "metadata": {
        "id": "ZEZeW_3U0z4O"
      }
    },
    {
      "cell_type": "code",
      "source": [
        "# Convertendo a data de string para date.\n",
        "from datetime import datetime,date\n",
        "temp = pd.to_datetime(df_app.Last_Updated)"
      ],
      "metadata": {
        "id": "s9GxHcs-0yr3"
      },
      "execution_count": null,
      "outputs": []
    },
    {
      "cell_type": "markdown",
      "source": [
        "Vamos mudar o tipo de dado dessa coluna de string para date. Depois criar uma nova coluna chamada \"Last_Updated_Days\" que conterá a diferença entre a data da última atualização e hoje, assim podemos analisar quanto tempo (em dias) faz que esse aplicativo foi atualizado.\n"
      ],
      "metadata": {
        "id": "57yJKAhy-YsQ"
      }
    },
    {
      "cell_type": "code",
      "source": [
        "# Criando a nova coluna:\n",
        "df_app['Last_Updated_Days'] = temp.apply(lambda x:date.today()-datetime.date(x))\n",
        "df_app.head()"
      ],
      "metadata": {
        "id": "t7qy0Nyb07ns"
      },
      "execution_count": null,
      "outputs": []
    },
    {
      "cell_type": "markdown",
      "source": [
        "## __Android_Ver__"
      ],
      "metadata": {
        "id": "9MdJWunO1Dpr"
      }
    },
    {
      "cell_type": "code",
      "source": [
        "df_app.Android_Ver.unique()"
      ],
      "metadata": {
        "id": "j1ZOvPM31Aui"
      },
      "execution_count": null,
      "outputs": []
    },
    {
      "cell_type": "markdown",
      "source": [
        "A maioria dos valores tem um valor inferior e um valor superior (ou seja, um intervalo), mas o que nos interessa é saber a versão miníma que um dispositivo deve ter para que esse aplicativo funcione."
      ],
      "metadata": {
        "id": "zsIvfIW_-c38"
      }
    },
    {
      "cell_type": "code",
      "source": [
        "# Extraindo a versão miníma:\n",
        "df_app.Android_Ver = df_app.Android_Ver.apply(lambda x:str(x).split(' and ')[0].split(' - ')[0])\n",
        "df_app.Android_Ver = df_app.Android_Ver.replace('4.4W','4.4')"
      ],
      "metadata": {
        "id": "o6IXxbac1KuZ"
      },
      "execution_count": null,
      "outputs": []
    },
    {
      "cell_type": "code",
      "source": [
        "df_app.Android_Ver.unique()"
      ],
      "metadata": {
        "id": "FwaIgMzL1Nhl"
      },
      "execution_count": null,
      "outputs": []
    },
    {
      "cell_type": "markdown",
      "source": [
        "A coluna \"Current_ver\" não será usada em nossa análise."
      ],
      "metadata": {
        "id": "kPOhFlQ_-gZG"
      }
    },
    {
      "cell_type": "code",
      "source": [
        "# Dropando as colunas irrelevantes:\n",
        "def remove_features(lista_features):\n",
        "    ''' Função que remove as colunas irrelevantes '''\n",
        "    for i in lista_features:\n",
        "        df_app.drop(i,axis=1,inplace=True)\n",
        "remove_features(['Current_Ver'])"
      ],
      "metadata": {
        "id": "0dbf7ZDl1QdV"
      },
      "execution_count": null,
      "outputs": []
    },
    {
      "cell_type": "markdown",
      "source": [
        "###**Qual a porcentagem de valores ausentes no dataset?**\n",
        "\n",
        "Vamos analisar se a quantidade de valores nulos são siginificativos comparados ao total de entradas.\n"
      ],
      "metadata": {
        "id": "1834gCgr-l6B"
      }
    },
    {
      "cell_type": "code",
      "source": [
        "# Visualizando os valores faltantes:\n",
        "def missing_value(dataset):\n",
        "  ''' Função que mostra a porcentagem e o total de valores faltantes de cada coluna, ordenando do maior para o menor '''\n",
        "  total = dataset.isnull().sum().sort_values(ascending=False)\n",
        "  percent = dataset.isnull().sum()/dataset.isnull().count().sort_values(ascending=False)\n",
        "  missing_data = pd.concat([total, percent], axis=1, sort=False, keys=['total', 'percent'])\n",
        "  missing_data[missing_data['percent']!=0]\n",
        "  return missing_data"
      ],
      "metadata": {
        "id": "dnuAsho21T5I"
      },
      "execution_count": null,
      "outputs": []
    },
    {
      "cell_type": "code",
      "source": [
        "missing_value(df_app)"
      ],
      "metadata": {
        "id": "y1TAAtAK1WoM"
      },
      "execution_count": null,
      "outputs": []
    },
    {
      "cell_type": "markdown",
      "source": [
        "A coluna **\"Rating\"** representa a classificação que o úsuario deu para o aplicativo, essa coluna tem cerca de 15% de valores faltantes, vamos entender melhor como essa classificação é feita.\n",
        "\n",
        "## **O que é classificar um app?**\n",
        "\n",
        "Na Play Store (loja de aplicativo da google), classificar um app significa deixar a sua nota de avaliação na página de dowloand do aplicativo com ou sem comentário, a base não possui uma coluna com os comentários.\n",
        "\n",
        "Não é obrigatório deixar uma classificação para o app mas isso ajuda e motiva os desenvolvedores.\n",
        "\n",
        "## **Como essa classificação é feita?**\n",
        "\n",
        "Basta clicar nas estrelas que você pretende deixar.\n",
        "\n",
        "![alt text](https://drive.google.com/uc?id=11_EhqLg7QWcK2I0OTRCHYWGTtZKTNDkU)\n",
        "\n",
        "##★☆☆☆☆ – Avaliação muito fraca\n",
        "O usuário não gostou da aplicação, contêm um número exagerado de propagandas e a aplicação não foi bem desenvolvida.\n",
        "\n",
        "##★★☆☆☆ – Avaliação fraca\n",
        "Ainda que seja uma avaliação fraca, o usuário pode ter gostado de alguma funcionalidade do app.\n",
        "\n",
        "##★★★☆☆ – Avaliação razoável\n",
        "O usuário considera que esse aplicativo cumpriu com a sua finalidade, mas precisa melhorar em alguns aspectos, como no desing por exemplo.\n",
        "\n",
        "##★★★★☆ – Avaliação boa\n",
        "Um app com 4 estrelas já é considerado muito bom, cumpre o que promete e foi bem desenvolvido.\n",
        "\n",
        "##★★★★★ – Avaliação ótima\n",
        "O usuário considera que esse app foi bem desenvolvido, tem um bom design, ótima navegação e suas funcionalidades são boas."
      ],
      "metadata": {
        "id": "RThQKd-J-q_f"
      }
    },
    {
      "cell_type": "markdown",
      "source": [
        "Depois que entendemos como essa avaliação é feita, vamos remover os valores faltantes, como eles não possuem uma classificação podemos concluir que esses aplicativos não são atraentes para os usuários.\n",
        "\n",
        "A coluna \"Type\" só tem um valor faltante que também será removido."
      ],
      "metadata": {
        "id": "Skkc5Rew-3xO"
      }
    },
    {
      "cell_type": "code",
      "source": [
        "# Removendo os valores faltantes.\n",
        "df_app.dropna(axis = 0, how ='any', inplace = True)"
      ],
      "metadata": {
        "id": "WoYeMg-A1eih"
      },
      "execution_count": null,
      "outputs": []
    },
    {
      "cell_type": "code",
      "source": [
        "# Verificando se os valores foram preenchidos corretamente\n",
        "missing_value(df_app)"
      ],
      "metadata": {
        "id": "J02ELI8V1irs"
      },
      "execution_count": null,
      "outputs": []
    },
    {
      "cell_type": "markdown",
      "source": [
        "#**Análise Exploratória dos Dados (EDA)**\n",
        "\n",
        "###**Quais são as categorias que tem o maior número de aplicativos?**"
      ],
      "metadata": {
        "id": "kONyCZXa-9QI"
      }
    },
    {
      "cell_type": "code",
      "source": [
        "plt.figure(figsize=(15,7))\n",
        "fig = sns.countplot(x=df_app.Category, palette=\"hls\")\n",
        "plt.xlabel('Categoria')\n",
        "plt.ylabel('Quantidade')\n",
        "plt.title('Total de aplicativos por categoria', size=20)\n",
        "fig.set_xticklabels(fig.get_xticklabels(),rotation=90)\n",
        "plt.show(fig)"
      ],
      "metadata": {
        "id": "VXfCycZI1l8L"
      },
      "execution_count": null,
      "outputs": []
    },
    {
      "cell_type": "markdown",
      "source": [
        "**Family**, **Game** e **Tools** são as categorias com mais aplicativos."
      ],
      "metadata": {
        "id": "CJUGsazr_EP_"
      }
    },
    {
      "cell_type": "code",
      "source": [
        "# Wordcloud com a representação das categorias.\n",
        "wordcloud = WordCloud(max_font_size=300, collocations=False,width=1920, height=1080, background_color=\"white\").generate(' '.join(df_app.Category))\n",
        "plt.figure(figsize=(12,8))\n",
        "plt.imshow(wordcloud, interpolation=\"bilinear\")\n",
        "plt.axis(\"off\")\n",
        "plt.tight_layout(pad=0)\n",
        "plt.show()"
      ],
      "metadata": {
        "id": "4H8aH39H1rev"
      },
      "execution_count": null,
      "outputs": []
    },
    {
      "cell_type": "markdown",
      "source": [
        "###**Os aplicativos são direcionados para quais faixa etárias?**"
      ],
      "metadata": {
        "id": "lG5WVC3K_Hsb"
      }
    },
    {
      "cell_type": "code",
      "source": [
        "plt.figure(figsize=(15,7))\n",
        "fig = sns.countplot(x=df_app.Content_Rating, palette=\"hls\")\n",
        "plt.xlabel('Faixa etária')\n",
        "plt.ylabel('Quantidade')\n",
        "plt.title('Distribuição da faixa etária', size=20)\n",
        "fig.set_xticklabels(fig.get_xticklabels(),rotation=90)\n",
        "plt.show(fig)"
      ],
      "metadata": {
        "id": "sa6YQ1lc1wUv"
      },
      "execution_count": null,
      "outputs": []
    },
    {
      "cell_type": "markdown",
      "source": [
        "A maioria dos aplicativos está disponível para todos os públicos."
      ],
      "metadata": {
        "id": "7K9wpHuZ_rYP"
      }
    },
    {
      "cell_type": "markdown",
      "source": [
        "###**Qual o maior volume de downloads?**\n"
      ],
      "metadata": {
        "id": "tRbOajrf_uqk"
      }
    },
    {
      "cell_type": "code",
      "source": [
        "plt.figure(figsize=(15,7))\n",
        "fig = sns.countplot(x=df_app.Installs, palette=\"hls\")\n",
        "plt.xlabel('Número de downloads')\n",
        "plt.ylabel('Quantidade')\n",
        "plt.title('Distribuição dos downloads', size=20)\n",
        "fig.set_xticklabels(fig.get_xticklabels(),rotation=90)\n",
        "plt.show(fig)"
      ],
      "metadata": {
        "id": "qCioI4Kj10uy"
      },
      "execution_count": null,
      "outputs": []
    },
    {
      "cell_type": "markdown",
      "source": [
        "Muitos aplicativos tiveram cerca de 1 milhão de downloads."
      ],
      "metadata": {
        "id": "05_DHADv_zzV"
      }
    },
    {
      "cell_type": "markdown",
      "source": [
        "###**Quais são os 15 aplicativos com o maior número de downloads?**"
      ],
      "metadata": {
        "id": "3G1Xo6cJ_4CH"
      }
    },
    {
      "cell_type": "code",
      "source": [
        "plt.figure(figsize=(12,8))\n",
        "ax=sns.barplot(y='App',x='Installs',data=df_app.head(15))\n",
        "plt.show()"
      ],
      "metadata": {
        "id": "CqURPhFe16iE"
      },
      "execution_count": null,
      "outputs": []
    },
    {
      "cell_type": "code",
      "source": [
        "# Os 15 aplicativos com mais downloads:\n",
        "df_app.sort_values(by=\"Installs\", ascending=False)[[\"App\", \"Installs\", \"Rating\"]].head(15)"
      ],
      "metadata": {
        "id": "eLjt8sNr2EZX"
      },
      "execution_count": null,
      "outputs": []
    },
    {
      "cell_type": "markdown",
      "source": [
        "###**Quais são os 15 aplicativos com as maiores avaliações?**"
      ],
      "metadata": {
        "id": "ZBNGHsfAABTR"
      }
    },
    {
      "cell_type": "code",
      "source": [
        "plt.figure(figsize=(12,8))\n",
        "ax=sns.barplot(y='App',x='Reviews',data=df_app.head(15))\n",
        "plt.show()"
      ],
      "metadata": {
        "id": "9hz3DRB-2ImE"
      },
      "execution_count": null,
      "outputs": []
    },
    {
      "cell_type": "code",
      "source": [
        "# Os 15 aplicativos com mais avaliações:\n",
        "df_app.sort_values(by=\"Reviews\", ascending=False)[[\"App\", \"Reviews\", \"Rating\"]].head(15)"
      ],
      "metadata": {
        "id": "4c3aeXdK2MdB"
      },
      "execution_count": null,
      "outputs": []
    },
    {
      "cell_type": "markdown",
      "source": [
        "As maiores avaliações são para os aplicativos de rede social, o campeão é o Facebook.\n",
        "\n",
        "\n",
        "\n",
        "![alt text](https://drive.google.com/uc?id=1xN_yspozJbvMn_dXIEP4uWEEmadJz_dB)\n",
        "\n",
        "###**A loja tem mais aplicativos pagos ou gratuitos?**"
      ],
      "metadata": {
        "id": "J0meSRtjAIkP"
      }
    },
    {
      "cell_type": "code",
      "source": [
        "plt.figure(figsize=(10,8))\n",
        "fig = sns.countplot(x=df_app.Type,  palette=\"hls\")\n",
        "plt.xlabel('Tipo')\n",
        "plt.ylabel('Quantidade')\n",
        "plt.title('App Free X App Paid', size=20)\n",
        "fig.set_xticklabels(fig.get_xticklabels(),rotation=90)\n",
        "plt.show(fig)"
      ],
      "metadata": {
        "id": "blWiMkEy2Q_k"
      },
      "execution_count": null,
      "outputs": []
    },
    {
      "cell_type": "markdown",
      "source": [
        "A maioria dos aplicativos da Play Store são gratuitos.\n",
        "\n",
        "###**Entre os aplicativos pagos quais são os preços mais frequentes?**"
      ],
      "metadata": {
        "id": "JROCn7ARAUDR"
      }
    },
    {
      "cell_type": "code",
      "source": [
        "plt.figure(figsize=(15,7))\n",
        "price_app = df_app[df_app.Price != 0.0]\n",
        "price_plot = sns.countplot(price_app.Price, palette = \"hls\")\n",
        "plt.xlabel('Preço')\n",
        "plt.ylabel('Quantidade')\n",
        "plt.title('Número de aplicativos por preço',size = 20)\n",
        "price_plot.set_xticklabels(price_plot.get_xticklabels(), rotation=90, ha=\"right\")\n",
        "plt.show(fig)"
      ],
      "metadata": {
        "id": "7K7Er2BS2UZA"
      },
      "execution_count": null,
      "outputs": []
    },
    {
      "cell_type": "markdown",
      "source": [
        "Filtramos somente os aplicativos pagos para poder observar a sua distribuição. Há um número elevado de aplicativos que custam 0.99 e 3.02 dólares. \n",
        "\n",
        "###**Quais são as classificações mais frequentes?**"
      ],
      "metadata": {
        "id": "wCBJ-8o4AZ6q"
      }
    },
    {
      "cell_type": "code",
      "source": [
        "plt.figure(figsize=(15,7))\n",
        "ratings = sns.countplot(x=\"Rating\",data=df_app, palette = \"hls\")\n",
        "ratings.set_xticklabels(ratings.get_xticklabels(), rotation=90, ha=\"right\")\n",
        "plt.xlabel('Classificação')\n",
        "plt.ylabel('Quantidade')\n",
        "plt.title('Distribuição da classificação',size = 20)\n",
        "plt.show(fig)"
      ],
      "metadata": {
        "id": "JY26KYsb2Z81"
      },
      "execution_count": null,
      "outputs": []
    },
    {
      "cell_type": "markdown",
      "source": [
        "A distribuição da classificação está entre 4.0 e 4.7."
      ],
      "metadata": {
        "id": "TcSJ8DSYAhNx"
      }
    },
    {
      "cell_type": "markdown",
      "source": [
        "##**Conclusão**\n",
        "\n",
        "Depois de toda essa análise podemos concluir que os aplicativos voltados para rede social e games são os que mais atraem os usuários, então um desenvolvedor pode usar essa análise como base para criar seu próximo aplicativo.\n",
        "\n"
      ],
      "metadata": {
        "id": "oWWgdoxPAkbh"
      }
    }
  ]
}