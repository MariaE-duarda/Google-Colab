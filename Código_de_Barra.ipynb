{
  "nbformat": 4,
  "nbformat_minor": 0,
  "metadata": {
    "colab": {
      "name": "Código de Barra.ipynb",
      "private_outputs": true,
      "provenance": [],
      "authorship_tag": "ABX9TyOZZif/TxLzpVxYIqOL5fT7",
      "include_colab_link": true
    },
    "kernelspec": {
      "name": "python3",
      "display_name": "Python 3"
    },
    "language_info": {
      "name": "python"
    }
  },
  "cells": [
    {
      "cell_type": "markdown",
      "metadata": {
        "id": "view-in-github",
        "colab_type": "text"
      },
      "source": [
        "<a href=\"https://colab.research.google.com/github/MariaE-duarda/google_colab-codes/blob/main/C%C3%B3digo_de_Barra.ipynb\" target=\"_parent\"><img src=\"https://colab.research.google.com/assets/colab-badge.svg\" alt=\"Open In Colab\"/></a>"
      ]
    },
    {
      "cell_type": "markdown",
      "source": [
        "# __Código de barra com Python__"
      ],
      "metadata": {
        "id": "CTAzTipOj9j-"
      }
    },
    {
      "cell_type": "markdown",
      "source": [
        "### __Instalação dos pacotes.__"
      ],
      "metadata": {
        "id": "fpRebUH8l9N9"
      }
    },
    {
      "cell_type": "code",
      "source": [
        "pip install python-barcode\n"
      ],
      "metadata": {
        "id": "z6fXbtLulXl8"
      },
      "execution_count": null,
      "outputs": []
    },
    {
      "cell_type": "code",
      "source": [
        "pip install pillow"
      ],
      "metadata": {
        "id": "2rh6tCqZlxyA"
      },
      "execution_count": null,
      "outputs": []
    },
    {
      "cell_type": "markdown",
      "source": [
        "### __Importações necessárias.__"
      ],
      "metadata": {
        "id": "NIrA8dy4mD1A"
      }
    },
    {
      "cell_type": "code",
      "source": [
        "from barcode import EAN13\n",
        "\n",
        "#Importação para conversão de extensão .png\n",
        "from barcode.writer import ImageWriter"
      ],
      "metadata": {
        "id": "WOHTB_FRmPsO"
      },
      "execution_count": null,
      "outputs": []
    },
    {
      "cell_type": "markdown",
      "source": [
        "### Lista de Produtos em uma fábrica"
      ],
      "metadata": {
        "id": "NiPwWI2BkZaA"
      }
    },
    {
      "cell_type": "code",
      "execution_count": null,
      "metadata": {
        "id": "LeVDUUTxji3e"
      },
      "outputs": [],
      "source": [
        "# dicionário contendo produtos\n",
        "codigo_produtos = {\n",
        "    \"Feijao\":   \"551746511111\",\n",
        "    \"Arros\":    \"665789011111\",\n",
        "    \"Macarrao\": \"665887111111\",\n",
        "    \"Azeite\":   \"998556211111\"\n",
        "}\n",
        "\n",
        "# laço de repetição \n",
        "for produto in codigo_produtos:\n",
        "    codigo = codigo_produtos[produto]\n",
        "    codigo_barra = EAN13(codigo, writer=ImageWriter())\n",
        "    codigo_barra.save(f\"codigo_barra_{produto}\")\n"
      ]
    }
  ]
}