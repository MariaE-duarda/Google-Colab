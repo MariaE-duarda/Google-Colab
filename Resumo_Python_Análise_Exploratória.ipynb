{
  "nbformat": 4,
  "nbformat_minor": 0,
  "metadata": {
    "colab": {
      "name": "Resumo Python - Análise Exploratória.ipynb",
      "provenance": [],
      "authorship_tag": "ABX9TyOiKtHbJrZYzF8E7BGROLKe"
    },
    "kernelspec": {
      "name": "python3",
      "display_name": "Python 3"
    },
    "language_info": {
      "name": "python"
    }
  },
  "cells": [
    {
      "cell_type": "markdown",
      "source": [
        "# __Resumo de Python__\n",
        "\n",
        "Resumo de tudo o que já foi estudado nas aulas de Tópicos Especiais de Informática. \n",
        "- Listas;\n",
        "- Tuplas; \n",
        "- Dicionários; \n",
        "- Laços de Repetição; \n",
        "- Estrutura Condicional; \n",
        "- Funções. \n"
      ],
      "metadata": {
        "id": "5t_UVxr9PWzB"
      }
    },
    {
      "cell_type": "markdown",
      "source": [
        "# __Estrutura Condicional__\n",
        "\n",
        "Se uma condição não for verdadeira passará para outra condição e assim por diante. \n",
        "\n",
        "</br> \n",
        "**IF** - É usado acompanhado de uma condição; </br>\n",
        "**ELSE** - Não é necessário condição; ? </br>\n",
        "**ELIF** - Precisa de condição. "
      ],
      "metadata": {
        "id": "2zWFnSMKRb1n"
      }
    },
    {
      "cell_type": "code",
      "execution_count": null,
      "metadata": {
        "colab": {
          "base_uri": "https://localhost:8080/"
        },
        "id": "tcnqQ_IWOsDg",
        "outputId": "d7a270f1-1b34-47e9-9013-194727d9891c"
      },
      "outputs": [
        {
          "output_type": "stream",
          "name": "stdout",
          "text": [
            "Menor de idade.\n"
          ]
        }
      ],
      "source": [
        "# exemplo\n",
        "\n",
        "idade = 17 \n",
        "\n",
        "if (idade > 18): \n",
        "    print(\"Maior de idade!\")\n",
        "else: \n",
        "    print(\"Menor de idade.\")"
      ]
    },
    {
      "cell_type": "code",
      "source": [
        "# Outro exemplo \n",
        "\n",
        "idade_joao = 10\n",
        "idade_maria = 16\n",
        "idade_marcos = 14\n",
        "\n",
        "if (idade_joao > idade_maria and idade_joao > idade_marcos): \n",
        "    print(\"João é o mais velho.\")\n",
        "elif (idade_maria > idade_joao and idade_maria > idade_marcos): \n",
        "    print(\"Maria é a mais velha.\")\n",
        "else: \n",
        "    print(\"Marcos é o mais velho\")"
      ],
      "metadata": {
        "colab": {
          "base_uri": "https://localhost:8080/"
        },
        "id": "B7DjqbMFSGqy",
        "outputId": "b011c3b2-5aa5-40b8-898b-d7a8b3a79387"
      },
      "execution_count": null,
      "outputs": [
        {
          "output_type": "stream",
          "name": "stdout",
          "text": [
            "Maria é a mais velha.\n"
          ]
        }
      ]
    },
    {
      "cell_type": "markdown",
      "source": [
        "# __Lista__\n",
        "\n",
        "Utiliza os \"[ ]\". </br>\n",
        "O primeiro elemento de uma lista é sempre representado por \"0\"."
      ],
      "metadata": {
        "id": "OTSF-B7yTeUt"
      }
    },
    {
      "cell_type": "code",
      "source": [
        "# Criando uma lista \n",
        "\n",
        "lista = [2, 4, 6, 8, 10]\n",
        "\n",
        "# Chamada da lista criada\n",
        "\n",
        "lista "
      ],
      "metadata": {
        "colab": {
          "base_uri": "https://localhost:8080/"
        },
        "id": "des2t3T0T9SQ",
        "outputId": "272c2e51-3ae7-4836-de23-9c88d576b959"
      },
      "execution_count": null,
      "outputs": [
        {
          "output_type": "execute_result",
          "data": {
            "text/plain": [
              "[2, 4, 6, 8, 10]"
            ]
          },
          "metadata": {},
          "execution_count": 6
        }
      ]
    },
    {
      "cell_type": "code",
      "source": [
        "# Saber o tipo da variável \"lista\"\n",
        "\n",
        "type(lista)"
      ],
      "metadata": {
        "colab": {
          "base_uri": "https://localhost:8080/"
        },
        "id": "y9QcJ5ZTUK7V",
        "outputId": "1a8f8505-aecf-4d0b-b1fe-4cc99bdbd0e9"
      },
      "execution_count": null,
      "outputs": [
        {
          "output_type": "execute_result",
          "data": {
            "text/plain": [
              "list"
            ]
          },
          "metadata": {},
          "execution_count": 5
        }
      ]
    },
    {
      "cell_type": "code",
      "source": [
        "# Criando nova lista \n",
        "\n",
        "frutas = ['Maça', 'Banana', 'Goiaba', 'Manga', 'Maracujá']\n",
        "\n",
        "# Chamada de um elemento específico \n",
        "# Elemento na 4° posição / 3° posição em Python\n",
        "\n",
        "frutas[3]\n",
        "\n",
        "# Chamada de todos os elementos da lista\n",
        "frutas[:]\n",
        "\n",
        "# Chamada dos elementos localizados na 2° posição até o 3° elemento\n",
        "frutas[2:4]\n",
        "\n",
        "# Chamada de todos os elementos a partir do elemento localizado na 1° posição\n",
        "frutas[1:]\n",
        "\n",
        "# Chamada de todos os elementos até a 3° posição\n",
        "frutas[:3]"
      ],
      "metadata": {
        "colab": {
          "base_uri": "https://localhost:8080/"
        },
        "id": "DXenRbYmUUXG",
        "outputId": "c20c91cd-3a25-4815-b7da-ef92899161a4"
      },
      "execution_count": null,
      "outputs": [
        {
          "output_type": "execute_result",
          "data": {
            "text/plain": [
              "['Maça', 'Banana', 'Goiaba']"
            ]
          },
          "metadata": {},
          "execution_count": 12
        }
      ]
    },
    {
      "cell_type": "code",
      "source": [
        "# Testando se o elemento melancia está na lista \n",
        "'Melancia' in frutas\n",
        "\n",
        "# Testando se o elemento Maça está na lista\n",
        "'Maça' in frutas"
      ],
      "metadata": {
        "colab": {
          "base_uri": "https://localhost:8080/"
        },
        "id": "oM7eLlrxWGBQ",
        "outputId": "26cb8725-7504-46ee-ba19-0f7f44f73f9f"
      },
      "execution_count": null,
      "outputs": [
        {
          "output_type": "execute_result",
          "data": {
            "text/plain": [
              "True"
            ]
          },
          "metadata": {},
          "execution_count": 15
        }
      ]
    },
    {
      "cell_type": "code",
      "source": [
        "# Reunindo duas listas em uma variável\n",
        "justar_listas = lista + frutas \n",
        "\n",
        "# Chamada da lista criada \n",
        "justar_listas"
      ],
      "metadata": {
        "colab": {
          "base_uri": "https://localhost:8080/"
        },
        "id": "b_tEr0ieWe5u",
        "outputId": "a1a3de9b-51b1-4030-9f71-95050b06f616"
      },
      "execution_count": null,
      "outputs": [
        {
          "output_type": "execute_result",
          "data": {
            "text/plain": [
              "[2, 4, 6, 8, 10, 'Maça', 'Banana', 'Goiaba', 'Manga', 'Maracujá']"
            ]
          },
          "metadata": {},
          "execution_count": 18
        }
      ]
    },
    {
      "cell_type": "code",
      "source": [
        "#Listas dentro de listas \n",
        "lista_2 = [1, 2, 3, ['Maria', 'João', 'Eduarda'], 4, 5, 6]\n",
        "\n",
        "#Chamada do elemento contido dentro da lista\n",
        "lista_2[3][1]"
      ],
      "metadata": {
        "colab": {
          "base_uri": "https://localhost:8080/",
          "height": 35
        },
        "id": "tlz9-qmBXNVY",
        "outputId": "997f4bba-bf99-454b-f15d-744258d4b2e3"
      },
      "execution_count": null,
      "outputs": [
        {
          "output_type": "execute_result",
          "data": {
            "text/plain": [
              "'João'"
            ],
            "application/vnd.google.colaboratory.intrinsic+json": {
              "type": "string"
            }
          },
          "metadata": {},
          "execution_count": 21
        }
      ]
    },
    {
      "cell_type": "code",
      "source": [
        "# Adicionar elementos em um lista \n",
        "\n",
        "lista.append(6)\n",
        "lista\n"
      ],
      "metadata": {
        "id": "aYu8CP65YE9O"
      },
      "execution_count": null,
      "outputs": []
    },
    {
      "cell_type": "code",
      "source": [
        "# Remover elemento em uma lista \n",
        "\n",
        "del(lista[5])\n",
        "lista"
      ],
      "metadata": {
        "colab": {
          "base_uri": "https://localhost:8080/"
        },
        "id": "lzg_46ZQYgqd",
        "outputId": "c3e71d30-2cd7-4f1a-9d5d-9b0ee56c6c47"
      },
      "execution_count": null,
      "outputs": [
        {
          "output_type": "execute_result",
          "data": {
            "text/plain": [
              "[2, 4, 6, 8, 10]"
            ]
          },
          "metadata": {},
          "execution_count": 29
        }
      ]
    },
    {
      "cell_type": "markdown",
      "source": [
        "# __Tuplas__\n",
        "\n",
        "Identificada pelo \"( )\". </br>\n",
        "Imutáveis, ou seja, não pode-se mudar os valores contidos nela. \n"
      ],
      "metadata": {
        "id": "PgvZzdHIXvzP"
      }
    },
    {
      "cell_type": "code",
      "source": [
        "# Criando uma tupla \n",
        "tupla = (1, 2, 3, 4)\n",
        "\n",
        "# Chamando a lista criada \n",
        "tupla"
      ],
      "metadata": {
        "colab": {
          "base_uri": "https://localhost:8080/"
        },
        "id": "liAB8d5VYqtb",
        "outputId": "f450a855-7d51-42f9-8571-72d1ab96bb0b"
      },
      "execution_count": null,
      "outputs": [
        {
          "output_type": "execute_result",
          "data": {
            "text/plain": [
              "(1, 2, 3, 4)"
            ]
          },
          "metadata": {},
          "execution_count": 30
        }
      ]
    },
    {
      "cell_type": "code",
      "source": [
        "# Chamando um elemento específico da tupla criada \n",
        "\n",
        "tupla[0]"
      ],
      "metadata": {
        "colab": {
          "base_uri": "https://localhost:8080/"
        },
        "id": "enXi1FbkZUOX",
        "outputId": "5ce6b9b9-e5be-42bf-bd22-7b66ed6d0f4e"
      },
      "execution_count": null,
      "outputs": [
        {
          "output_type": "execute_result",
          "data": {
            "text/plain": [
              "1"
            ]
          },
          "metadata": {},
          "execution_count": 34
        }
      ]
    },
    {
      "cell_type": "code",
      "source": [
        "# Tentando adicionar um valor na tupla \n",
        "\n",
        "tupla.append(7)\n"
      ],
      "metadata": {
        "colab": {
          "base_uri": "https://localhost:8080/",
          "height": 235
        },
        "id": "i7KLM6zTY0pW",
        "outputId": "80aac466-19b4-471f-8ae4-ed70268b7b69"
      },
      "execution_count": null,
      "outputs": [
        {
          "output_type": "error",
          "ename": "AttributeError",
          "evalue": "ignored",
          "traceback": [
            "\u001b[0;31m---------------------------------------------------------------------------\u001b[0m",
            "\u001b[0;31mAttributeError\u001b[0m                            Traceback (most recent call last)",
            "\u001b[0;32m<ipython-input-32-7ca0f1c14dc8>\u001b[0m in \u001b[0;36m<module>\u001b[0;34m()\u001b[0m\n\u001b[1;32m      1\u001b[0m \u001b[0;31m# Tentando adicionar um valor na tupla\u001b[0m\u001b[0;34m\u001b[0m\u001b[0;34m\u001b[0m\u001b[0;34m\u001b[0m\u001b[0m\n\u001b[1;32m      2\u001b[0m \u001b[0;34m\u001b[0m\u001b[0m\n\u001b[0;32m----> 3\u001b[0;31m \u001b[0mtupla\u001b[0m\u001b[0;34m.\u001b[0m\u001b[0mappend\u001b[0m\u001b[0;34m(\u001b[0m\u001b[0;36m7\u001b[0m\u001b[0;34m)\u001b[0m\u001b[0;34m\u001b[0m\u001b[0;34m\u001b[0m\u001b[0m\n\u001b[0m\u001b[1;32m      4\u001b[0m \u001b[0;34m\u001b[0m\u001b[0m\n\u001b[1;32m      5\u001b[0m \u001b[0;31m# Tentando remover um valor da tupla\u001b[0m\u001b[0;34m\u001b[0m\u001b[0;34m\u001b[0m\u001b[0;34m\u001b[0m\u001b[0m\n",
            "\u001b[0;31mAttributeError\u001b[0m: 'tuple' object has no attribute 'append'"
          ]
        }
      ]
    },
    {
      "cell_type": "code",
      "source": [
        "# Tentando remover um valor da tupla\n",
        "\n",
        "del(tupla[1])"
      ],
      "metadata": {
        "colab": {
          "base_uri": "https://localhost:8080/",
          "height": 201
        },
        "id": "6KeVNQaxZFoM",
        "outputId": "a20c2ff8-38ef-46df-e234-17590561b869"
      },
      "execution_count": null,
      "outputs": [
        {
          "output_type": "error",
          "ename": "TypeError",
          "evalue": "ignored",
          "traceback": [
            "\u001b[0;31m---------------------------------------------------------------------------\u001b[0m",
            "\u001b[0;31mTypeError\u001b[0m                                 Traceback (most recent call last)",
            "\u001b[0;32m<ipython-input-33-d3c4c7d9f47a>\u001b[0m in \u001b[0;36m<module>\u001b[0;34m()\u001b[0m\n\u001b[1;32m      1\u001b[0m \u001b[0;31m# Tentando remover um valor da tupla\u001b[0m\u001b[0;34m\u001b[0m\u001b[0;34m\u001b[0m\u001b[0;34m\u001b[0m\u001b[0m\n\u001b[1;32m      2\u001b[0m \u001b[0;34m\u001b[0m\u001b[0m\n\u001b[0;32m----> 3\u001b[0;31m \u001b[0;32mdel\u001b[0m\u001b[0;34m(\u001b[0m\u001b[0mtupla\u001b[0m\u001b[0;34m[\u001b[0m\u001b[0;36m1\u001b[0m\u001b[0;34m]\u001b[0m\u001b[0;34m)\u001b[0m\u001b[0;34m\u001b[0m\u001b[0;34m\u001b[0m\u001b[0m\n\u001b[0m",
            "\u001b[0;31mTypeError\u001b[0m: 'tuple' object doesn't support item deletion"
          ]
        }
      ]
    },
    {
      "cell_type": "markdown",
      "source": [
        "# __Dicionário__\n",
        "\n",
        "Identificado pelo abre e fecha chaves \"{ }\". "
      ],
      "metadata": {
        "id": "7Oy6Z2BQZctZ"
      }
    },
    {
      "cell_type": "code",
      "source": [
        "# Criando o dicionário\n",
        "cadastro = {'nome': 'Maria', 'idade': 17, 'sexo': 'Feminino'}\n",
        "\n",
        "# Chamando o dicionário criado\n",
        "cadastro "
      ],
      "metadata": {
        "colab": {
          "base_uri": "https://localhost:8080/"
        },
        "id": "0UFHGExSZcSn",
        "outputId": "f0255ffe-f23f-4b16-fd98-923590124f17"
      },
      "execution_count": null,
      "outputs": [
        {
          "output_type": "execute_result",
          "data": {
            "text/plain": [
              "{'idade': 17, 'nome': 'Maria', 'sexo': 'Feminino'}"
            ]
          },
          "metadata": {},
          "execution_count": 35
        }
      ]
    },
    {
      "cell_type": "code",
      "source": [
        "# Verificando o tipo da variável CADASTRO\n",
        "\n",
        "type(cadastro)\n",
        "\n",
        "# dict = dicionário"
      ],
      "metadata": {
        "colab": {
          "base_uri": "https://localhost:8080/"
        },
        "id": "W22a9cneaFF2",
        "outputId": "4d1f09c5-541b-4d6a-db76-370030a5e31c"
      },
      "execution_count": null,
      "outputs": [
        {
          "output_type": "execute_result",
          "data": {
            "text/plain": [
              "dict"
            ]
          },
          "metadata": {},
          "execution_count": 36
        }
      ]
    },
    {
      "cell_type": "code",
      "source": [
        "cadastro['idade']"
      ],
      "metadata": {
        "colab": {
          "base_uri": "https://localhost:8080/"
        },
        "id": "yrH5-UjjaK5I",
        "outputId": "229e71e8-9248-42ac-916a-dac74566eedf"
      },
      "execution_count": null,
      "outputs": [
        {
          "output_type": "execute_result",
          "data": {
            "text/plain": [
              "17"
            ]
          },
          "metadata": {},
          "execution_count": 39
        }
      ]
    },
    {
      "cell_type": "markdown",
      "source": [
        "# Métodos do Dicionário"
      ],
      "metadata": {
        "id": "QtQs93vcadlz"
      }
    },
    {
      "cell_type": "code",
      "source": [
        "# Saber se um determinado elemento está contido no dicionário \n",
        "\n",
        "'Maria' in cadastro.values()\n",
        "\n",
        "# Maria está contida no dicionário cadastro "
      ],
      "metadata": {
        "colab": {
          "base_uri": "https://localhost:8080/"
        },
        "id": "G9cR9SfUacWo",
        "outputId": "b67429cc-678b-4cdb-bec4-33b96b4dda40"
      },
      "execution_count": null,
      "outputs": [
        {
          "output_type": "execute_result",
          "data": {
            "text/plain": [
              "True"
            ]
          },
          "metadata": {},
          "execution_count": 42
        }
      ]
    },
    {
      "cell_type": "code",
      "source": [
        "# Saber se uma chave está contida no dicionário\n",
        "\n",
        "'nome' in cadastro.keys()\n",
        "\n",
        "# A chave nome está presente no dicionário em questão"
      ],
      "metadata": {
        "colab": {
          "base_uri": "https://localhost:8080/"
        },
        "id": "xgk5l73KbSQf",
        "outputId": "3a79de9c-eb7d-4cef-dc79-db5894558cde"
      },
      "execution_count": null,
      "outputs": [
        {
          "output_type": "execute_result",
          "data": {
            "text/plain": [
              "True"
            ]
          },
          "metadata": {},
          "execution_count": 44
        }
      ]
    },
    {
      "cell_type": "code",
      "source": [
        "# Alterar valores do dicionário \n",
        "\n",
        "cadastro['nome'] = 'Eduarda'\n",
        "cadastro"
      ],
      "metadata": {
        "colab": {
          "base_uri": "https://localhost:8080/"
        },
        "id": "mrQGK0wDasZ0",
        "outputId": "ce5efb3c-72a1-4b67-c476-bb3989c22263"
      },
      "execution_count": null,
      "outputs": [
        {
          "output_type": "execute_result",
          "data": {
            "text/plain": [
              "{'idade': 17, 'nome': 'Eduarda', 'sexo': 'Feminino'}"
            ]
          },
          "metadata": {},
          "execution_count": 45
        }
      ]
    },
    {
      "cell_type": "code",
      "source": [
        "# Adicionar valores \n",
        "\n",
        "cadastro['peso'] = 54.6"
      ],
      "metadata": {
        "id": "n7O5aFseb5qI"
      },
      "execution_count": null,
      "outputs": []
    },
    {
      "cell_type": "code",
      "source": [
        "cadastro "
      ],
      "metadata": {
        "colab": {
          "base_uri": "https://localhost:8080/"
        },
        "id": "a10lMf4mb_1L",
        "outputId": "5e37c5a8-6656-43a0-e7e9-d1b10fb92d84"
      },
      "execution_count": null,
      "outputs": [
        {
          "output_type": "execute_result",
          "data": {
            "text/plain": [
              "{'idade': 17, 'nome': 'Eduarda', 'peso': 54.6, 'sexo': 'Feminino'}"
            ]
          },
          "metadata": {},
          "execution_count": 47
        }
      ]
    },
    {
      "cell_type": "code",
      "source": [
        "# Remover valores do dicionário \n",
        "del(cadastro['peso'])"
      ],
      "metadata": {
        "id": "mmdbbAVEcBFE"
      },
      "execution_count": null,
      "outputs": []
    },
    {
      "cell_type": "code",
      "source": [
        "cadastro"
      ],
      "metadata": {
        "colab": {
          "base_uri": "https://localhost:8080/"
        },
        "id": "MqUok2vZcSLZ",
        "outputId": "a971a1d4-912d-4390-962b-bfe1535236ef"
      },
      "execution_count": null,
      "outputs": [
        {
          "output_type": "execute_result",
          "data": {
            "text/plain": [
              "{'idade': 17, 'nome': 'Eduarda', 'sexo': 'Feminino'}"
            ]
          },
          "metadata": {},
          "execution_count": 49
        }
      ]
    },
    {
      "cell_type": "code",
      "source": [
        "# Copiar dicionário \n",
        "\n",
        "cadastro_copia = cadastro"
      ],
      "metadata": {
        "id": "EY9QJ0NGcUHY"
      },
      "execution_count": null,
      "outputs": []
    },
    {
      "cell_type": "code",
      "source": [
        "cadastro_copia"
      ],
      "metadata": {
        "colab": {
          "base_uri": "https://localhost:8080/"
        },
        "id": "BPRBO8GFcbwE",
        "outputId": "7297f64c-b531-4370-bbef-fc1dce477154"
      },
      "execution_count": null,
      "outputs": [
        {
          "output_type": "execute_result",
          "data": {
            "text/plain": [
              "{'idade': 17, 'nome': 'Eduarda', 'sexo': 'Feminino'}"
            ]
          },
          "metadata": {},
          "execution_count": 51
        }
      ]
    },
    {
      "cell_type": "code",
      "source": [
        "# Método para copiar os valores de um dicionário \n",
        "\n",
        "copia_dicionario = cadastro.copy()"
      ],
      "metadata": {
        "id": "7UYZSY5FcdF8"
      },
      "execution_count": null,
      "outputs": []
    },
    {
      "cell_type": "code",
      "source": [
        "copia_dicionario"
      ],
      "metadata": {
        "colab": {
          "base_uri": "https://localhost:8080/"
        },
        "id": "RazbLpA3csdQ",
        "outputId": "c46aedb6-fef5-4723-9b56-3661fc168d9f"
      },
      "execution_count": null,
      "outputs": [
        {
          "output_type": "execute_result",
          "data": {
            "text/plain": [
              "{'idade': 17, 'nome': 'Eduarda', 'sexo': 'Feminino'}"
            ]
          },
          "metadata": {},
          "execution_count": 53
        }
      ]
    },
    {
      "cell_type": "code",
      "source": [
        "# juntar dois dicionários \n",
        "\n",
        "pessoal = {'nome': 'Maria', 'peso': 78, 'altura': 1.78}\n",
        "endereco = {'bairro': 'Várzea', 'numero': 76, 'cidade': 'Catolé do Rocha'}\n",
        "\n",
        "# método update\n",
        "\n",
        "pessoal.update(endereco)"
      ],
      "metadata": {
        "id": "o3GfzRjict45"
      },
      "execution_count": null,
      "outputs": []
    },
    {
      "cell_type": "code",
      "source": [
        "pessoal"
      ],
      "metadata": {
        "colab": {
          "base_uri": "https://localhost:8080/"
        },
        "id": "H7RrIbE2dptF",
        "outputId": "9c60d0c7-e3ac-4fab-e315-936073dd9cd0"
      },
      "execution_count": null,
      "outputs": [
        {
          "output_type": "execute_result",
          "data": {
            "text/plain": [
              "{'altura': 1.78,\n",
              " 'bairro': 'Várzea',\n",
              " 'cidade': 'Catolé do Rocha',\n",
              " 'nome': 'Maria',\n",
              " 'numero': 76,\n",
              " 'peso': 78}"
            ]
          },
          "metadata": {},
          "execution_count": 56
        }
      ]
    },
    {
      "cell_type": "markdown",
      "source": [
        "# __Laços de Repetição__\n",
        "\n",
        "# __While__"
      ],
      "metadata": {
        "id": "JbOeXmmJdyk8"
      }
    },
    {
      "cell_type": "code",
      "source": [
        "numero = 1\n",
        "\n",
        "while (numero <= 10): \n",
        "    print(numero)\n",
        "    numero = numero +1"
      ],
      "metadata": {
        "colab": {
          "base_uri": "https://localhost:8080/"
        },
        "id": "yRbLMgrvd6fL",
        "outputId": "d18f5836-4135-422e-8955-c8bddda0868b"
      },
      "execution_count": null,
      "outputs": [
        {
          "output_type": "stream",
          "name": "stdout",
          "text": [
            "1\n",
            "2\n",
            "3\n",
            "4\n",
            "5\n",
            "6\n",
            "7\n",
            "8\n",
            "9\n",
            "10\n"
          ]
        }
      ]
    },
    {
      "cell_type": "markdown",
      "source": [
        "# __Importando Base de Dados__\n",
        "\n"
      ],
      "metadata": {
        "id": "LRfN9SO7uiYk"
      }
    },
    {
      "cell_type": "code",
      "source": [
        "# Importação das bibliotecas \n",
        "import pandas as pd\n",
        "import numpy as np \n",
        "\n",
        "# Leitura do dataframe\n",
        "df = pd.read_csv(\"/content/obesity_cleaned.csv\")"
      ],
      "metadata": {
        "id": "7Ce41kjMw-Ik"
      },
      "execution_count": 1,
      "outputs": []
    },
    {
      "cell_type": "code",
      "source": [
        "# Chamada do dataframe\n",
        "\n",
        "df"
      ],
      "metadata": {
        "colab": {
          "base_uri": "https://localhost:8080/",
          "height": 424
        },
        "id": "4B2zb_1MxQ-i",
        "outputId": "b47f295d-1d73-41d7-9fa0-20dff989b192"
      },
      "execution_count": 2,
      "outputs": [
        {
          "output_type": "execute_result",
          "data": {
            "text/plain": [
              "       Unnamed: 0      Country  Year       Obesity (%)         Sex\n",
              "0               0  Afghanistan  1975     0.5 [0.2-1.1]  Both sexes\n",
              "1               1  Afghanistan  1975     0.2 [0.0-0.6]        Male\n",
              "2               2  Afghanistan  1975     0.8 [0.2-2.0]      Female\n",
              "3               3  Afghanistan  1976     0.5 [0.2-1.1]  Both sexes\n",
              "4               4  Afghanistan  1976     0.2 [0.0-0.7]        Male\n",
              "...           ...          ...   ...               ...         ...\n",
              "24565       24565     Zimbabwe  2015     4.5 [2.4-7.6]        Male\n",
              "24566       24566     Zimbabwe  2015  24.8 [18.9-31.3]      Female\n",
              "24567       24567     Zimbabwe  2016  15.5 [12.0-19.2]  Both sexes\n",
              "24568       24568     Zimbabwe  2016     4.7 [2.5-8.0]        Male\n",
              "24569       24569     Zimbabwe  2016  25.3 [19.1-32.0]      Female\n",
              "\n",
              "[24570 rows x 5 columns]"
            ],
            "text/html": [
              "\n",
              "  <div id=\"df-9b0518f3-7b91-41f4-8d5e-241ee1548444\">\n",
              "    <div class=\"colab-df-container\">\n",
              "      <div>\n",
              "<style scoped>\n",
              "    .dataframe tbody tr th:only-of-type {\n",
              "        vertical-align: middle;\n",
              "    }\n",
              "\n",
              "    .dataframe tbody tr th {\n",
              "        vertical-align: top;\n",
              "    }\n",
              "\n",
              "    .dataframe thead th {\n",
              "        text-align: right;\n",
              "    }\n",
              "</style>\n",
              "<table border=\"1\" class=\"dataframe\">\n",
              "  <thead>\n",
              "    <tr style=\"text-align: right;\">\n",
              "      <th></th>\n",
              "      <th>Unnamed: 0</th>\n",
              "      <th>Country</th>\n",
              "      <th>Year</th>\n",
              "      <th>Obesity (%)</th>\n",
              "      <th>Sex</th>\n",
              "    </tr>\n",
              "  </thead>\n",
              "  <tbody>\n",
              "    <tr>\n",
              "      <th>0</th>\n",
              "      <td>0</td>\n",
              "      <td>Afghanistan</td>\n",
              "      <td>1975</td>\n",
              "      <td>0.5 [0.2-1.1]</td>\n",
              "      <td>Both sexes</td>\n",
              "    </tr>\n",
              "    <tr>\n",
              "      <th>1</th>\n",
              "      <td>1</td>\n",
              "      <td>Afghanistan</td>\n",
              "      <td>1975</td>\n",
              "      <td>0.2 [0.0-0.6]</td>\n",
              "      <td>Male</td>\n",
              "    </tr>\n",
              "    <tr>\n",
              "      <th>2</th>\n",
              "      <td>2</td>\n",
              "      <td>Afghanistan</td>\n",
              "      <td>1975</td>\n",
              "      <td>0.8 [0.2-2.0]</td>\n",
              "      <td>Female</td>\n",
              "    </tr>\n",
              "    <tr>\n",
              "      <th>3</th>\n",
              "      <td>3</td>\n",
              "      <td>Afghanistan</td>\n",
              "      <td>1976</td>\n",
              "      <td>0.5 [0.2-1.1]</td>\n",
              "      <td>Both sexes</td>\n",
              "    </tr>\n",
              "    <tr>\n",
              "      <th>4</th>\n",
              "      <td>4</td>\n",
              "      <td>Afghanistan</td>\n",
              "      <td>1976</td>\n",
              "      <td>0.2 [0.0-0.7]</td>\n",
              "      <td>Male</td>\n",
              "    </tr>\n",
              "    <tr>\n",
              "      <th>...</th>\n",
              "      <td>...</td>\n",
              "      <td>...</td>\n",
              "      <td>...</td>\n",
              "      <td>...</td>\n",
              "      <td>...</td>\n",
              "    </tr>\n",
              "    <tr>\n",
              "      <th>24565</th>\n",
              "      <td>24565</td>\n",
              "      <td>Zimbabwe</td>\n",
              "      <td>2015</td>\n",
              "      <td>4.5 [2.4-7.6]</td>\n",
              "      <td>Male</td>\n",
              "    </tr>\n",
              "    <tr>\n",
              "      <th>24566</th>\n",
              "      <td>24566</td>\n",
              "      <td>Zimbabwe</td>\n",
              "      <td>2015</td>\n",
              "      <td>24.8 [18.9-31.3]</td>\n",
              "      <td>Female</td>\n",
              "    </tr>\n",
              "    <tr>\n",
              "      <th>24567</th>\n",
              "      <td>24567</td>\n",
              "      <td>Zimbabwe</td>\n",
              "      <td>2016</td>\n",
              "      <td>15.5 [12.0-19.2]</td>\n",
              "      <td>Both sexes</td>\n",
              "    </tr>\n",
              "    <tr>\n",
              "      <th>24568</th>\n",
              "      <td>24568</td>\n",
              "      <td>Zimbabwe</td>\n",
              "      <td>2016</td>\n",
              "      <td>4.7 [2.5-8.0]</td>\n",
              "      <td>Male</td>\n",
              "    </tr>\n",
              "    <tr>\n",
              "      <th>24569</th>\n",
              "      <td>24569</td>\n",
              "      <td>Zimbabwe</td>\n",
              "      <td>2016</td>\n",
              "      <td>25.3 [19.1-32.0]</td>\n",
              "      <td>Female</td>\n",
              "    </tr>\n",
              "  </tbody>\n",
              "</table>\n",
              "<p>24570 rows × 5 columns</p>\n",
              "</div>\n",
              "      <button class=\"colab-df-convert\" onclick=\"convertToInteractive('df-9b0518f3-7b91-41f4-8d5e-241ee1548444')\"\n",
              "              title=\"Convert this dataframe to an interactive table.\"\n",
              "              style=\"display:none;\">\n",
              "        \n",
              "  <svg xmlns=\"http://www.w3.org/2000/svg\" height=\"24px\"viewBox=\"0 0 24 24\"\n",
              "       width=\"24px\">\n",
              "    <path d=\"M0 0h24v24H0V0z\" fill=\"none\"/>\n",
              "    <path d=\"M18.56 5.44l.94 2.06.94-2.06 2.06-.94-2.06-.94-.94-2.06-.94 2.06-2.06.94zm-11 1L8.5 8.5l.94-2.06 2.06-.94-2.06-.94L8.5 2.5l-.94 2.06-2.06.94zm10 10l.94 2.06.94-2.06 2.06-.94-2.06-.94-.94-2.06-.94 2.06-2.06.94z\"/><path d=\"M17.41 7.96l-1.37-1.37c-.4-.4-.92-.59-1.43-.59-.52 0-1.04.2-1.43.59L10.3 9.45l-7.72 7.72c-.78.78-.78 2.05 0 2.83L4 21.41c.39.39.9.59 1.41.59.51 0 1.02-.2 1.41-.59l7.78-7.78 2.81-2.81c.8-.78.8-2.07 0-2.86zM5.41 20L4 18.59l7.72-7.72 1.47 1.35L5.41 20z\"/>\n",
              "  </svg>\n",
              "      </button>\n",
              "      \n",
              "  <style>\n",
              "    .colab-df-container {\n",
              "      display:flex;\n",
              "      flex-wrap:wrap;\n",
              "      gap: 12px;\n",
              "    }\n",
              "\n",
              "    .colab-df-convert {\n",
              "      background-color: #E8F0FE;\n",
              "      border: none;\n",
              "      border-radius: 50%;\n",
              "      cursor: pointer;\n",
              "      display: none;\n",
              "      fill: #1967D2;\n",
              "      height: 32px;\n",
              "      padding: 0 0 0 0;\n",
              "      width: 32px;\n",
              "    }\n",
              "\n",
              "    .colab-df-convert:hover {\n",
              "      background-color: #E2EBFA;\n",
              "      box-shadow: 0px 1px 2px rgba(60, 64, 67, 0.3), 0px 1px 3px 1px rgba(60, 64, 67, 0.15);\n",
              "      fill: #174EA6;\n",
              "    }\n",
              "\n",
              "    [theme=dark] .colab-df-convert {\n",
              "      background-color: #3B4455;\n",
              "      fill: #D2E3FC;\n",
              "    }\n",
              "\n",
              "    [theme=dark] .colab-df-convert:hover {\n",
              "      background-color: #434B5C;\n",
              "      box-shadow: 0px 1px 3px 1px rgba(0, 0, 0, 0.15);\n",
              "      filter: drop-shadow(0px 1px 2px rgba(0, 0, 0, 0.3));\n",
              "      fill: #FFFFFF;\n",
              "    }\n",
              "  </style>\n",
              "\n",
              "      <script>\n",
              "        const buttonEl =\n",
              "          document.querySelector('#df-9b0518f3-7b91-41f4-8d5e-241ee1548444 button.colab-df-convert');\n",
              "        buttonEl.style.display =\n",
              "          google.colab.kernel.accessAllowed ? 'block' : 'none';\n",
              "\n",
              "        async function convertToInteractive(key) {\n",
              "          const element = document.querySelector('#df-9b0518f3-7b91-41f4-8d5e-241ee1548444');\n",
              "          const dataTable =\n",
              "            await google.colab.kernel.invokeFunction('convertToInteractive',\n",
              "                                                     [key], {});\n",
              "          if (!dataTable) return;\n",
              "\n",
              "          const docLinkHtml = 'Like what you see? Visit the ' +\n",
              "            '<a target=\"_blank\" href=https://colab.research.google.com/notebooks/data_table.ipynb>data table notebook</a>'\n",
              "            + ' to learn more about interactive tables.';\n",
              "          element.innerHTML = '';\n",
              "          dataTable['output_type'] = 'display_data';\n",
              "          await google.colab.output.renderOutput(dataTable, element);\n",
              "          const docLink = document.createElement('div');\n",
              "          docLink.innerHTML = docLinkHtml;\n",
              "          element.appendChild(docLink);\n",
              "        }\n",
              "      </script>\n",
              "    </div>\n",
              "  </div>\n",
              "  "
            ]
          },
          "metadata": {},
          "execution_count": 2
        }
      ]
    },
    {
      "cell_type": "code",
      "source": [
        "# Mostrar apenas os 5 primeiro elementos de df \n",
        "df.head()"
      ],
      "metadata": {
        "colab": {
          "base_uri": "https://localhost:8080/",
          "height": 206
        },
        "id": "uq8VK0aWxjnS",
        "outputId": "0b982d4f-a732-4859-dad7-ca36138cae8d"
      },
      "execution_count": 3,
      "outputs": [
        {
          "output_type": "execute_result",
          "data": {
            "text/plain": [
              "   Unnamed: 0      Country  Year    Obesity (%)         Sex\n",
              "0           0  Afghanistan  1975  0.5 [0.2-1.1]  Both sexes\n",
              "1           1  Afghanistan  1975  0.2 [0.0-0.6]        Male\n",
              "2           2  Afghanistan  1975  0.8 [0.2-2.0]      Female\n",
              "3           3  Afghanistan  1976  0.5 [0.2-1.1]  Both sexes\n",
              "4           4  Afghanistan  1976  0.2 [0.0-0.7]        Male"
            ],
            "text/html": [
              "\n",
              "  <div id=\"df-30c853ec-64bf-44be-8630-ae9f800b9c8c\">\n",
              "    <div class=\"colab-df-container\">\n",
              "      <div>\n",
              "<style scoped>\n",
              "    .dataframe tbody tr th:only-of-type {\n",
              "        vertical-align: middle;\n",
              "    }\n",
              "\n",
              "    .dataframe tbody tr th {\n",
              "        vertical-align: top;\n",
              "    }\n",
              "\n",
              "    .dataframe thead th {\n",
              "        text-align: right;\n",
              "    }\n",
              "</style>\n",
              "<table border=\"1\" class=\"dataframe\">\n",
              "  <thead>\n",
              "    <tr style=\"text-align: right;\">\n",
              "      <th></th>\n",
              "      <th>Unnamed: 0</th>\n",
              "      <th>Country</th>\n",
              "      <th>Year</th>\n",
              "      <th>Obesity (%)</th>\n",
              "      <th>Sex</th>\n",
              "    </tr>\n",
              "  </thead>\n",
              "  <tbody>\n",
              "    <tr>\n",
              "      <th>0</th>\n",
              "      <td>0</td>\n",
              "      <td>Afghanistan</td>\n",
              "      <td>1975</td>\n",
              "      <td>0.5 [0.2-1.1]</td>\n",
              "      <td>Both sexes</td>\n",
              "    </tr>\n",
              "    <tr>\n",
              "      <th>1</th>\n",
              "      <td>1</td>\n",
              "      <td>Afghanistan</td>\n",
              "      <td>1975</td>\n",
              "      <td>0.2 [0.0-0.6]</td>\n",
              "      <td>Male</td>\n",
              "    </tr>\n",
              "    <tr>\n",
              "      <th>2</th>\n",
              "      <td>2</td>\n",
              "      <td>Afghanistan</td>\n",
              "      <td>1975</td>\n",
              "      <td>0.8 [0.2-2.0]</td>\n",
              "      <td>Female</td>\n",
              "    </tr>\n",
              "    <tr>\n",
              "      <th>3</th>\n",
              "      <td>3</td>\n",
              "      <td>Afghanistan</td>\n",
              "      <td>1976</td>\n",
              "      <td>0.5 [0.2-1.1]</td>\n",
              "      <td>Both sexes</td>\n",
              "    </tr>\n",
              "    <tr>\n",
              "      <th>4</th>\n",
              "      <td>4</td>\n",
              "      <td>Afghanistan</td>\n",
              "      <td>1976</td>\n",
              "      <td>0.2 [0.0-0.7]</td>\n",
              "      <td>Male</td>\n",
              "    </tr>\n",
              "  </tbody>\n",
              "</table>\n",
              "</div>\n",
              "      <button class=\"colab-df-convert\" onclick=\"convertToInteractive('df-30c853ec-64bf-44be-8630-ae9f800b9c8c')\"\n",
              "              title=\"Convert this dataframe to an interactive table.\"\n",
              "              style=\"display:none;\">\n",
              "        \n",
              "  <svg xmlns=\"http://www.w3.org/2000/svg\" height=\"24px\"viewBox=\"0 0 24 24\"\n",
              "       width=\"24px\">\n",
              "    <path d=\"M0 0h24v24H0V0z\" fill=\"none\"/>\n",
              "    <path d=\"M18.56 5.44l.94 2.06.94-2.06 2.06-.94-2.06-.94-.94-2.06-.94 2.06-2.06.94zm-11 1L8.5 8.5l.94-2.06 2.06-.94-2.06-.94L8.5 2.5l-.94 2.06-2.06.94zm10 10l.94 2.06.94-2.06 2.06-.94-2.06-.94-.94-2.06-.94 2.06-2.06.94z\"/><path d=\"M17.41 7.96l-1.37-1.37c-.4-.4-.92-.59-1.43-.59-.52 0-1.04.2-1.43.59L10.3 9.45l-7.72 7.72c-.78.78-.78 2.05 0 2.83L4 21.41c.39.39.9.59 1.41.59.51 0 1.02-.2 1.41-.59l7.78-7.78 2.81-2.81c.8-.78.8-2.07 0-2.86zM5.41 20L4 18.59l7.72-7.72 1.47 1.35L5.41 20z\"/>\n",
              "  </svg>\n",
              "      </button>\n",
              "      \n",
              "  <style>\n",
              "    .colab-df-container {\n",
              "      display:flex;\n",
              "      flex-wrap:wrap;\n",
              "      gap: 12px;\n",
              "    }\n",
              "\n",
              "    .colab-df-convert {\n",
              "      background-color: #E8F0FE;\n",
              "      border: none;\n",
              "      border-radius: 50%;\n",
              "      cursor: pointer;\n",
              "      display: none;\n",
              "      fill: #1967D2;\n",
              "      height: 32px;\n",
              "      padding: 0 0 0 0;\n",
              "      width: 32px;\n",
              "    }\n",
              "\n",
              "    .colab-df-convert:hover {\n",
              "      background-color: #E2EBFA;\n",
              "      box-shadow: 0px 1px 2px rgba(60, 64, 67, 0.3), 0px 1px 3px 1px rgba(60, 64, 67, 0.15);\n",
              "      fill: #174EA6;\n",
              "    }\n",
              "\n",
              "    [theme=dark] .colab-df-convert {\n",
              "      background-color: #3B4455;\n",
              "      fill: #D2E3FC;\n",
              "    }\n",
              "\n",
              "    [theme=dark] .colab-df-convert:hover {\n",
              "      background-color: #434B5C;\n",
              "      box-shadow: 0px 1px 3px 1px rgba(0, 0, 0, 0.15);\n",
              "      filter: drop-shadow(0px 1px 2px rgba(0, 0, 0, 0.3));\n",
              "      fill: #FFFFFF;\n",
              "    }\n",
              "  </style>\n",
              "\n",
              "      <script>\n",
              "        const buttonEl =\n",
              "          document.querySelector('#df-30c853ec-64bf-44be-8630-ae9f800b9c8c button.colab-df-convert');\n",
              "        buttonEl.style.display =\n",
              "          google.colab.kernel.accessAllowed ? 'block' : 'none';\n",
              "\n",
              "        async function convertToInteractive(key) {\n",
              "          const element = document.querySelector('#df-30c853ec-64bf-44be-8630-ae9f800b9c8c');\n",
              "          const dataTable =\n",
              "            await google.colab.kernel.invokeFunction('convertToInteractive',\n",
              "                                                     [key], {});\n",
              "          if (!dataTable) return;\n",
              "\n",
              "          const docLinkHtml = 'Like what you see? Visit the ' +\n",
              "            '<a target=\"_blank\" href=https://colab.research.google.com/notebooks/data_table.ipynb>data table notebook</a>'\n",
              "            + ' to learn more about interactive tables.';\n",
              "          element.innerHTML = '';\n",
              "          dataTable['output_type'] = 'display_data';\n",
              "          await google.colab.output.renderOutput(dataTable, element);\n",
              "          const docLink = document.createElement('div');\n",
              "          docLink.innerHTML = docLinkHtml;\n",
              "          element.appendChild(docLink);\n",
              "        }\n",
              "      </script>\n",
              "    </div>\n",
              "  </div>\n",
              "  "
            ]
          },
          "metadata": {},
          "execution_count": 3
        }
      ]
    },
    {
      "cell_type": "code",
      "source": [
        "# Mostrar as 10 primeiras linhas do dataframe \n",
        "\n",
        "df.head(10)"
      ],
      "metadata": {
        "colab": {
          "base_uri": "https://localhost:8080/",
          "height": 363
        },
        "id": "PbpkXOHKxvZJ",
        "outputId": "571945a2-d7a0-499d-dd99-ecdb2a208e97"
      },
      "execution_count": 4,
      "outputs": [
        {
          "output_type": "execute_result",
          "data": {
            "text/plain": [
              "   Unnamed: 0      Country  Year    Obesity (%)         Sex\n",
              "0           0  Afghanistan  1975  0.5 [0.2-1.1]  Both sexes\n",
              "1           1  Afghanistan  1975  0.2 [0.0-0.6]        Male\n",
              "2           2  Afghanistan  1975  0.8 [0.2-2.0]      Female\n",
              "3           3  Afghanistan  1976  0.5 [0.2-1.1]  Both sexes\n",
              "4           4  Afghanistan  1976  0.2 [0.0-0.7]        Male\n",
              "5           5  Afghanistan  1976  0.8 [0.2-2.0]      Female\n",
              "6           6  Afghanistan  1977  0.6 [0.2-1.2]  Both sexes\n",
              "7           7  Afghanistan  1977  0.2 [0.0-0.7]        Male\n",
              "8           8  Afghanistan  1977  0.9 [0.3-2.1]      Female\n",
              "9           9  Afghanistan  1978  0.6 [0.2-1.3]  Both sexes"
            ],
            "text/html": [
              "\n",
              "  <div id=\"df-18582c34-4d54-4582-94d8-0ab553b49c35\">\n",
              "    <div class=\"colab-df-container\">\n",
              "      <div>\n",
              "<style scoped>\n",
              "    .dataframe tbody tr th:only-of-type {\n",
              "        vertical-align: middle;\n",
              "    }\n",
              "\n",
              "    .dataframe tbody tr th {\n",
              "        vertical-align: top;\n",
              "    }\n",
              "\n",
              "    .dataframe thead th {\n",
              "        text-align: right;\n",
              "    }\n",
              "</style>\n",
              "<table border=\"1\" class=\"dataframe\">\n",
              "  <thead>\n",
              "    <tr style=\"text-align: right;\">\n",
              "      <th></th>\n",
              "      <th>Unnamed: 0</th>\n",
              "      <th>Country</th>\n",
              "      <th>Year</th>\n",
              "      <th>Obesity (%)</th>\n",
              "      <th>Sex</th>\n",
              "    </tr>\n",
              "  </thead>\n",
              "  <tbody>\n",
              "    <tr>\n",
              "      <th>0</th>\n",
              "      <td>0</td>\n",
              "      <td>Afghanistan</td>\n",
              "      <td>1975</td>\n",
              "      <td>0.5 [0.2-1.1]</td>\n",
              "      <td>Both sexes</td>\n",
              "    </tr>\n",
              "    <tr>\n",
              "      <th>1</th>\n",
              "      <td>1</td>\n",
              "      <td>Afghanistan</td>\n",
              "      <td>1975</td>\n",
              "      <td>0.2 [0.0-0.6]</td>\n",
              "      <td>Male</td>\n",
              "    </tr>\n",
              "    <tr>\n",
              "      <th>2</th>\n",
              "      <td>2</td>\n",
              "      <td>Afghanistan</td>\n",
              "      <td>1975</td>\n",
              "      <td>0.8 [0.2-2.0]</td>\n",
              "      <td>Female</td>\n",
              "    </tr>\n",
              "    <tr>\n",
              "      <th>3</th>\n",
              "      <td>3</td>\n",
              "      <td>Afghanistan</td>\n",
              "      <td>1976</td>\n",
              "      <td>0.5 [0.2-1.1]</td>\n",
              "      <td>Both sexes</td>\n",
              "    </tr>\n",
              "    <tr>\n",
              "      <th>4</th>\n",
              "      <td>4</td>\n",
              "      <td>Afghanistan</td>\n",
              "      <td>1976</td>\n",
              "      <td>0.2 [0.0-0.7]</td>\n",
              "      <td>Male</td>\n",
              "    </tr>\n",
              "    <tr>\n",
              "      <th>5</th>\n",
              "      <td>5</td>\n",
              "      <td>Afghanistan</td>\n",
              "      <td>1976</td>\n",
              "      <td>0.8 [0.2-2.0]</td>\n",
              "      <td>Female</td>\n",
              "    </tr>\n",
              "    <tr>\n",
              "      <th>6</th>\n",
              "      <td>6</td>\n",
              "      <td>Afghanistan</td>\n",
              "      <td>1977</td>\n",
              "      <td>0.6 [0.2-1.2]</td>\n",
              "      <td>Both sexes</td>\n",
              "    </tr>\n",
              "    <tr>\n",
              "      <th>7</th>\n",
              "      <td>7</td>\n",
              "      <td>Afghanistan</td>\n",
              "      <td>1977</td>\n",
              "      <td>0.2 [0.0-0.7]</td>\n",
              "      <td>Male</td>\n",
              "    </tr>\n",
              "    <tr>\n",
              "      <th>8</th>\n",
              "      <td>8</td>\n",
              "      <td>Afghanistan</td>\n",
              "      <td>1977</td>\n",
              "      <td>0.9 [0.3-2.1]</td>\n",
              "      <td>Female</td>\n",
              "    </tr>\n",
              "    <tr>\n",
              "      <th>9</th>\n",
              "      <td>9</td>\n",
              "      <td>Afghanistan</td>\n",
              "      <td>1978</td>\n",
              "      <td>0.6 [0.2-1.3]</td>\n",
              "      <td>Both sexes</td>\n",
              "    </tr>\n",
              "  </tbody>\n",
              "</table>\n",
              "</div>\n",
              "      <button class=\"colab-df-convert\" onclick=\"convertToInteractive('df-18582c34-4d54-4582-94d8-0ab553b49c35')\"\n",
              "              title=\"Convert this dataframe to an interactive table.\"\n",
              "              style=\"display:none;\">\n",
              "        \n",
              "  <svg xmlns=\"http://www.w3.org/2000/svg\" height=\"24px\"viewBox=\"0 0 24 24\"\n",
              "       width=\"24px\">\n",
              "    <path d=\"M0 0h24v24H0V0z\" fill=\"none\"/>\n",
              "    <path d=\"M18.56 5.44l.94 2.06.94-2.06 2.06-.94-2.06-.94-.94-2.06-.94 2.06-2.06.94zm-11 1L8.5 8.5l.94-2.06 2.06-.94-2.06-.94L8.5 2.5l-.94 2.06-2.06.94zm10 10l.94 2.06.94-2.06 2.06-.94-2.06-.94-.94-2.06-.94 2.06-2.06.94z\"/><path d=\"M17.41 7.96l-1.37-1.37c-.4-.4-.92-.59-1.43-.59-.52 0-1.04.2-1.43.59L10.3 9.45l-7.72 7.72c-.78.78-.78 2.05 0 2.83L4 21.41c.39.39.9.59 1.41.59.51 0 1.02-.2 1.41-.59l7.78-7.78 2.81-2.81c.8-.78.8-2.07 0-2.86zM5.41 20L4 18.59l7.72-7.72 1.47 1.35L5.41 20z\"/>\n",
              "  </svg>\n",
              "      </button>\n",
              "      \n",
              "  <style>\n",
              "    .colab-df-container {\n",
              "      display:flex;\n",
              "      flex-wrap:wrap;\n",
              "      gap: 12px;\n",
              "    }\n",
              "\n",
              "    .colab-df-convert {\n",
              "      background-color: #E8F0FE;\n",
              "      border: none;\n",
              "      border-radius: 50%;\n",
              "      cursor: pointer;\n",
              "      display: none;\n",
              "      fill: #1967D2;\n",
              "      height: 32px;\n",
              "      padding: 0 0 0 0;\n",
              "      width: 32px;\n",
              "    }\n",
              "\n",
              "    .colab-df-convert:hover {\n",
              "      background-color: #E2EBFA;\n",
              "      box-shadow: 0px 1px 2px rgba(60, 64, 67, 0.3), 0px 1px 3px 1px rgba(60, 64, 67, 0.15);\n",
              "      fill: #174EA6;\n",
              "    }\n",
              "\n",
              "    [theme=dark] .colab-df-convert {\n",
              "      background-color: #3B4455;\n",
              "      fill: #D2E3FC;\n",
              "    }\n",
              "\n",
              "    [theme=dark] .colab-df-convert:hover {\n",
              "      background-color: #434B5C;\n",
              "      box-shadow: 0px 1px 3px 1px rgba(0, 0, 0, 0.15);\n",
              "      filter: drop-shadow(0px 1px 2px rgba(0, 0, 0, 0.3));\n",
              "      fill: #FFFFFF;\n",
              "    }\n",
              "  </style>\n",
              "\n",
              "      <script>\n",
              "        const buttonEl =\n",
              "          document.querySelector('#df-18582c34-4d54-4582-94d8-0ab553b49c35 button.colab-df-convert');\n",
              "        buttonEl.style.display =\n",
              "          google.colab.kernel.accessAllowed ? 'block' : 'none';\n",
              "\n",
              "        async function convertToInteractive(key) {\n",
              "          const element = document.querySelector('#df-18582c34-4d54-4582-94d8-0ab553b49c35');\n",
              "          const dataTable =\n",
              "            await google.colab.kernel.invokeFunction('convertToInteractive',\n",
              "                                                     [key], {});\n",
              "          if (!dataTable) return;\n",
              "\n",
              "          const docLinkHtml = 'Like what you see? Visit the ' +\n",
              "            '<a target=\"_blank\" href=https://colab.research.google.com/notebooks/data_table.ipynb>data table notebook</a>'\n",
              "            + ' to learn more about interactive tables.';\n",
              "          element.innerHTML = '';\n",
              "          dataTable['output_type'] = 'display_data';\n",
              "          await google.colab.output.renderOutput(dataTable, element);\n",
              "          const docLink = document.createElement('div');\n",
              "          docLink.innerHTML = docLinkHtml;\n",
              "          element.appendChild(docLink);\n",
              "        }\n",
              "      </script>\n",
              "    </div>\n",
              "  </div>\n",
              "  "
            ]
          },
          "metadata": {},
          "execution_count": 4
        }
      ]
    },
    {
      "cell_type": "code",
      "source": [
        "# Obter mais informações sobre o dataframe \n",
        "\n",
        "df.info()"
      ],
      "metadata": {
        "colab": {
          "base_uri": "https://localhost:8080/"
        },
        "id": "52gla6NEx4D6",
        "outputId": "61a08a7f-62a7-41b9-93c5-c56270963253"
      },
      "execution_count": 10,
      "outputs": [
        {
          "output_type": "stream",
          "name": "stdout",
          "text": [
            "<class 'pandas.core.frame.DataFrame'>\n",
            "RangeIndex: 24570 entries, 0 to 24569\n",
            "Data columns (total 5 columns):\n",
            " #   Column       Non-Null Count  Dtype \n",
            "---  ------       --------------  ----- \n",
            " 0   Unnamed: 0   24570 non-null  int64 \n",
            " 1   Country      24570 non-null  object\n",
            " 2   Year         24570 non-null  int64 \n",
            " 3   Obesity (%)  24570 non-null  object\n",
            " 4   Sex          24570 non-null  object\n",
            "dtypes: int64(2), object(3)\n",
            "memory usage: 959.9+ KB\n"
          ]
        }
      ]
    },
    {
      "cell_type": "code",
      "source": [
        "# quantidade de linhas e colunas \n",
        "\n",
        "print('O dataframe apresenta {} linhas e {} colunas.'.format(df.shape[0], df.shape[1]))"
      ],
      "metadata": {
        "colab": {
          "base_uri": "https://localhost:8080/"
        },
        "id": "3Mt8H2TeyKBC",
        "outputId": "ab5091e6-3821-4756-d455-135cc657f17a"
      },
      "execution_count": 9,
      "outputs": [
        {
          "output_type": "stream",
          "name": "stdout",
          "text": [
            "O dataframe apresenta 24570 linhas e 5 colunas.\n"
          ]
        }
      ]
    },
    {
      "cell_type": "code",
      "source": [
        "# Informa os dados de cada pessoa por ano\n",
        "\n",
        "df[\"Year\"].value_counts()"
      ],
      "metadata": {
        "colab": {
          "base_uri": "https://localhost:8080/"
        },
        "id": "95uucOFWyefh",
        "outputId": "405d1200-27dd-438b-ab26-9131d1184aca"
      },
      "execution_count": 12,
      "outputs": [
        {
          "output_type": "execute_result",
          "data": {
            "text/plain": [
              "1975    585\n",
              "2006    585\n",
              "1998    585\n",
              "1999    585\n",
              "2000    585\n",
              "2001    585\n",
              "2002    585\n",
              "2003    585\n",
              "2004    585\n",
              "2005    585\n",
              "2007    585\n",
              "1976    585\n",
              "2008    585\n",
              "2009    585\n",
              "2010    585\n",
              "2011    585\n",
              "2012    585\n",
              "2013    585\n",
              "2014    585\n",
              "2015    585\n",
              "1997    585\n",
              "1996    585\n",
              "1995    585\n",
              "1994    585\n",
              "1977    585\n",
              "1978    585\n",
              "1979    585\n",
              "1980    585\n",
              "1981    585\n",
              "1982    585\n",
              "1983    585\n",
              "1984    585\n",
              "1985    585\n",
              "1986    585\n",
              "1987    585\n",
              "1988    585\n",
              "1989    585\n",
              "1990    585\n",
              "1991    585\n",
              "1992    585\n",
              "1993    585\n",
              "2016    585\n",
              "Name: Year, dtype: int64"
            ]
          },
          "metadata": {},
          "execution_count": 12
        }
      ]
    },
    {
      "cell_type": "code",
      "source": [
        "# Todos os dados da coluna Sex ficarão em maiusculo\n",
        "df[\"Sex\"] = df[\"Sex\"].str.upper()"
      ],
      "metadata": {
        "id": "BNT8objK0V_m"
      },
      "execution_count": 13,
      "outputs": []
    },
    {
      "cell_type": "code",
      "source": [
        "# Chamada de apresentação dos dados \n",
        "df"
      ],
      "metadata": {
        "colab": {
          "base_uri": "https://localhost:8080/",
          "height": 424
        },
        "id": "mK3khpII0s2A",
        "outputId": "ad6ece43-bd8e-410e-c6fa-3668609eee8f"
      },
      "execution_count": 18,
      "outputs": [
        {
          "output_type": "execute_result",
          "data": {
            "text/plain": [
              "       Unnamed: 0      Country  Year       Obesity (%)         Sex\n",
              "0               0  Afghanistan  1975     0.5 [0.2-1.1]  BOTH SEXES\n",
              "1               1  Afghanistan  1975     0.2 [0.0-0.6]        MALE\n",
              "2               2  Afghanistan  1975     0.8 [0.2-2.0]      FEMALE\n",
              "3               3  Afghanistan  1976     0.5 [0.2-1.1]  BOTH SEXES\n",
              "4               4  Afghanistan  1976     0.2 [0.0-0.7]        MALE\n",
              "...           ...          ...   ...               ...         ...\n",
              "24565       24565     Zimbabwe  2015     4.5 [2.4-7.6]        MALE\n",
              "24566       24566     Zimbabwe  2015  24.8 [18.9-31.3]      FEMALE\n",
              "24567       24567     Zimbabwe  2016  15.5 [12.0-19.2]  BOTH SEXES\n",
              "24568       24568     Zimbabwe  2016     4.7 [2.5-8.0]        MALE\n",
              "24569       24569     Zimbabwe  2016  25.3 [19.1-32.0]      FEMALE\n",
              "\n",
              "[24570 rows x 5 columns]"
            ],
            "text/html": [
              "\n",
              "  <div id=\"df-4015f6e2-4b37-45eb-8191-473e7e3c8493\">\n",
              "    <div class=\"colab-df-container\">\n",
              "      <div>\n",
              "<style scoped>\n",
              "    .dataframe tbody tr th:only-of-type {\n",
              "        vertical-align: middle;\n",
              "    }\n",
              "\n",
              "    .dataframe tbody tr th {\n",
              "        vertical-align: top;\n",
              "    }\n",
              "\n",
              "    .dataframe thead th {\n",
              "        text-align: right;\n",
              "    }\n",
              "</style>\n",
              "<table border=\"1\" class=\"dataframe\">\n",
              "  <thead>\n",
              "    <tr style=\"text-align: right;\">\n",
              "      <th></th>\n",
              "      <th>Unnamed: 0</th>\n",
              "      <th>Country</th>\n",
              "      <th>Year</th>\n",
              "      <th>Obesity (%)</th>\n",
              "      <th>Sex</th>\n",
              "    </tr>\n",
              "  </thead>\n",
              "  <tbody>\n",
              "    <tr>\n",
              "      <th>0</th>\n",
              "      <td>0</td>\n",
              "      <td>Afghanistan</td>\n",
              "      <td>1975</td>\n",
              "      <td>0.5 [0.2-1.1]</td>\n",
              "      <td>BOTH SEXES</td>\n",
              "    </tr>\n",
              "    <tr>\n",
              "      <th>1</th>\n",
              "      <td>1</td>\n",
              "      <td>Afghanistan</td>\n",
              "      <td>1975</td>\n",
              "      <td>0.2 [0.0-0.6]</td>\n",
              "      <td>MALE</td>\n",
              "    </tr>\n",
              "    <tr>\n",
              "      <th>2</th>\n",
              "      <td>2</td>\n",
              "      <td>Afghanistan</td>\n",
              "      <td>1975</td>\n",
              "      <td>0.8 [0.2-2.0]</td>\n",
              "      <td>FEMALE</td>\n",
              "    </tr>\n",
              "    <tr>\n",
              "      <th>3</th>\n",
              "      <td>3</td>\n",
              "      <td>Afghanistan</td>\n",
              "      <td>1976</td>\n",
              "      <td>0.5 [0.2-1.1]</td>\n",
              "      <td>BOTH SEXES</td>\n",
              "    </tr>\n",
              "    <tr>\n",
              "      <th>4</th>\n",
              "      <td>4</td>\n",
              "      <td>Afghanistan</td>\n",
              "      <td>1976</td>\n",
              "      <td>0.2 [0.0-0.7]</td>\n",
              "      <td>MALE</td>\n",
              "    </tr>\n",
              "    <tr>\n",
              "      <th>...</th>\n",
              "      <td>...</td>\n",
              "      <td>...</td>\n",
              "      <td>...</td>\n",
              "      <td>...</td>\n",
              "      <td>...</td>\n",
              "    </tr>\n",
              "    <tr>\n",
              "      <th>24565</th>\n",
              "      <td>24565</td>\n",
              "      <td>Zimbabwe</td>\n",
              "      <td>2015</td>\n",
              "      <td>4.5 [2.4-7.6]</td>\n",
              "      <td>MALE</td>\n",
              "    </tr>\n",
              "    <tr>\n",
              "      <th>24566</th>\n",
              "      <td>24566</td>\n",
              "      <td>Zimbabwe</td>\n",
              "      <td>2015</td>\n",
              "      <td>24.8 [18.9-31.3]</td>\n",
              "      <td>FEMALE</td>\n",
              "    </tr>\n",
              "    <tr>\n",
              "      <th>24567</th>\n",
              "      <td>24567</td>\n",
              "      <td>Zimbabwe</td>\n",
              "      <td>2016</td>\n",
              "      <td>15.5 [12.0-19.2]</td>\n",
              "      <td>BOTH SEXES</td>\n",
              "    </tr>\n",
              "    <tr>\n",
              "      <th>24568</th>\n",
              "      <td>24568</td>\n",
              "      <td>Zimbabwe</td>\n",
              "      <td>2016</td>\n",
              "      <td>4.7 [2.5-8.0]</td>\n",
              "      <td>MALE</td>\n",
              "    </tr>\n",
              "    <tr>\n",
              "      <th>24569</th>\n",
              "      <td>24569</td>\n",
              "      <td>Zimbabwe</td>\n",
              "      <td>2016</td>\n",
              "      <td>25.3 [19.1-32.0]</td>\n",
              "      <td>FEMALE</td>\n",
              "    </tr>\n",
              "  </tbody>\n",
              "</table>\n",
              "<p>24570 rows × 5 columns</p>\n",
              "</div>\n",
              "      <button class=\"colab-df-convert\" onclick=\"convertToInteractive('df-4015f6e2-4b37-45eb-8191-473e7e3c8493')\"\n",
              "              title=\"Convert this dataframe to an interactive table.\"\n",
              "              style=\"display:none;\">\n",
              "        \n",
              "  <svg xmlns=\"http://www.w3.org/2000/svg\" height=\"24px\"viewBox=\"0 0 24 24\"\n",
              "       width=\"24px\">\n",
              "    <path d=\"M0 0h24v24H0V0z\" fill=\"none\"/>\n",
              "    <path d=\"M18.56 5.44l.94 2.06.94-2.06 2.06-.94-2.06-.94-.94-2.06-.94 2.06-2.06.94zm-11 1L8.5 8.5l.94-2.06 2.06-.94-2.06-.94L8.5 2.5l-.94 2.06-2.06.94zm10 10l.94 2.06.94-2.06 2.06-.94-2.06-.94-.94-2.06-.94 2.06-2.06.94z\"/><path d=\"M17.41 7.96l-1.37-1.37c-.4-.4-.92-.59-1.43-.59-.52 0-1.04.2-1.43.59L10.3 9.45l-7.72 7.72c-.78.78-.78 2.05 0 2.83L4 21.41c.39.39.9.59 1.41.59.51 0 1.02-.2 1.41-.59l7.78-7.78 2.81-2.81c.8-.78.8-2.07 0-2.86zM5.41 20L4 18.59l7.72-7.72 1.47 1.35L5.41 20z\"/>\n",
              "  </svg>\n",
              "      </button>\n",
              "      \n",
              "  <style>\n",
              "    .colab-df-container {\n",
              "      display:flex;\n",
              "      flex-wrap:wrap;\n",
              "      gap: 12px;\n",
              "    }\n",
              "\n",
              "    .colab-df-convert {\n",
              "      background-color: #E8F0FE;\n",
              "      border: none;\n",
              "      border-radius: 50%;\n",
              "      cursor: pointer;\n",
              "      display: none;\n",
              "      fill: #1967D2;\n",
              "      height: 32px;\n",
              "      padding: 0 0 0 0;\n",
              "      width: 32px;\n",
              "    }\n",
              "\n",
              "    .colab-df-convert:hover {\n",
              "      background-color: #E2EBFA;\n",
              "      box-shadow: 0px 1px 2px rgba(60, 64, 67, 0.3), 0px 1px 3px 1px rgba(60, 64, 67, 0.15);\n",
              "      fill: #174EA6;\n",
              "    }\n",
              "\n",
              "    [theme=dark] .colab-df-convert {\n",
              "      background-color: #3B4455;\n",
              "      fill: #D2E3FC;\n",
              "    }\n",
              "\n",
              "    [theme=dark] .colab-df-convert:hover {\n",
              "      background-color: #434B5C;\n",
              "      box-shadow: 0px 1px 3px 1px rgba(0, 0, 0, 0.15);\n",
              "      filter: drop-shadow(0px 1px 2px rgba(0, 0, 0, 0.3));\n",
              "      fill: #FFFFFF;\n",
              "    }\n",
              "  </style>\n",
              "\n",
              "      <script>\n",
              "        const buttonEl =\n",
              "          document.querySelector('#df-4015f6e2-4b37-45eb-8191-473e7e3c8493 button.colab-df-convert');\n",
              "        buttonEl.style.display =\n",
              "          google.colab.kernel.accessAllowed ? 'block' : 'none';\n",
              "\n",
              "        async function convertToInteractive(key) {\n",
              "          const element = document.querySelector('#df-4015f6e2-4b37-45eb-8191-473e7e3c8493');\n",
              "          const dataTable =\n",
              "            await google.colab.kernel.invokeFunction('convertToInteractive',\n",
              "                                                     [key], {});\n",
              "          if (!dataTable) return;\n",
              "\n",
              "          const docLinkHtml = 'Like what you see? Visit the ' +\n",
              "            '<a target=\"_blank\" href=https://colab.research.google.com/notebooks/data_table.ipynb>data table notebook</a>'\n",
              "            + ' to learn more about interactive tables.';\n",
              "          element.innerHTML = '';\n",
              "          dataTable['output_type'] = 'display_data';\n",
              "          await google.colab.output.renderOutput(dataTable, element);\n",
              "          const docLink = document.createElement('div');\n",
              "          docLink.innerHTML = docLinkHtml;\n",
              "          element.appendChild(docLink);\n",
              "        }\n",
              "      </script>\n",
              "    </div>\n",
              "  </div>\n",
              "  "
            ]
          },
          "metadata": {},
          "execution_count": 18
        }
      ]
    },
    {
      "cell_type": "code",
      "source": [
        "# Informa quantas pessoas são do sexo (masculino, feminino e ambos os sexos)\n",
        "df['Sex'].value_counts().head()"
      ],
      "metadata": {
        "colab": {
          "base_uri": "https://localhost:8080/"
        },
        "id": "qOYanWjv02v4",
        "outputId": "7ed3b24f-ea8a-46ed-a440-130ec66e63e9"
      },
      "execution_count": 16,
      "outputs": [
        {
          "output_type": "execute_result",
          "data": {
            "text/plain": [
              "BOTH SEXES    8190\n",
              "MALE          8190\n",
              "FEMALE        8190\n",
              "Name: Sex, dtype: int64"
            ]
          },
          "metadata": {},
          "execution_count": 16
        }
      ]
    },
    {
      "cell_type": "code",
      "source": [
        "# Informa quantas pessoas possui cada nível de obesidade \n",
        "df['Obesity (%)'].value_counts()"
      ],
      "metadata": {
        "colab": {
          "base_uri": "https://localhost:8080/"
        },
        "id": "af2rv1J01BA5",
        "outputId": "d52eb3f9-a9a3-4c19-9cbc-42bd352e5026"
      },
      "execution_count": 17,
      "outputs": [
        {
          "output_type": "execute_result",
          "data": {
            "text/plain": [
              "No data            504\n",
              "0.4 [0.1-1.0]       55\n",
              "0.6 [0.2-1.3]       47\n",
              "0.3 [0.1-0.7]       46\n",
              "0.3 [0.1-0.8]       46\n",
              "                  ... \n",
              "9.5 [6.7-13.1]       1\n",
              "4.4 [2.2-7.6]        1\n",
              "14.1 [9.1-20.3]      1\n",
              "9.8 [6.9-13.4]       1\n",
              "4.7 [2.5-8.0]        1\n",
              "Name: Obesity (%), Length: 16375, dtype: int64"
            ]
          },
          "metadata": {},
          "execution_count": 17
        }
      ]
    }
  ]
}