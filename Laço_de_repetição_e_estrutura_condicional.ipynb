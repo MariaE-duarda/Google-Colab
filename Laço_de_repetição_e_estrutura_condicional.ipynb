{
  "nbformat": 4,
  "nbformat_minor": 0,
  "metadata": {
    "colab": {
      "name": "Laço de repetição e estrutura condicional.ipynb",
      "provenance": [],
      "authorship_tag": "ABX9TyM8sRufHHLHuRRKipolWks3",
      "include_colab_link": true
    },
    "kernelspec": {
      "name": "python3",
      "display_name": "Python 3"
    },
    "language_info": {
      "name": "python"
    }
  },
  "cells": [
    {
      "cell_type": "markdown",
      "metadata": {
        "id": "view-in-github",
        "colab_type": "text"
      },
      "source": [
        "<a href=\"https://colab.research.google.com/github/MariaE-duarda/google_colab-codes/blob/main/La%C3%A7o_de_repeti%C3%A7%C3%A3o_e_estrutura_condicional.ipynb\" target=\"_parent\"><img src=\"https://colab.research.google.com/assets/colab-badge.svg\" alt=\"Open In Colab\"/></a>"
      ]
    },
    {
      "cell_type": "markdown",
      "source": [
        "# __Estruturas de condição__"
      ],
      "metadata": {
        "id": "dA7EjLx2PfUY"
      }
    },
    {
      "cell_type": "markdown",
      "source": [
        "### Estruturas de condição são artifícios das linguagens de programação para determinar qual bloco de código será executado a partir de uma determinada condição. No Python, assim como em outras linguagens, podemos trabalhar com as estruturas de condição utilizando o if/else como veremos abaixo."
      ],
      "metadata": {
        "id": "qcDHCUeHPk-k"
      }
    },
    {
      "cell_type": "markdown",
      "source": [
        "## __If/Else__"
      ],
      "metadata": {
        "id": "muLQxiw5Psz8"
      }
    },
    {
      "cell_type": "markdown",
      "source": [
        "O if e o else são comandos que verificam determinada condição na programação.\n",
        "\n",
        "O uso do if em um programa em Python visa verificar se determinada ação é verdadeira e executar o bloco de código contido em seu escopo. Basicamente é feita da seguinte forma:\n",
        "\n"
      ],
      "metadata": {
        "id": "sDtp6-H7Pw2H"
      }
    },
    {
      "cell_type": "code",
      "execution_count": 1,
      "metadata": {
        "colab": {
          "base_uri": "https://localhost:8080/"
        },
        "id": "GJZfRBx9NEzq",
        "outputId": "260ceaaa-a38c-423c-fa7c-93476a0488f3"
      },
      "outputs": [
        {
          "output_type": "stream",
          "name": "stdout",
          "text": [
            "Reprovado!\n"
          ]
        }
      ],
      "source": [
        "média = 5 \n",
        "\n",
        "if média < 7: \n",
        "    print('Reprovado!')"
      ]
    },
    {
      "cell_type": "code",
      "source": [
        "média = int(input(\"Sua média: \"))\n",
        "\n",
        "if média >= 7 :\n",
        "    print('Aprovado')\n",
        "else:\n",
        "    print('Reprovado')\n",
        "\n",
        "if média >= 7: \n",
        "    print('Passou de ano.')\n",
        "else : \n",
        "    print('Fará prova final.')"
      ],
      "metadata": {
        "colab": {
          "base_uri": "https://localhost:8080/"
        },
        "id": "FPWX0l7BOTqt",
        "outputId": "d137fd3c-83ea-423f-e546-27d93fa4aa2f"
      },
      "execution_count": 5,
      "outputs": [
        {
          "output_type": "stream",
          "name": "stdout",
          "text": [
            "Sua média: 7\n",
            "Aprovado\n",
            "Passou de ano.\n"
          ]
        }
      ]
    },
    {
      "cell_type": "markdown",
      "source": [
        "# __Estruturas de Repetição__"
      ],
      "metadata": {
        "id": "4DYUbipEQAFU"
      }
    },
    {
      "cell_type": "markdown",
      "source": [
        "### Estruturas de repetição são artifícios das linguagens de programação para executar um determinado bloco de código por uma certa quantidade de vezes, seja ela definida (utilizando o for) ou a partir de uma condição (utilizando o while)."
      ],
      "metadata": {
        "id": "eqltbzarQDvj"
      }
    },
    {
      "cell_type": "markdown",
      "source": [
        "## __While__"
      ],
      "metadata": {
        "id": "z5m0omECQhWX"
      }
    },
    {
      "cell_type": "markdown",
      "source": [
        "O while é uma estrutura de repetição que permite executar um determinado bloco de código enquanto uma condição for verdadeira. É muito similar ao if, com a diferença que o bloco será executado enquanto a condição for verdadeira, e não se a condição for verdadeira. Para isso, após o comando while precisamos definir uma condição que será testada a cada execução do seu loop."
      ],
      "metadata": {
        "id": "uBIQDu3QQyjy"
      }
    },
    {
      "cell_type": "code",
      "source": [
        "gastos = 0\n",
        "valor_gasto = 0\n",
        "while gastos < 1000:\n",
        "    valor_gasto = int(input(\"Digite o valor do novo gasto\"))\n",
        "    gastos = gastos + valor_gasto\n",
        "\n",
        "print(gastos)"
      ],
      "metadata": {
        "colab": {
          "base_uri": "https://localhost:8080/"
        },
        "id": "t-CRDKT8Qkzh",
        "outputId": "71e5bcbd-e4be-409e-8fcb-c2ea6ae879dc"
      },
      "execution_count": 6,
      "outputs": [
        {
          "output_type": "stream",
          "name": "stdout",
          "text": [
            "Digite o valor do novo gasto100\n",
            "Digite o valor do novo gasto200\n",
            "Digite o valor do novo gasto100\n",
            "Digite o valor do novo gasto900\n",
            "1300\n"
          ]
        }
      ]
    },
    {
      "cell_type": "markdown",
      "source": [
        "## __For...in__"
      ],
      "metadata": {
        "id": "OubcESBHRBQL"
      }
    },
    {
      "cell_type": "markdown",
      "source": [
        "Diferente do while, o for executará um determinado bloco de código por um número definido de vezes. Esta estrutura é muito útil quando já sabemos a quantidade de vezes que precisamos executar determinado bloco de código. "
      ],
      "metadata": {
        "id": "fpLBu-7uRLr9"
      }
    },
    {
      "cell_type": "code",
      "source": [
        "for i in range(1, 10):\n",
        "    print(i)"
      ],
      "metadata": {
        "colab": {
          "base_uri": "https://localhost:8080/"
        },
        "id": "FZh37uefRM4X",
        "outputId": "3a0584d2-867e-4ed5-b52c-579eac0017ca"
      },
      "execution_count": 7,
      "outputs": [
        {
          "output_type": "stream",
          "name": "stdout",
          "text": [
            "1\n",
            "2\n",
            "3\n",
            "4\n",
            "5\n",
            "6\n",
            "7\n",
            "8\n",
            "9\n"
          ]
        }
      ]
    }
  ]
}