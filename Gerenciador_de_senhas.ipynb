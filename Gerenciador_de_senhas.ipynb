{
  "nbformat": 4,
  "nbformat_minor": 0,
  "metadata": {
    "colab": {
      "name": "Gerenciador de senhas.ipynb",
      "provenance": [],
      "authorship_tag": "ABX9TyMvr6QEn2N5tskIr3440C/4"
    },
    "kernelspec": {
      "name": "python3",
      "display_name": "Python 3"
    },
    "language_info": {
      "name": "python"
    }
  },
  "cells": [
    {
      "cell_type": "code",
      "execution_count": null,
      "metadata": {
        "colab": {
          "base_uri": "https://localhost:8080/"
        },
        "id": "IYU8zgcx5D-R",
        "outputId": "52c720a7-0613-4d51-b2f1-84cfa56ac759"
      },
      "outputs": [
        {
          "output_type": "stream",
          "name": "stdout",
          "text": [
            "Insira sua senha master: \n",
            "Senha inválida! Encerrando... \n",
            "**********\n",
            "* i : inserir nova senha\n",
            "* l : listar serviço salvos\n",
            "* r : recuperar uma senha\n",
            "* s : sair\n",
            "**********\n"
          ]
        }
      ],
      "source": [
        "import sqlite3 \n",
        "\n",
        "MASTER_PASSWORD = '123456'\n",
        "senha = print('Insira sua senha master: ')\n",
        "if senha != MASTER_PASSWORD:\n",
        "    print('Senha inválida! Encerrando... ')\n",
        "conn = sqlite3.connect('password.db')\n",
        "cursor = conn.cursor()\n",
        "\n",
        "cursor.execute(''' CREATE TABLE IF NOT EXISTS users (\n",
        "    service TEXT NOT NULL,\n",
        "    username TEXT NOT NULL, \n",
        "    password TEXT NOT NULL\n",
        "); ''')\n",
        "\n",
        "def menu():\n",
        "    print(\"**********\")\n",
        "    print(\"* i : inserir nova senha\")\n",
        "    print(\"* l : listar serviço salvos\")\n",
        "    print(\"* r : recuperar uma senha\")\n",
        "    print(\"* s : sair\")\n",
        "    print(\"**********\")\n",
        "\n",
        "while True: \n",
        "    menu()\n",
        "    op = input(\"O que deseja fazer? \")\n",
        "    if op not in ['l', 'i', 'r']:\n",
        "        print('Opção inválida!')\n",
        "        continue \n",
        "    if op == 's': \n",
        "        break \n",
        "\n",
        "conn.close() "
      ]
    }
  ]
}