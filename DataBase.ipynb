{
  "nbformat": 4,
  "nbformat_minor": 0,
  "metadata": {
    "colab": {
      "name": "DataBase.ipynb",
      "private_outputs": true,
      "provenance": [],
      "authorship_tag": "ABX9TyO2z50LhgbLieegVEWly0Q8",
      "include_colab_link": true
    },
    "kernelspec": {
      "name": "python3",
      "display_name": "Python 3"
    },
    "language_info": {
      "name": "python"
    }
  },
  "cells": [
    {
      "cell_type": "markdown",
      "metadata": {
        "id": "view-in-github",
        "colab_type": "text"
      },
      "source": [
        "<a href=\"https://colab.research.google.com/github/MariaE-duarda/google_colab-codes/blob/main/DataBase.ipynb\" target=\"_parent\"><img src=\"https://colab.research.google.com/assets/colab-badge.svg\" alt=\"Open In Colab\"/></a>"
      ]
    },
    {
      "cell_type": "markdown",
      "source": [
        "## __Exercício__\n",
        "Baixe o arquivo bestsellers_with_categories_2022_03_27.csv, faça o upload para o colab e crie um novo arquivo com as seguintes colunas: name, author, rating e price."
      ],
      "metadata": {
        "id": "_QRXPq_xGtRN"
      }
    },
    {
      "cell_type": "code",
      "execution_count": null,
      "metadata": {
        "id": "4xfitGjdCxDk"
      },
      "outputs": [],
      "source": [
        "file = open(\"/content/bestsellers_with_categories_2022_03_27.csv\",\"r\")\n",
        "dados = file.read()\n",
        "dados = dados.split('\\n')\n",
        "\n",
        "names  = []\n",
        "authors = []\n",
        "ratings = []\n",
        "prices = []\n",
        "for dado in dados:\n",
        "  if dado != '':\n",
        "    dado = dado.split(',')\n",
        "    names.append(dado[0])\n",
        "    authors.append(dado[1])\n",
        "    ratings.append(dado[2])\n",
        "    prices.append(dado[4])"
      ]
    },
    {
      "cell_type": "code",
      "source": [
        "for name, author, rating, price in zip(names, authors, ratings, prices):\n",
        "  print(name, author, rating, price)"
      ],
      "metadata": {
        "id": "qvsnvgfQEdbQ"
      },
      "execution_count": null,
      "outputs": []
    },
    {
      "cell_type": "code",
      "source": [
        "new_file = open('/content/bestsellers_with_categories_2022_03_27-1.csv','w')\n",
        "for name, author, rating, price in zip(names, authors, ratings, prices):\n",
        "  new_file.write(name+';'+author+';'+rating+';'+price+'\\n')\n",
        "new_file.close()"
      ],
      "metadata": {
        "id": "4nkiQb3OFI2e"
      },
      "execution_count": null,
      "outputs": []
    }
  ]
}